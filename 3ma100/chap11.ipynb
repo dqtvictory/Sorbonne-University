{
 "cells": [
  {
   "cell_type": "markdown",
   "metadata": {},
   "source": [
    "<!-- dom:TITLE: Programmation Python  pour les mathématiques -->\n",
    "# Programmation Python  pour les mathématiques\n",
    "<!-- dom:AUTHOR: Julien Guillod at [Sorbonne Université](http://www.sorbonne-universite.fr/), -->\n",
    "<!-- Author: -->  \n",
    "**Julien Guillod**, [Sorbonne Université](http://www.sorbonne-universite.fr/),\n",
    "Licence <a href=\"https://creativecommons.org/licenses/by-nc-nd/4.0/\">CC BY-NC-ND</a>\n",
    "\n",
    "\n",
    "L'entier des chapitres est disponible au format\n",
    "[HTML](https://python.guillod.org//) et [PDF](https://python.guillod.org//python.pdf).\n",
    "Ce notebook peut également être exécuté sur [mybinder](https://mybinder.org/v2/gh/juguillod/python/master?filepath=chap11.ipynb).\n",
    "\n",
    "\n",
    "\n",
    "\n",
    "\n",
    "\n",
    "# 11 Cryptographie\n",
    "<div id=\"ch:cryptographie\"></div>\n",
    "\n",
    "Depuis le code de César, les méthodes cryptographiques permettant de transmettre des messages secrets ont évoluées en suivant les progrès permettant de les casser. La méthode Vigenère qui est une amélioration du code de César sera étudiée, et nous verrons comment il est possible de casser cette méthode de chiffrement. Ensuite, la méthode de chiffrement RSA qui est une des méthodes de cryptographie asymétrique les plus utilisées actuellement sera introduite.\n",
    "\n",
    "**Concepts abordés.**\n",
    "\n",
    "* code Vigenère\n",
    "\n",
    "* plus grand divisieur commun\n",
    "\n",
    "* importation de texte\n",
    "\n",
    "* nombre premier et pseudo-premier\n",
    "\n",
    "* petit théorème de Fermat\n",
    "\n",
    "* algorithme d'Eucilde\n",
    "\n",
    "* algorithme de Rabin-Miller\n",
    "\n",
    "* optimisation par décorateur\n",
    "\n",
    "* chiffrement asymétrique RSA\n",
    "\n",
    "\n",
    "\n",
    "\n",
    "\n",
    "<!-- --- begin exercise --- -->\n",
    "\n",
    "# Exercice 11.1: Code de Vigenère\n",
    "\n",
    "Le code de Vigenère consiste à choisir une clef formée par un mot secret (en majuscules) et à le transformer en un vecteur dont les éléments sont les positions de ces lettres dans l'alphabet. Par exemple, \"ASECRET\" correspond à (0, 18, 4, 2, 17, 4, 19). Pour coder un texte (en majuscules, sans espace ni ponctuation) avec la clef \"ASECRET\" il suffit de décaler la première lettre par 0, la seconde par 18, la troisième par 4, et ainsi de suite et de recommencer en boucle. Les détails en particulier historiques sont disponibles sur [Wikipédia](https://fr.wikipedia.org/wiki/Chiffre_de_Vigenère).\n",
    "\n",
    "\n",
    "**a)**\n",
    "Écrire une fonction `to_int(s)` qui transforme un caractère en sa place dans l'alphabet et écrire la fonction inverse `to_chr(i)`.\n",
    "\n",
    "<!-- --- begin hint in exercise --- -->\n",
    "\n",
    "**Indication:**\n",
    "Voir la documentation des fonctions `ord` et `chr`.\n",
    "\n",
    "<!-- --- end hint in exercise --- -->\n",
    "\n"
   ]
  },
  {
   "cell_type": "code",
   "execution_count": 1,
   "metadata": {},
   "outputs": [
    {
     "name": "stdout",
     "output_type": "stream",
     "text": [
      "18\n",
      "S\n"
     ]
    }
   ],
   "source": [
    "def to_int(s):\n",
    "    return ord(s)-65\n",
    "\n",
    "def to_chr(i):\n",
    "    return chr(i+65)\n",
    "\n",
    "print(to_int('S'))\n",
    "print(to_chr(18))"
   ]
  },
  {
   "cell_type": "markdown",
   "metadata": {},
   "source": [
    "\n",
    "**b)**\n",
    "Écrire une fonction `crypt(text, key)` qui chiffre `text` avec le mot secret `key`.\n",
    "\n"
   ]
  },
  {
   "cell_type": "code",
   "execution_count": 2,
   "metadata": {},
   "outputs": [
    {
     "data": {
      "text/plain": [
       "'14 25 15 17 17 19 22 11 13 19 21 21'"
      ]
     },
     "execution_count": 2,
     "metadata": {},
     "output_type": "execute_result"
    }
   ],
   "source": [
    "from itertools import cycle\n",
    "\n",
    "def crypt(text, key):\n",
    "    code = [str((to_int(char_text) + to_int(char_key))%26) for char_text, char_key in zip(text, cycle(key))]\n",
    "    return \" \".join(code)\n",
    "\n",
    "text = 'VIVELAFRANCE'\n",
    "key = 'TRUNG'\n",
    "crypt(text, key)"
   ]
  },
  {
   "cell_type": "markdown",
   "metadata": {},
   "source": [
    "\n",
    "**c)**\n",
    "Écrire une fonction permettant de déchiffrer un texte en connaissant la clef.\n",
    "\n"
   ]
  },
  {
   "cell_type": "code",
   "execution_count": 3,
   "metadata": {},
   "outputs": [
    {
     "data": {
      "text/plain": [
       "'VIVELAFRANCE'"
      ]
     },
     "execution_count": 3,
     "metadata": {},
     "output_type": "execute_result"
    }
   ],
   "source": [
    "def decrypt(code, key):\n",
    "    code_int = list(map(int, code.split(\" \")))\n",
    "    text = [to_chr((num - to_int(char))%26) for num, char in zip(code_int, cycle(key))]\n",
    "    return \"\".join(text)\n",
    "\n",
    "code = '14 25 15 17 17 19 22 11 13 19 21 21'\n",
    "decrypt(code, key)"
   ]
  },
  {
   "cell_type": "markdown",
   "metadata": {},
   "source": [
    "\n",
    "\n",
    "<!-- --- end exercise --- -->\n",
    "\n",
    "\n",
    "\n",
    "\n",
    "<!-- --- begin exercise --- -->\n",
    "\n",
    "# Exercice 11.2: <span style=\"color:red\">!</span> Casser le code de Vigenère\n",
    "\n",
    "Charles Babbage a été le premier a casser le code de Vigenère. L'idée est que trois lettres consécutives apparaissant plusieurs fois dans le texte chiffré ont toutes les chances d'être la conséquence du chiffrement des mêmes lettres du message avec les mêmes lettres de la clé. Cela est encore plus probable avec un groupe de quatre lettres. Ainsi l'espacement entre deux mêmes groupes de lettres chiffrées est un multiple de la longueur de la clé. Par exemple, si la répétition d'un groupe est espacée de 28 lettres, puis celle d'un autre de 91, le plus grand diviseur commun de 28 et 91 est 7. Ainsi il est probable que la clé possède 7 lettres. Ensuite connaissant la taille de la clef, il suffit de se baser sur le fait que la lettre \"E\" est la plus courante en français. Pour que cette stratégie ait une chance de réussir, il faut que la taille du texte soit assez importante.\n",
    "\n",
    "\n",
    "**a)**\n",
    "Écrire une fonction permettant de calculer le plus grand diviseur commun (PGDC) entre deux nombre. Écrire une autre fonction permettant de calculer le PGDC entre une liste de nombres.\n",
    "\n"
   ]
  },
  {
   "cell_type": "code",
   "execution_count": 4,
   "metadata": {},
   "outputs": [
    {
     "data": {
      "text/plain": [
       "7"
      ]
     },
     "execution_count": 4,
     "metadata": {},
     "output_type": "execute_result"
    }
   ],
   "source": [
    "from functools import reduce\n",
    "\n",
    "def pgcd(a, b):\n",
    "    while b != 0:\n",
    "        r = a % b\n",
    "        a, b = b, r\n",
    "    return a\n",
    "\n",
    "def pgcd_nums(nums):\n",
    "    return reduce(pgcd, nums)\n",
    "\n",
    "pgcd_nums([28,91,21,49,77])"
   ]
  },
  {
   "cell_type": "markdown",
   "metadata": {},
   "source": [
    "\n",
    "**b)**\n",
    "Visiter le site du projet [Gutenberg](http://www.gutenberg.org/browse/languages/fr), choisir votre texte français préféré et télécharger-le au format \"Plain Text\". Écrire une fonction qui convertisse le texte en majuscules et le débarrasse de toute la ponctuation et autre.\n",
    "\n",
    "<!-- --- begin hint in exercise --- -->\n",
    "\n",
    "**Indication:**\n",
    "Pour convertir un texte en majuscules (en convertissant les accents) et supprimer tous les caractères de ponctuations et autres, il est possible d'utiliser la fonction suivante:"
   ]
  },
  {
   "cell_type": "code",
   "execution_count": 5,
   "metadata": {},
   "outputs": [
    {
     "data": {
      "text/plain": [
       "'CESTUNEMATIEREGRAVEATRAITERDANSLESANNALESDUNPAYSCOMMELAFRANCEQUELHISTOIREDESSALONSDEPARISDEPUISUNECERTAINEEPOQUECETTEHISTOIRESETROUVEETROITEMENTLIEEACELLEDUPAYSETSURTOUTAUXINTRIGUESTOUJOURSATTACHEESAUXPLANSPOLITIQUESQUISILONGTEMPSBOULEVERSERENTLEROYAUMELEPOQUEDELANAISSANCEDELASOCIETEENFRANCEDANSLACCEPTIONPOSITIVEDECEMOTREMONTEAUREGNEDUCARDINALDERICHELIEUENRAPPELANTLANOBLESSEAUTOURDUTRONEENLUIASSIGNANTDESFONCTIONSCREANTPOURELLEDESCHARGESETDESPLACESDONTSONORGUEILDEVAITJOUIRRICHELIEUDONNADELASECURITEALACOURONNESANSCESSEEXPOSEEPARLESCAPRICESDUNGRANDSEIGNEURCOMMELEDUCDEBOUILLONLEDUCDELONGUEVILLELEDUCDEMONTBAZONETUNEFOULEDAUTRESQUIPLUSLIBRESDANSLEURSCHATEAUXETAIENTCONSPIRATEURSPARETATETPARGOUTLAREUNIONDETOUSCESGRANDSNOMSAUTOURDUTRONELUIDONNAPLUSQUEDELASECURITEILENDOUBLALAMAJESTEMAISAUSSILEPREMIERCOUPFUTPORTEALANOBLESSEELLENEUTPLUSDESLORSDECESGRANDESENTREPRISESACONDUIREQUIMETTAIENTENPERILALAFOISLATETEDESCONSPIRATEURSETLESORTDELETATRICHELIEUAVECCETTEJUSTESSEDECOUPDILQUILUIFITVOIRLEMALSOUSTOUTESSESFACESLECONJURAENAPPELANTLANOBLESSEAULOUVREMAISILNEPUTLEMPECHERDECONSERVERCEQUIETAITINHERENTASANATURETOUJOURSPORTEEALINTRIGUEETAUMOUVEMENTCESTAINSIQUEMEMESOUSLEMINISTEREDERICHELIEUONCONSPIRAITDANSPARISCHEZLESFEMMESDEHAUTEIMPORTANCETELLESQUELAPRINCESSEPALATINEMADAMEDECHEVREUSEMADAMEDELONGUEVILLEETUNEFOULEDEFEMMESTOUTESPUISSANTESPARLEURPOSITIONDANSLEMONDELEURESPRITOULEURBEAUTEAVIDESDEPOUVOIRCESMEMESFEMMESSAISIRENTAUSSITOTQUELLESLECOMPRIRENTLEMOYENQUELECARDINALLUIMEMELEURAVAITLAISSEELLESREGNAIENTAVANTDANSUNEVILLEELOIGNEEUNCHATEAUFORTHABITEPARDESHOMMESDONTLEMEILLEURETLEPLUSAGREABLENETAITSOUVENTQUUNMALAPPRISMAINTENANTELLESETAIENTAUMILIEUDEPARISDECELIEUQUIMEMEACETTEEPOQUEOUILNETAITPASEMBELLIPARTOUTLEPRESTIGEDELASOCIETEPARISIENNEDECETTESOCIETEQUISILONGTEMPSDONNAPARTOUTENEUROPELEMODELEDUGOUTETDESFACONSPARFAITEMENTNOBLESETELEGANTESFORMAITDEJALEPARFAITGENTILHOMMECEFUTALORSDANSCHAQUEMAISONPARTICULIEREQUILFALLUTCHERCHERUNEREINEDONNANTSESLOISETDIRIGEANTUNEOPINIONCESTDANSLESMEMOIRESDUCARDINALDERETZDANSCELIVREMODELEQUONPEUTRECONNAITRECETTEVERITEDANSCEUXDEMADAMEDEMOTTEVILLEVOYEZLABBEDEGONDYLUIMEMEARRIVANTCHEZMADAMEDECHEVREUSESUIVEZLEDANSLESDETOURSQUONLUIFAITPARCOURIRUNENUITPOURPARVENIRJUSQUALADUCHESSELORSQUILESTCEPENDANTLAMIDESAFILLEVOUSLERENCONTREZENSUITEDANSLESSALONSAPEINEORGANISESAVECMDEBEAUFORTMLEDUCDENEMOURSMDELAROCHEFOUCAULDETVOUSETESADMISAUXSECRETSIMPORTANTSDELEPOQUELESALONDEMADAMEDELONGUEVILLECELUIDEMADEMOISELLEDEMADAMEDELAFAYETTEDEVIENNENTCOMMEDESCLUBSAUNEEPOQUEREVOLUTIONNAIREGASTONMANNEQUINDELABBEDELARIVIEREDIRIGETOUTDUPALAISROYALETLACOURELLEMEMENESTPLUSQUUNINSTRUMENT'"
      ]
     },
     "execution_count": 5,
     "metadata": {},
     "output_type": "execute_result"
    }
   ],
   "source": [
    "import unicodedata, re\n",
    "\n",
    "def convert_upper(text):\n",
    "    # Convert letters to uppercase\n",
    "    text = text.upper()\n",
    "    # Un-accent letters\n",
    "    text = unicodedata.normalize('NFKD', text)\n",
    "    # Remove special characters\n",
    "    regex = re.compile('[^a-zA-Z]')\n",
    "    text = regex.sub('', text)\n",
    "    return text\n",
    "\n",
    "original_text = \"C'est une matière grave à traiter dans les annales d'un pays comme la France, que l'Histoire des salons de Paris. Depuis une certaine époque, cette histoire se trouve étroitement liée à celle du pays, et surtout aux intrigues toujours attachées aux plans politiques qui si longtemps bouleversèrent le royaume. L'époque de la naissance de la société en France, dans l'acception positive de ce mot, remonte au règne du cardinal de Richelieu. En rappelant la noblesse autour du trône, en lui assignant des fonctions, créant pour elle des charges et des places, dont son orgueil devait jouir, Richelieu donna de la sécurité à la Couronne, sans cesse exposée par les caprices d'un grand seigneur, comme le duc de Bouillon, le duc de Longueville, le duc de Montbazon, et une foule d'autres qui, plus libres dans leurs châteaux, étaient conspirateurs par état et par goût. La réunion de tous ces grands noms autour du trône lui donna plus que de la sécurité, il en doubla la majesté; mais aussi le premier coup fut porté à la noblesse: elle n'eut plus dès-lors de ces grandes entreprises à conduire, qui mettaient en péril à la fois la tête des conspirateurs et le sort de l'État. Richelieu, avec cette justesse de coup d'œil qui lui fit voir le mal sous toutes ses faces, le conjura en appelant la noblesse au Louvre; mais il ne put l'empêcher de conserver ce qui était inhérent à sa nature, toujours portée à l'intrigue et au mouvement. C'est ainsi que, même sous le ministère de Richelieu, on conspirait dans Paris chez les femmes de haute importance, telles que la princesse Palatine, madame de Chevreuse, madame de Longueville, et une foule de femmes toutes-puissantes par leur position dans le monde, leur esprit ou leur beauté... Avides de pouvoir, ces mêmes femmes saisirent, aussitôt qu'elles le comprirent, le moyen que le cardinal lui-même leur avait laissé. Elles régnaient avant dans une ville éloignée, un château-fort habité par des hommes dont le meilleur et le plus agréable n'était souvent qu'un mal-appris; maintenant elles étaient au milieu de Paris, de ce lieu qui, même à cette époque, où il n'était pas embelli par tout le prestige de la Société Parisienne, de cette société qui si longtemps donna partout, en Europe, le modèle du goût et des façons parfaitement nobles et élégantes, formait déjà le parfait gentilhomme. Ce fut alors dans chaque maison particulière qu'il fallut chercher une reine donnant ses lois et dirigeant une opinion. C'est dans les Mémoires du cardinal de Retz, dans ce livre-modèle, qu'on peut reconnaître cette vérité, dans ceux de madame de Motteville. Voyez l'abbé de Gondy lui-même arrivant chez madame de Chevreuse. Suivez-le dans les détours qu'on lui fait parcourir une nuit, pour parvenir jusqu'à la duchesse, lorsqu'il est cependant l'ami de sa fille[1]. Vous le rencontrez ensuite dans les salons à peine organisés, avec M. de Beaufort, M. le duc de Nemours, M. de La Rochefoucauld, et vous êtes admis aux secrets importants de l'époque.... Le salon de madame de Longueville, celui de Mademoiselle, de madame de Lafayette, deviennent comme des clubs à une époque révolutionnaire. Gaston, mannequin de l'abbé de Larivière, dirige tout du Palais-Royal, et la Cour elle-même n'est plus qu'un instrument.\"\n",
    "\n",
    "text = convert_upper(original_text)\n",
    "text"
   ]
  },
  {
   "cell_type": "markdown",
   "metadata": {},
   "source": [
    "https://www.quora.com/How-can-I-crack-the-Vigenere-cipher-without-knowing-the-key"
   ]
  },
  {
   "cell_type": "markdown",
   "metadata": {},
   "source": [
    "<!-- --- end hint in exercise --- -->\n",
    "\n"
   ]
  },
  {
   "cell_type": "markdown",
   "metadata": {},
   "source": [
    "\n",
    "**c)**\n",
    "Garder environ 1000 caractères au milieu du texte choisi et chiffrer le avec une clef. Écrire ensuite une fonction permettant de déterminer la longueur de la clef en regardant dans le message chiffré les chaînes identiques de trois caractères ou plus.\n",
    "\n",
    "<!-- --- begin hint in exercise --- -->\n",
    "\n",
    "**Indication:**\n",
    "Former tout d'abord un dictionnaire avec comme clef toutes les occurrences de trois lettres et comme valeur les positions de occurrences. Ensuite déterminer la liste des distances entre les occurrences de trois lettres, puis calculer le PGCD de ces distances. Si ce PGCD est égal à 1 ou est trop petit, alors il réessayer mais avec des mots de longueur plus grande.\n",
    "\n",
    "<!-- --- end hint in exercise --- -->\n",
    "\n"
   ]
  },
  {
   "cell_type": "code",
   "execution_count": 6,
   "metadata": {},
   "outputs": [
    {
     "name": "stdout",
     "output_type": "stream",
     "text": [
      "Key: PARIS, real length: 5, predicted length: 5\n",
      "Key: FRANCE, real length: 6, predicted length: 6\n",
      "Key: ANTIDISESTABLISHMENTARIANISM, real length: 28, predicted length: 28\n"
     ]
    }
   ],
   "source": [
    "def n_letters_distances(crypted_msg, n):\n",
    "    dic = dict()\n",
    "    \n",
    "    for i in range(len(crypted_msg) - n):\n",
    "        three_letters = crypted_msg[i: i+n]\n",
    "        if three_letters not in dic:\n",
    "            dic[three_letters] = []\n",
    "        dic[three_letters].append(i)\n",
    "    \n",
    "    set_distance = set()\n",
    "    for key in dic.keys():\n",
    "        if len(dic[key]) == 1:\n",
    "            continue\n",
    "        distance_to_1st = dic[key][0]\n",
    "        for num in dic[key]:\n",
    "            if num - distance_to_1st != 0:\n",
    "                set_distance.add(num - distance_to_1st)\n",
    "    return set_distance\n",
    "\n",
    "def key_length(code):\n",
    "    crypted_msg = \"\".join(map(lambda x: to_chr(int(x)), code.split(\" \")))\n",
    "    n = 3\n",
    "    while pgcd_nums(n_letters_distances(crypted_msg, n)) <= 3:  # We assume that all keys must be complicated enough to have at least 4 characters\n",
    "        n += 1\n",
    "        if n == 10:\n",
    "            return (\"Cannot determine key length\")\n",
    "    return pgcd_nums(n_letters_distances(crypted_msg, n))\n",
    "\n",
    "keys = [\"PARIS\", \"FRANCE\", \"ANTIDISESTABLISHMENTARIANISM\"]\n",
    "for key in keys:\n",
    "    code = crypt(text, key)\n",
    "    print(f\"Key: {key}, real length: {len(key)}, predicted length: {key_length(code)}\")"
   ]
  },
  {
   "cell_type": "markdown",
   "metadata": {},
   "source": [
    "\n",
    "**d)**\n",
    "Écrire une fonction permettant de décrypter un message chiffré en retournant la clef. Essayer de décrypter le texte de votre auteur favori avec cette fonction.\n",
    "\n",
    "<!-- --- begin hint in exercise --- -->\n",
    "\n",
    "**Indication:**\n",
    "Pour trouver la première lettre de la clef, il faut calculer le nombre d'occurrences des 26 lettres de l'alphabet dans le message chiffré qui ont été chiffé avec le premier caractère de la clef. La lettre ayant l'occurrence maximale doit correspondre à la lettre \"E\". Il suffit ensuite de faire la même chose pour trouver les autres lettres de la clef.\n",
    "\n",
    "<!-- --- end hint in exercise --- -->\n",
    "\n"
   ]
  },
  {
   "cell_type": "code",
   "execution_count": 7,
   "metadata": {},
   "outputs": [
    {
     "name": "stdout",
     "output_type": "stream",
     "text": [
      "Real key: PARIS. Guessed key: PARIS\n",
      "Real key: FRANCE. Guessed key: FRANCE\n",
      "Real key: VIVELAFRANCE. Guessed key: VIVELAFRANCE\n",
      "Real key: DAMQUANGTRUNG. Guessed key: DAMQUANGTRUNG\n",
      "Real key: ANTIDISESTABLISHMENTARIANISM. Guessed key: ANTIDISESTABLISHWANTARIAXISM\n"
     ]
    }
   ],
   "source": [
    "def guess_key(code):\n",
    "    length = key_length(code)\n",
    "    letters_list = code.split(\" \")\n",
    "    \n",
    "    cryptograms = [[]]*length\n",
    "    for i, letter in enumerate(letters_list):\n",
    "        if not cryptograms[i % length]:\n",
    "            cryptograms[i % length] = [0]*26\n",
    "        cryptograms[i % length][int(letter)] += 1\n",
    "    key = \"\"\n",
    "    for crypto in cryptograms:\n",
    "        max_where = max(range(len(crypto)), key=lambda i: crypto[i])\n",
    "        key_char = to_chr((max_where - 4)%26)\n",
    "        key += key_char\n",
    "    return key\n",
    "\n",
    "keys = [\"PARIS\", \"FRANCE\", \"VIVELAFRANCE\", \"DAMQUANGTRUNG\", \"ANTIDISESTABLISHMENTARIANISM\"]\n",
    "for key in keys:\n",
    "    code = crypt(text, key)\n",
    "    print(f\"Real key: {key}. Guessed key: {guess_key(code)}\")"
   ]
  },
  {
   "cell_type": "markdown",
   "metadata": {},
   "source": [
    "> ### __The moral of the story is, the shorter and more common the key, the easier it is to crack using basic methods__"
   ]
  },
  {
   "cell_type": "markdown",
   "metadata": {},
   "source": [
    "\n",
    "<!-- --- end exercise --- -->\n",
    "\n",
    "\n",
    "\n",
    "\n",
    "<!-- --- begin exercise --- -->\n",
    "\n",
    "# Exercice 11.3: Générer des nombres premiers\n",
    "\n",
    "La plupart des algorithmes de cryptage actuels sont basés sur l'utilisation de grands nombres premiers. Le but est d'écrire une fonction permettant de générer relativement rapidement des nombres dit pseudo-premiers, c'est-à-dire qui sont premiers avec une probabilité extrêmement grande. La première étape est de générer un grand nombre aléatoire, c'est-à-dire ayant un certain nombre de bits. Ensuite un test de primalité permet de décider si ce nombre est premier ou pas. Si $\\pi(n)$ désigne le nombre de nombres premiers $\\leq n$ alors, asymptotiquement $\\pi(n) \\approx \\frac{n}{\\ln n}$. Ainsi en tirant au hasard un nombre inférieur à $n$ la probabilité qu'il soit premier est d'environ $1/\\ln(n)$. Par exemple pour générer un nombre premier de 1024 bits (le minimum garantissant une sécurité raisonnable actuellement), c'est-à-dire de l'ordre de $2^{1024}$, il faut essayer $\\ln(2^{1024}) \\approx 710$ nombres aléatoires avant d'en trouver un qui soit premier. Vu que tous les nombres pairs sont clairement pas premiers, il suffit d'en tester en moyenne $355$.\n",
    "\n",
    "\n",
    "**a)**\n",
    "Écrire un programme permettant de générer un nombre aléatoire impair de $k$ bits, c'est-à-dire compris entre $2^{k-1}$ et $2^{k}$.\n",
    "\n",
    "<!-- --- begin hint in exercise --- -->\n",
    "\n",
    "**Indication:**\n",
    "La façon la plus rapide d'implémenter cela est d'utiliser les opérations sur les bits expliquées [ici](https://docs.python.org/fr/3.6/reference/expressions.html#binary-bitwise-operations).\n",
    "\n",
    "<!-- --- end hint in exercise --- -->\n",
    "\n"
   ]
  },
  {
   "cell_type": "code",
   "execution_count": 8,
   "metadata": {},
   "outputs": [
    {
     "data": {
      "text/plain": [
       "930715102681437331946258059675"
      ]
     },
     "execution_count": 8,
     "metadata": {},
     "output_type": "execute_result"
    }
   ],
   "source": [
    "import random\n",
    "\n",
    "def random_num(k):\n",
    "    num = \"1\"  # Must start with 1 in order to ensure that num is k-bit\n",
    "    for _ in range(k-2):\n",
    "        num += random.choice(['0', '1'])\n",
    "    num += \"1\"  # Must end with 1 to ensure its oddity\n",
    "    return int(num, 2)\n",
    "\n",
    "random_num(100)"
   ]
  },
  {
   "cell_type": "markdown",
   "metadata": {},
   "source": [
    "\n",
    "La façon la plus simple de déterminer si un nombre $n$ est premier est d'essayer de le diviser par tous les nombres entiers $1 < d < n$. Deux remarques permettent de ne pas tester tous les $d$ entre 2 et $n-1$. La première est qu'il est inutile d'essayer les $d$ pairs plus grands que 2. La seconde est qu'il est inutile de tester des nombres plus grands que $\\sqrt{n}$.\n",
    "\n",
    "**b)**\n",
    "Écrire un algorithme `isprime(n)` permettant de déterminer si un nombre est premier ou pas.\n",
    "\n"
   ]
  },
  {
   "cell_type": "code",
   "execution_count": 39,
   "metadata": {},
   "outputs": [
    {
     "data": {
      "text/plain": [
       "(True, False)"
      ]
     },
     "execution_count": 39,
     "metadata": {},
     "output_type": "execute_result"
    }
   ],
   "source": [
    "from math import sqrt, ceil\n",
    "\n",
    "def isprime(n):\n",
    "    \"\"\" Trivial method by trying modulus division with all odd numbers from 3 up to sqrt(n) \"\"\"\n",
    "    if n % 2 == 0:\n",
    "        return False\n",
    "    elif n == 3:\n",
    "        return True\n",
    "    for d in range(3, ceil(sqrt(n))+1 , 2):\n",
    "        if isprime(d) and n % d == 0:\n",
    "            return False\n",
    "    return True\n",
    "\n",
    "isprime(99971), isprime(121)"
   ]
  },
  {
   "cell_type": "markdown",
   "metadata": {},
   "source": [
    "\n",
    "**c)**\n",
    "Écrire une fonction `generate(k,primality)` permettant de générer un nombre premier aléatoire de `k` bits avec le test de primalité `primality`. Tester avec `primality=isprime`. Est-il raisonnable de pouvoir espérer générer un nombre premier de 1024 bit avec cet algorithme ?\n",
    "\n"
   ]
  },
  {
   "cell_type": "code",
   "execution_count": 12,
   "metadata": {},
   "outputs": [
    {
     "name": "stdout",
     "output_type": "stream",
     "text": [
      "Interupted kernel after 27 minutes because this is taking way to looooong.\n"
     ]
    }
   ],
   "source": [
    "import time\n",
    "\n",
    "def generate(k, primality, N=10000):\n",
    "    for i in range(N):  # Only try N times, if all fail then return\n",
    "        num = random_num(k)\n",
    "        if primality(num):\n",
    "            return num\n",
    "    return f\"Failed to generate a {k}-bit prime number\"\n",
    "\n",
    "try:\n",
    "    start = time.time()\n",
    "    generate(100, isprime)\n",
    "except KeyboardInterrupt:\n",
    "    end = time.time()\n",
    "    print(\"Interupted kernel after\", int(end-start)//60, \"minutes because this is taking way to looooong.\")"
   ]
  },
  {
   "cell_type": "markdown",
   "metadata": {},
   "source": [
    "> #### There is really no hope for doing this the trivial way with a random odd number as ___small___ as $2^{100}$, let alone $2^{1024}$"
   ]
  },
  {
   "cell_type": "markdown",
   "metadata": {},
   "source": [
    "\n",
    "<!-- --- end exercise --- -->\n",
    "\n",
    "\n",
    "\n",
    "\n",
    "<!-- --- begin exercise --- -->\n",
    "\n",
    "# Exercice 11.4: Générer des nombres pseudo-premiers\n",
    "\n",
    "L'algorithme précédent permettant de générer des nombres premiers étant inutilisable pour générer des grands nombres premiers, une autre approche, probabiliste, est à préconiser. Un test de primalité probabiliste décide qu'un nombre est premier s'il est premier avec une probabilité très grande. Un tel nombre est dit pseudo-premier. Ainsi un test probabiliste peut se tromper et penser qu'un nombre est premier alors qu'en fait il ne l'est pas.\n",
    "\n",
    "Le test de primalité le plus simple est basé sur le petit théorème de Fermat: si $n$ est premier, alors $a^{n-1}=1 \\pmod n$ pour tout $1 \\leq a \\leq n-1$. Ainsi si on trouve un $a$ tel que $a^{n-1}\\neq1 \\pmod n$ alors $n$ n'est pas premier. Le test de primalité de Fermat test $N$ valeurs de $a$ choisies aléatoirement et si $a^{n-1}=1 \\pmod n$ pour ces $N$ valeurs alors il déclare que $n$ est probablement premier. Les nombres de Carmichael sont pas premiers, mais satisfont $a^{n-1}=1 \\pmod n$ pour tout $a$ premier avec $n$. Les premiers nombres de Carmichael sont 561, 1105 et 1729. Si $n$ n'est pas un nombre de Carmichael, alors la probabilité que le test de Fermat se trompe est de $2^{-N}$. En choisissant par exemple $N=128$, on obtient une probabilité de se tromper inférieure à $3\\times 10^{-39}$.\n",
    "\n",
    "\n",
    "**a)**\n",
    "Écrire une fonction implémentant le test de primalité de Fermat. Utiliser ce test pour générer des nombres premiers aléatoires.\n",
    "\n",
    "<!-- --- begin hint in exercise --- -->\n",
    "\n",
    "**Indication:**\n",
    "Voir la documentation de la fonction `pow` pour une implémentation rapide. Si OpenSSL est installé sur votre ordinateur, il est facile de vérifier si un nombre est premier avec la commande `openssl prime 11` par exemple pour 11.\n",
    "\n",
    "<!-- --- end hint in exercise --- -->\n",
    "\n"
   ]
  },
  {
   "cell_type": "code",
   "execution_count": 13,
   "metadata": {},
   "outputs": [],
   "source": [
    "# The set of Carmichael numbers below is extended to more values.\n",
    "# Credits: http://oeis.org/wiki/Carmichael_numbers\n",
    "\n",
    "carmichael = {561, 1105, 1729, 2465, 2821, 6601, 8911, 10585, 15841, 29341, 46657, 52633,\n",
    "              115921, 162401, 252601, 294409, 314821, 334153, 399001, 410041, 488881, 512461,\n",
    "              530881, 1024651, 1152271, 1193221, 41041, 62745, 63973, 75361, 101101, 126217,\n",
    "              172081, 188461, 278545, 340561, 449065, 552721, 656601, 658801, 670033, 748657,\n",
    "              825265, 838201, 852841, 997633, 1033669, 1050985, 1082809, 1569457}\n",
    "\n",
    "def isprime_fermat(n, N=128):\n",
    "    for _ in range(N):\n",
    "        a = random.randint(2, n-1)\n",
    "        while a in carmichael or a%2 == 0:\n",
    "            a = random.randint(2, n-1)\n",
    "        if pow(a, n-1, n) != 1:\n",
    "            return False\n",
    "    return True"
   ]
  },
  {
   "cell_type": "code",
   "execution_count": 14,
   "metadata": {},
   "outputs": [
    {
     "data": {
      "text/plain": [
       "173659750193959872944071826101779364909174669679191868776315564294108816866361963204711337252826487489495342997847284157024656725340703706336389819064160279346213726708227768268437461074119179619038709760174758057169962967610102070727219007145111148917870531951932891718156400716104444768754413956376907876963"
      ]
     },
     "execution_count": 14,
     "metadata": {},
     "output_type": "execute_result"
    }
   ],
   "source": [
    "num = generate(1024, isprime_fermat)\n",
    "num"
   ]
  },
  {
   "cell_type": "code",
   "execution_count": 15,
   "metadata": {},
   "outputs": [
    {
     "name": "stdout",
     "output_type": "stream",
     "text": [
      "F74CB8AF78DD7A2B7E49D22F1D4641C5C6968F283772FAC190C52725DC08734A15DC1932C7AE02EEE775E8620988F529EDC0F8E6EF39A2C05423AFDDD34F474AAEA38C4E232718600B8AC9D5ACD0E38DD43A74945DBADD1CD3DE4305DBF0E9A7782DA1365BFAA7E2B24048A5132BC30E4F7516E1C4407EA4CB10DE4D0EA20A63 (173659750193959872944071826101779364909174669679191868776315564294108816866361963204711337252826487489495342997847284157024656725340703706336389819064160279346213726708227768268437461074119179619038709760174758057169962967610102070727219007145111148917870531951932891718156400716104444768754413956376907876963) is prime\n"
     ]
    }
   ],
   "source": [
    "!openssl prime {num}"
   ]
  },
  {
   "cell_type": "code",
   "execution_count": 16,
   "metadata": {},
   "outputs": [
    {
     "name": "stdout",
     "output_type": "stream",
     "text": [
      "The slowest run took 8.53 times longer than the fastest. This could mean that an intermediate result is being cached.\n",
      "2.88 s ± 2.19 s per loop (mean ± std. dev. of 7 runs, 1 loop each)\n"
     ]
    }
   ],
   "source": [
    "%%timeit\n",
    "generate(1024, isprime_fermat)"
   ]
  },
  {
   "cell_type": "markdown",
   "metadata": {},
   "source": [
    "\n",
    "**b)**\n",
    "<span style=\"color:red\">!</span> Améliorer la rapidité du l'algorithme précédent en testant d'abord si $n$ est divisible par les nombres premiers inférieurs à 1000 avant d'appliquer le test de Fermat.\n",
    "\n"
   ]
  },
  {
   "cell_type": "code",
   "execution_count": 19,
   "metadata": {},
   "outputs": [],
   "source": [
    "def primes_lte(n):\n",
    "    primes = {x for x in range(3, n+1, 2) if isprime(x)}\n",
    "    primes.add(2)\n",
    "    return primes\n",
    "\n",
    "def isprime_fermat_faster(n, N=128):\n",
    "    for prime in primes_lt_1000:\n",
    "        if n % prime == 0:\n",
    "            return False\n",
    "        \n",
    "    maxi = max(primes_lt_1000)\n",
    "    for _ in range(N):\n",
    "        a = random.randint(maxi, n-1)\n",
    "        while a in carmichael or a%2 == 0:\n",
    "            a = random.randint(2, n-1)\n",
    "        if pow(a, n-1, n) != 1:\n",
    "            return False\n",
    "    return True"
   ]
  },
  {
   "cell_type": "code",
   "execution_count": 18,
   "metadata": {},
   "outputs": [],
   "source": [
    "primes_lt_1000 = primes_lte(1000)"
   ]
  },
  {
   "cell_type": "code",
   "execution_count": 19,
   "metadata": {},
   "outputs": [
    {
     "name": "stdout",
     "output_type": "stream",
     "text": [
      "The slowest run took 4.95 times longer than the fastest. This could mean that an intermediate result is being cached.\n",
      "1.21 s ± 731 ms per loop (mean ± std. dev. of 7 runs, 1 loop each)\n"
     ]
    }
   ],
   "source": [
    "%%timeit\n",
    "generate(1024, isprime_fermat_faster)"
   ]
  },
  {
   "cell_type": "markdown",
   "metadata": {},
   "source": [
    "\n",
    "Le test de primalité de Fermat permet de générer de grands nombres pseudo-premiers avec une bonne probabilité d'être effectivement premier. Le problème principal vient du fait de l'existence des nombres de Carmichael qui sont exclus de cette probabilité. Le test de primalité de Miller-Rabin permet d'éviter se problème.\n",
    "\n",
    "**c)**\n",
    "<span style=\"color:red\">!!</span> Comprendre et implémenter la méthode Rabin-Miller expliquée en détails sur [Wikipédia](https://fr.wikipedia.org/wiki/Test_de_primalité_de_Miller-Rabin).\n",
    "\n"
   ]
  },
  {
   "cell_type": "code",
   "execution_count": 20,
   "metadata": {},
   "outputs": [],
   "source": [
    "def isprime_miller_rabin(n, k=10):\n",
    "    s, d = 0, n-1\n",
    "    while d%2 == 0:\n",
    "        s += 1\n",
    "        d >>= 1  # bitwise equivalent of dividing by 2\n",
    "    \n",
    "    tested_bases = set()\n",
    "    for _ in range(k):  # k times executing the composite test for n to be very certain of the primality of n\n",
    "        a = random.randint(2, n-1)\n",
    "        while a in tested_bases:\n",
    "            a = random.randint(2, n-1)\n",
    "        tested_bases.add(a)\n",
    "        if pow(a, d, n) in {1, n-1}:\n",
    "            continue\n",
    "        continue_loop = False\n",
    "        for i in range(s):\n",
    "            if pow(a, 2**i * d, n) == n-1:\n",
    "                continue_loop = True\n",
    "                break\n",
    "        if continue_loop:\n",
    "            continue\n",
    "        return False\n",
    "    return True"
   ]
  },
  {
   "cell_type": "code",
   "execution_count": 21,
   "metadata": {},
   "outputs": [
    {
     "data": {
      "text/plain": [
       "161512810805158221529283332276441303215414939853876178505174005015263749359399007192085625874692507786417186371245065570043791572806043734068449916073831559238644939378033171112616202784041212818072910183771048746084187915884414607633760284744078520343633251705610722661333852051271895469569132035288830165297"
      ]
     },
     "execution_count": 21,
     "metadata": {},
     "output_type": "execute_result"
    }
   ],
   "source": [
    "num = generate(1024, isprime_miller_rabin)\n",
    "num"
   ]
  },
  {
   "cell_type": "code",
   "execution_count": 22,
   "metadata": {},
   "outputs": [
    {
     "name": "stdout",
     "output_type": "stream",
     "text": [
      "E6007B06506E42320F779B0A6EECC16B34D2CD4AD6CDF5C907E21889452AE3A0B570AC628CB610DAB7A9FF1997D00497C5401DD1BDE13B349D6CD860BBED2A6B4B234AA7382F640B7049293BFECEF609A62AF6B53DD78B99CF7F7A94DDB89D55930F054B4D99F393CF7F9AA80D94381C34DDEC5B77EEE0841910A4B767EDC131 (161512810805158221529283332276441303215414939853876178505174005015263749359399007192085625874692507786417186371245065570043791572806043734068449916073831559238644939378033171112616202784041212818072910183771048746084187915884414607633760284744078520343633251705610722661333852051271895469569132035288830165297) is prime\n"
     ]
    }
   ],
   "source": [
    "!openssl prime {num}"
   ]
  },
  {
   "cell_type": "code",
   "execution_count": 23,
   "metadata": {},
   "outputs": [
    {
     "name": "stdout",
     "output_type": "stream",
     "text": [
      "The slowest run took 10.02 times longer than the fastest. This could mean that an intermediate result is being cached.\n",
      "2.96 s ± 2.26 s per loop (mean ± std. dev. of 7 runs, 1 loop each)\n"
     ]
    }
   ],
   "source": [
    "%%timeit\n",
    "generate(1024, isprime_miller_rabin)"
   ]
  },
  {
   "cell_type": "markdown",
   "metadata": {},
   "source": [
    "\n",
    "<!-- --- end exercise --- -->\n",
    "\n",
    "\n",
    "\n",
    "\n",
    "<!-- --- begin exercise --- -->\n",
    "\n",
    "# Exercice 11.5: Chiffrement RSA\n",
    "\n",
    "L'algorithme RSA des noms de Ronald Rivest, Adi Shamir et Leonard Adleman qui l'ont inventé en 1983 est un des algorithmes de cryptographie asymétrique les plus utilisé encore actuellement. Un chiffrement asymétrique permet de transmettre un message crypté à une personne A sans avoir eu auparavant besoin de transmettre une clef secrète à la personne B qui chiffre le message. La création par A d'une clef publique suffit à B pour chiffrer le message et pour que A puisse le déchiffrer avec sa clef privé. Il y a trois grandes étapes dans l'algorithme RSA:\n",
    "\n",
    "**Création des clefs.**\n",
    "La personne A voulant recevoir un message secret, choisit deux très grands nombres premiers $p$ et $q$ qu'il garde secret. Ensuite elle calcule $n=pq$ et l'indicatrice d'Euler $\\varphi(n)=(p-1)(q-1)$ qui compte le nombre d'entiers compris entre 1 et $n$ qui sont premiers avec $n$. Puis elle choisit un exposant de chiffrement $e$ qui est premier avec $\\varphi(n)$. La clef publique de la personne A est donné par le couple $(n,e)$. Finalement, la personne A calcul l'exposant de déchiffrement $d$ qui est l'inverse de $e$ modulo $\\varphi(n)$, *i.e.* tel que $ed = 1 \\pmod{\\varphi(n)}$. La clef privée de A est $(p,q,d)$.\n",
    "\n",
    "**Chiffrement du message.**\n",
    "Pour chiffrer son message, la personne B le transforme tout d'abord en un nombre entier $M < n$. Le message chiffré est alors donné par"
   ]
  },
  {
   "cell_type": "markdown",
   "metadata": {},
   "source": [
    "$$\n",
    "C = M^e \\pmod n \\,.\n",
    "$$"
   ]
  },
  {
   "cell_type": "markdown",
   "metadata": {},
   "source": [
    "**Déchiffrement du message.**\n",
    "Le message chiffré $C$ est alors transmis à A. Pour le déchiffrer, A calcule"
   ]
  },
  {
   "cell_type": "markdown",
   "metadata": {},
   "source": [
    "$$\n",
    "M = C^d \\pmod n \\,\n",
    "$$"
   ]
  },
  {
   "cell_type": "markdown",
   "metadata": {},
   "source": [
    "qui est à nouveau le message original.\n",
    "\n",
    "**Notice.**\n",
    "\n",
    "A noter que les nombres premiers $p$ et $q$ doivent être vraiment aléatoires, sinon il est \"facile\" de deviner leurs valeurs. Les nombres aléatoires générés par le module `random` le sont avec l'algorithme de Mersenne Twister. Cet algorithme n'est pas considéré comme cryptographiquement sur dans le sens où une observation d'environs un millier de nombres générés aléatoirement par cet algorithme suffit à prédire toutes les itérations futures. Pour générer des nombres aléatoires cryptographiquement sûrs il faudrait utiliser le module [`secrets`](https://docs.python.org/3.6/library/secrets.html).\n",
    "\n",
    "\n",
    "\n",
    "\n",
    "**a)**\n",
    "Montrer mathématiquement que le message déchiffré correspond bien au message original.\n",
    "\n",
    "<!-- --- begin hint in exercise --- -->\n",
    "\n",
    "**Indication:**\n",
    "Si $a = b \\pmod{\\varphi(n)}$ et $M$ est premier avec $n$, alors $M^a = M^b \\pmod n$.\n",
    "\n",
    "<!-- --- end hint in exercise --- -->\n",
    "\n"
   ]
  },
  {
   "cell_type": "markdown",
   "metadata": {},
   "source": [
    "> In fact, based on Euler's theorem, $M$ must also be co-prime with $n$. Indeed, if $C = M^e \\pmod{n}$ then $C^d = (M^e)^d = M^{ed} \\pmod{n}$. Since $ed = 1 \\pmod{\\varphi (n)}$, $M$ co-prime with $n$ we have finally $M^{ed}=M \\pmod {n}$."
   ]
  },
  {
   "cell_type": "markdown",
   "metadata": {},
   "source": [
    "\n",
    "**b)**\n",
    "Donné $e$ et $\\varphi(n)$ écrire une fonction `bezout(e, phi)` permettant de déterminer $d$ tel que $ed = 1 \\pmod{\\varphi(n)}$.\n",
    "\n",
    "<!-- --- begin hint in exercise --- -->\n",
    "\n",
    "**Indication:**\n",
    "Utiliser l'algorithme d'Euclide généralisé qui permet de déterminer le PGCD $g$ entre deux nombre $a$ et $b$ ainsi que $x$ et $y$ satisfaisant $ax+by=g$.\n",
    "\n",
    "<!-- --- end hint in exercise --- -->\n",
    "\n"
   ]
  },
  {
   "cell_type": "code",
   "execution_count": 24,
   "metadata": {},
   "outputs": [],
   "source": [
    "def bezout(e, phi):\n",
    "    s, s_ = 0, 1\n",
    "    t, t_ = 1, 0\n",
    "    r, r_ = phi, e\n",
    "    \n",
    "    while r != 0:\n",
    "        q = r_ // r\n",
    "        r_, r = r, r_ - q*r\n",
    "        s_, s = s, s_ - q*s\n",
    "        t_, t = t, t_ - q*t\n",
    "    return s_"
   ]
  },
  {
   "cell_type": "code",
   "execution_count": 25,
   "metadata": {},
   "outputs": [
    {
     "data": {
      "text/plain": [
       "1"
      ]
     },
     "execution_count": 25,
     "metadata": {},
     "output_type": "execute_result"
    }
   ],
   "source": [
    "e, phi = 1351, 643\n",
    "(bezout(e, phi) * e) % phi"
   ]
  },
  {
   "cell_type": "markdown",
   "metadata": {},
   "source": [
    "\n",
    "**c)**\n",
    "Écrire un algorithme `generate_keys(length)` qui génère des nombres premiers $p$ et $q$ tels que $n$ ait `length` bits, puis détermine $\\varphi(n)$, $e$ et $d$ et enfin retourne la clef publique $(n,e)$ et la clef privée $(p,q,d)$.\n",
    "\n"
   ]
  },
  {
   "cell_type": "code",
   "execution_count": 26,
   "metadata": {},
   "outputs": [],
   "source": [
    "import secrets\n",
    "\n",
    "def generate_keys(length):\n",
    "    def random_prime(bits):\n",
    "        min_value = ceil(2**(bits-0.5))\n",
    "        prime = secrets.randbits(bits)\n",
    "        while prime < min_value or not isprime_miller_rabin(prime):\n",
    "            prime = secrets.randbits(bits)\n",
    "        return prime\n",
    "    \n",
    "    bits_p = secrets.choice(range(length//2 - 10, length//2 + 10))  # randomly choose a range for p's bits\n",
    "    bits_q = length - bits_p\n",
    "    p = random_prime(bits_p)\n",
    "    q = random_prime(bits_q)\n",
    "    n = p*q\n",
    "    e = 65537\n",
    "    phi = (p-1)*(q-1)\n",
    "    d = bezout(e, phi) if bezout(e, phi) > 0 else phi + bezout(e, phi)  # Should be a positive integer\n",
    "    \n",
    "    return (n, e), (p, q, d)"
   ]
  },
  {
   "cell_type": "code",
   "execution_count": 27,
   "metadata": {},
   "outputs": [
    {
     "name": "stdout",
     "output_type": "stream",
     "text": [
      "Public key: (102879710770752511444645833011165696651619809409491556295029570602622028588515675930724362634624896351441630621506341531211272436681854793154606165896207790041954416913355391419643914918797618398109799014010931855695176217558393594050253975370232155523911584660100880097160695246305759491396478855962313664689, 65537)\n",
      "Private key: (79563557840776827903565737400968911552647625307192266548999184353943670464685632026945084663720144251159361004827848299962554503752610900101658946145770817, 1293050657395640084328044917968166196339015056822260360955483553779516366396198317701676056519022318239979406312719222733835422685370445179884973796802417, 44178764670663715604722029974415005277423994021870407080138199878993419756268926983511233923222736134071163016022292288522191131506438186730397810806368517930378109939801855401198146020012241708454526590940672114387451626365242287279016559120153407419391811060195436769803350806644845587338005187189045113857)\n"
     ]
    }
   ],
   "source": [
    "length = 1024\n",
    "public, private = generate_keys(length)\n",
    "print(\"Public key:\", public)\n",
    "print(\"Private key:\", private)"
   ]
  },
  {
   "cell_type": "code",
   "execution_count": 28,
   "metadata": {},
   "outputs": [],
   "source": [
    "n, e = public\n",
    "p, q, d = private"
   ]
  },
  {
   "cell_type": "code",
   "execution_count": 29,
   "metadata": {},
   "outputs": [
    {
     "data": {
      "text/plain": [
       "True"
      ]
     },
     "execution_count": 29,
     "metadata": {},
     "output_type": "execute_result"
    }
   ],
   "source": [
    "p*q == n"
   ]
  },
  {
   "cell_type": "code",
   "execution_count": 30,
   "metadata": {},
   "outputs": [
    {
     "data": {
      "text/plain": [
       "1"
      ]
     },
     "execution_count": 30,
     "metadata": {},
     "output_type": "execute_result"
    }
   ],
   "source": [
    "(e*d) % ((p-1)*(q-1))"
   ]
  },
  {
   "cell_type": "code",
   "execution_count": 34,
   "metadata": {},
   "outputs": [
    {
     "data": {
      "text/plain": [
       "1024"
      ]
     },
     "execution_count": 34,
     "metadata": {},
     "output_type": "execute_result"
    }
   ],
   "source": [
    "len(bin(n)) - 2  # bin(n) returns a str typed binary value of n which includes '0b' at the beginning, therefore must be excluded to know the exact number of bits of n"
   ]
  },
  {
   "cell_type": "markdown",
   "metadata": {},
   "source": [
    "\n",
    "**d)**\n",
    "En choisissant d'encoder chaque caractère sur 8 bits, une chaine de caractère de longueur $\\ell$ s'écrit comme une liste $(a_0,a_1,\\dots a_\\ell)$ avec chaque $0 \\leq a_i \\leq 255$. Cette liste peut être convertie en un entier $k$ de la façon suivante:"
   ]
  },
  {
   "cell_type": "markdown",
   "metadata": {},
   "source": [
    "$$\n",
    "k = \\sum_{i=0}^\\ell a_i 256^i\n",
    "$$"
   ]
  },
  {
   "cell_type": "markdown",
   "metadata": {},
   "source": [
    "Écrire une fonction `toint` et une fonction `tostr` permettant respectivement de convertir une chaîne de caractères en cet entier et inversement.\n",
    "\n"
   ]
  },
  {
   "cell_type": "code",
   "execution_count": 1,
   "metadata": {},
   "outputs": [
    {
     "data": {
      "text/plain": [
       "752543656598430791546212673016081644515029171583346043640677252474922246724244942692995773015219717088247296046260360694581531473085574139295866474835470801196647884988166726295625"
      ]
     },
     "execution_count": 1,
     "metadata": {},
     "output_type": "execute_result"
    }
   ],
   "source": [
    "def toint(string):\n",
    "    crypted_msg = 0\n",
    "    for i, char in enumerate(string):\n",
    "        crypted_msg += ord(char)*256**i\n",
    "    return crypted_msg\n",
    "\n",
    "code = toint(\"I am legend is such a great movie starring Will Smith. I love watching him.\")\n",
    "code"
   ]
  },
  {
   "cell_type": "code",
   "execution_count": 2,
   "metadata": {},
   "outputs": [
    {
     "data": {
      "text/plain": [
       "'I am legend is such a great movie starring Will Smith. I love watching him.'"
      ]
     },
     "execution_count": 2,
     "metadata": {},
     "output_type": "execute_result"
    }
   ],
   "source": [
    "def tostr(num):\n",
    "    msg = \"\"\n",
    "    while num // 256 >= 0:\n",
    "        a = 0\n",
    "        while (num - a) % 256 != 0:\n",
    "            a += 1\n",
    "        msg += chr(a)\n",
    "        num //= 256\n",
    "        if num == 0:\n",
    "            break\n",
    "    return msg\n",
    "\n",
    "tostr(code)"
   ]
  },
  {
   "cell_type": "markdown",
   "metadata": {},
   "source": [
    "\n",
    "**e)**\n",
    "Écrire une fonction pour chiffrer un texte avec une clef publique et une autre permettant de le déchiffrer avec la clef privée. Pour cela il faut s'assurer que le texte soit convertible en un entier inférieur à $n$, sinon il faut le découper en blocs et les chiffrer séparément.\n",
    "\n"
   ]
  },
  {
   "cell_type": "code",
   "execution_count": 3,
   "metadata": {},
   "outputs": [
    {
     "data": {
      "text/plain": [
       "['I am legend is ',\n",
       " 'such a great mo',\n",
       " 'vie starring Wi',\n",
       " 'll Smith. I lov',\n",
       " 'e watching him.']"
      ]
     },
     "execution_count": 3,
     "metadata": {},
     "output_type": "execute_result"
    }
   ],
   "source": [
    "def break_msg(msg, k):\n",
    "    \"\"\" Break the string into k even parts (in terms of number of characters) \"\"\"\n",
    "    q = len(msg) // k\n",
    "    r = len(msg) % k\n",
    "    return [msg[i*q : (i+1)*q + 1] if i<r else msg[i*q : (i+1)*q] for i in range(k)]\n",
    "\n",
    "msg = 'I am legend is such a great movie starring Will Smith. I love watching him.'\n",
    "break_msg(msg, 5)"
   ]
  },
  {
   "cell_type": "code",
   "execution_count": 5,
   "metadata": {},
   "outputs": [],
   "source": [
    "public = (102879710770752511444645833011165696651619809409491556295029570602622028588515675930724362634624896351441630621506341531211272436681854793154606165896207790041954416913355391419643914918797618398109799014010931855695176217558393594050253975370232155523911584660100880097160695246305759491396478855962313664689,\n",
    "          65537)\n",
    "private = (79563557840776827903565737400968911552647625307192266548999184353943670464685632026945084663720144251159361004827848299962554503752610900101658946145770817,\n",
    "           1293050657395640084328044917968166196339015056822260360955483553779516366396198317701676056519022318239979406312719222733835422685370445179884973796802417, 44178764670663715604722029974415005277423994021870407080138199878993419756268926983511233923222736134071163016022292288522191131506438186730397810806368517930378109939801855401198146020012241708454526590940672114387451626365242287279016559120153407419391811060195436769803350806644845587338005187189045113857)"
   ]
  },
  {
   "cell_type": "code",
   "execution_count": 6,
   "metadata": {},
   "outputs": [],
   "source": [
    "def crypt_rsa(msg, public_key):\n",
    "    n, e = public_key\n",
    "    num_chunks = 1\n",
    "    \n",
    "    while True:\n",
    "        M_chunks = break_msg(msg, num_chunks)\n",
    "        for chunk in M_chunks:\n",
    "            if toint(chunk) >= n:\n",
    "                num_chunks += 1\n",
    "                break\n",
    "        else:\n",
    "            return map(lambda m: pow(toint(m), e, n), M_chunks)  # return a map object which needs to be iterated to get all values. This saves memory.\n",
    "        \n",
    "encrypted_msg = crypt_rsa(msg, public)"
   ]
  },
  {
   "cell_type": "code",
   "execution_count": 7,
   "metadata": {},
   "outputs": [
    {
     "name": "stdout",
     "output_type": "stream",
     "text": [
      "34838993476127272364835782202842636025594803334530969370981019061591190351968216710544942983374820778436023611592069327989900736436669234559594636200925105866472312350487848263862314718077316782087595561403154902407566783259733796029033910216172780724922906067841837763975529097182397727302561235642214085369\n"
     ]
    }
   ],
   "source": [
    "for chunk in encrypted_msg:\n",
    "    print(chunk)"
   ]
  },
  {
   "cell_type": "code",
   "execution_count": 8,
   "metadata": {},
   "outputs": [],
   "source": [
    "def decrypt_rsa(chunk, private_key):\n",
    "    p, q, d = private_key\n",
    "    n = p * q\n",
    "    decrypted = pow(chunk, d, n)\n",
    "    return tostr(decrypted)"
   ]
  },
  {
   "cell_type": "code",
   "execution_count": 10,
   "metadata": {},
   "outputs": [
    {
     "data": {
      "text/plain": [
       "'I am legend is such a great movie starring Will Smith. I love watching him.'"
      ]
     },
     "execution_count": 10,
     "metadata": {},
     "output_type": "execute_result"
    }
   ],
   "source": [
    "decrypt_rsa(chunk, private)"
   ]
  },
  {
   "cell_type": "markdown",
   "metadata": {},
   "source": [
    "\n",
    "<!-- --- end exercise --- -->\n",
    "\n",
    "\n",
    "\n",
    "\n",
    "<!-- --- begin exercise --- -->\n",
    "\n",
    "# Exercice 11.6: <span style=\"color:red\">!!!</span> Casser le chiffrement RSA\n",
    "\n",
    "Voici une clef publique"
   ]
  },
  {
   "cell_type": "code",
   "execution_count": 55,
   "metadata": {},
   "outputs": [
    {
     "data": {
      "text/plain": [
       "[2, 3, 13, 17, 19]"
      ]
     },
     "execution_count": 55,
     "metadata": {},
     "output_type": "execute_result"
    }
   ],
   "source": [
    "def quadratic_residue(n, k):\n",
    "    \"\"\" List all quadratic residues of n that are less than k \"\"\"\n",
    "    qr = []\n",
    "    primes = primes_lte(k)\n",
    "    for prime in primes:\n",
    "        for i in range(1, prime):\n",
    "            if pow(i, 2, prime) == n%prime:\n",
    "                qr.append(prime)\n",
    "                break\n",
    "    return qr\n",
    "\n",
    "quadratic_residue(87463, 23)"
   ]
  },
  {
   "cell_type": "code",
   "execution_count": 15,
   "metadata": {},
   "outputs": [],
   "source": [
    "public = (73722206893746878039310298412768333517547506486427363913406174815240823284857,\n",
    "          33921003048397584579835360477549223828723590186917811609938274008840181968499)\n",
    "n, e = public"
   ]
  },
  {
   "cell_type": "markdown",
   "metadata": {},
   "source": [
    "et un message chiffré avec cette clef publique:"
   ]
  },
  {
   "cell_type": "code",
   "execution_count": 35,
   "metadata": {},
   "outputs": [],
   "source": [
    "[22973877239788873882837788687834740958145091979501565167824992597825600406974,\n",
    " 48503379361942356829127901273483580639426474600801539865525830360302350602689,\n",
    " 2224798454942012298637628855810886175704245737423608868190613249161861526055,\n",
    " 4500720701216145302036625979462397411127541711596515042635302843142748047486,\n",
    " 35445000935671280429079877747553363121645781096430386417428307485228904386825,\n",
    " 48627712259501563035806415688912560481020577805784144969245386699539463833735,\n",
    " 71868389092768589092947834441169271512227882469129366706758279960751502739157,\n",
    " 26019603019482382085505727901092092122241438959147654068117475447783602572984,\n",
    " 65039729472521706954510624828984329309712256390395416184704490683377874857302,\n",
    " 11805320141319662342135552217286927868466795280631816945032387836622798495117]"
   ]
  },
  {
   "cell_type": "markdown",
   "metadata": {},
   "source": [
    "**a)**\n",
    "Décrypter le message précédent !\n",
    "\n",
    "<!-- --- begin hint in exercise --- -->\n",
    "\n",
    "**Indication:**\n",
    "Il est probablement nécessaire de choisir un algorithme adapté, par exemple basé sur des cribles quadratiques (QS, MPQS, SIQS).\n",
    "\n",
    "<!-- --- end hint in exercise --- -->\n",
    "\n",
    "<!-- --- end exercise --- -->"
   ]
  }
 ],
 "metadata": {
  "kernelspec": {
   "display_name": "Python 3",
   "language": "python",
   "name": "python3"
  },
  "language_info": {
   "codemirror_mode": {
    "name": "ipython",
    "version": 3
   },
   "file_extension": ".py",
   "mimetype": "text/x-python",
   "name": "python",
   "nbconvert_exporter": "python",
   "pygments_lexer": "ipython3",
   "version": "3.8.1"
  }
 },
 "nbformat": 4,
 "nbformat_minor": 4
}
