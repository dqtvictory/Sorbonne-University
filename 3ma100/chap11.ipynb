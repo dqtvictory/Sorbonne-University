{
 "cells": [
  {
   "cell_type": "markdown",
   "metadata": {},
   "source": [
    "<!-- dom:TITLE: Programmation Python  pour les mathématiques -->\n",
    "# Python Programming for Mathematics\n",
    "<!-- dom:AUTHOR: Julien Guillod at [Sorbonne Université](http://www.sorbonne-universite.fr/), -->\n",
    "<!-- Author: -->  \n",
    "**Julien Guillod**, [Sorbonne Université](http://www.sorbonne-universite.fr/),\n",
    "Licensed <a href=\"https://creativecommons.org/licenses/by-nc-nd/4.0/\">CC BY-NC-ND</a>\n",
    "\n",
    "\n",
    "All chapters are available in\n",
    "[HTML](https://python.guillod.org//) and [PDF](https://python.guillod.org//python.pdf).\n",
    "This notebook is also executed on [mybinder](https://mybinder.org/v2/gh/juguillod/python/master?filepath=chap11.ipynb).\n",
    "\n",
    "\n",
    "\n",
    "\n",
    "\n",
    "\n",
    "# 11 Cryptography\n",
    "<div id=\"ch:cryptographie\"></div>\n",
    "\n",
    "Since the Caesar's cipher, different cryptographic methods allowing human to transmit secret messages have evolved in parallel with the progresses and efforts to crack them. We will study the Vigenere cipher which is an improvision of the Caesar's cipher, then we will see the method to crack this cipher. And then, we are introduced to the RSA cryptosystem, one of the most used asymmetric cryptographic methods today.\n",
    "\n",
    "**This chapter covers:**\n",
    "\n",
    "* Vigenere cipher\n",
    "\n",
    "* Greatest common divisor\n",
    "\n",
    "* Importing text\n",
    "\n",
    "* Primes and pseudo-primes\n",
    "\n",
    "* Fermat's little problem\n",
    "\n",
    "* Euclide's algorithm\n",
    "\n",
    "* Rabin-Miller's algorithm\n",
    "\n",
    "* Optimization by Python's decorator\n",
    "\n",
    "* RSA asymmetric cryptography\n",
    "\n",
    "\n",
    "\n",
    "\n",
    "\n",
    "<!-- --- begin exercise --- -->\n",
    "\n",
    "# Exercise 11.1: Vigenere cipher\n",
    "\n",
    "The Vigenere cipher consists of choosing a secret keyword (upper-cased) and then transform it into a vector in which each element is the position of its corresponding letter in the alphabet. For example, `ASECRET` corresponds to (0, 18, 4, 2, 17, 4, 19). To encrypt a text (upper-cased without space and punctuation) with the keyword `ASECRET`, one needs to shift the first letter in the text by the offset of 0, the second by 18, the third by 4, and so on, while having the keyword looping forever. Details are available on the [Wikipedia page](https://en.wikipedia.org/wiki/Vigen%C3%A8re_cipher).\n",
    "\n",
    "\n",
    "**a)**\n",
    "Write a function `to_int(s)` transforming a character to its character in the alphabet and the inverse function `to_chr(i)`.\n",
    "\n",
    "<!-- --- begin hint in exercise --- -->\n",
    "\n",
    "**Hints:**\n",
    "Use Python's built-in functions `ord` and `chr`.\n",
    "\n",
    "<!-- --- end hint in exercise --- -->\n",
    "\n"
   ]
  },
  {
   "cell_type": "code",
   "execution_count": 1,
   "metadata": {},
   "outputs": [
    {
     "name": "stdout",
     "output_type": "stream",
     "text": [
      "18\n",
      "S\n"
     ]
    }
   ],
   "source": [
    "def to_int(s):\n",
    "    return ord(s)-65\n",
    "\n",
    "def to_chr(i):\n",
    "    return chr(i+65)\n",
    "\n",
    "print(to_int('S'))\n",
    "print(to_chr(18))"
   ]
  },
  {
   "cell_type": "markdown",
   "metadata": {},
   "source": [
    "\n",
    "**b)**\n",
    "Write a function `encrypt(text, key)` encrypting `text` with the keyword `key`."
   ]
  },
  {
   "cell_type": "code",
   "execution_count": 2,
   "metadata": {},
   "outputs": [
    {
     "data": {
      "text/plain": [
       "'14 25 15 17 17 19 22 11 13 19 21 21'"
      ]
     },
     "execution_count": 2,
     "metadata": {},
     "output_type": "execute_result"
    }
   ],
   "source": [
    "from itertools import cycle\n",
    "\n",
    "def encrypt(text, key):\n",
    "    code = [str((to_int(char_text) + to_int(char_key))%26) for char_text, char_key in zip(text, cycle(key))]\n",
    "    return \" \".join(code)\n",
    "\n",
    "text = 'VIVELAFRANCE'\n",
    "key = 'TRUNG'\n",
    "encrypt(text, key)"
   ]
  },
  {
   "cell_type": "markdown",
   "metadata": {},
   "source": [
    "\n",
    "**c)**\n",
    "Write a function decrypting a text knowing the keyword."
   ]
  },
  {
   "cell_type": "code",
   "execution_count": 3,
   "metadata": {},
   "outputs": [
    {
     "data": {
      "text/plain": [
       "'VIVELAFRANCE'"
      ]
     },
     "execution_count": 3,
     "metadata": {},
     "output_type": "execute_result"
    }
   ],
   "source": [
    "def decrypt(code, key):\n",
    "    code_int = list(map(int, code.split(\" \")))\n",
    "    text = [to_chr((num - to_int(char))%26) for num, char in zip(code_int, cycle(key))]\n",
    "    return \"\".join(text)\n",
    "\n",
    "code = '14 25 15 17 17 19 22 11 13 19 21 21'\n",
    "decrypt(code, key)"
   ]
  },
  {
   "cell_type": "markdown",
   "metadata": {},
   "source": [
    "\n",
    "\n",
    "<!-- --- end exercise --- -->\n",
    "\n",
    "\n",
    "\n",
    "\n",
    "<!-- --- begin exercise --- -->\n",
    "\n",
    "# Exercise 11.2: <span style=\"color:red\">!</span> Cracking the Vigenere cipher\n",
    "\n",
    "Charles Babbage was the first to crack the Vigenere cipher. The idea is that 3 consecutive letters appearing multiple times in the encrypted text are likely to be the same letters in the text encrypted by the same letters in the keyword. This is even more probable with a group of 4 letters. Thus the offset between two same groups of encrypted letters is a multiplier of the keyword's length. For example, if the repetition of a group is offset by 28 letters, then another is 91, the greatest common divisor of 28 and 91 is 7, hence it is probable that the keyword has 7 letters. Then, knowing the length of the keyword, one can proceed based on the fact that the letter \"E\" is the most common letter in French (and in most western languages). In order to succeed with this strategy, the text must be long enough.\n",
    "\n",
    "\n",
    "**a)**\n",
    "Write a function calculating the greatest common divisor (GCD) between two numbers. Write another function calculating the GCD of a list of numbers.\n"
   ]
  },
  {
   "cell_type": "code",
   "execution_count": 4,
   "metadata": {},
   "outputs": [
    {
     "data": {
      "text/plain": [
       "7"
      ]
     },
     "execution_count": 4,
     "metadata": {},
     "output_type": "execute_result"
    }
   ],
   "source": [
    "from functools import reduce\n",
    "\n",
    "def gcd(a, b):\n",
    "    while b != 0:\n",
    "        r = a % b\n",
    "        a, b = b, r\n",
    "    return a\n",
    "\n",
    "def gcd_list(nums):\n",
    "    return reduce(gcd, nums)\n",
    "\n",
    "gcd_list([28,91,21,49,77])"
   ]
  },
  {
   "cell_type": "markdown",
   "metadata": {},
   "source": [
    "\n",
    "**b)**\n",
    "Visit the site of the [Gutenberg project](http://www.gutenberg.org/browse/languages/fr), choose a French text that you prefer then download it under plain text format. Write a function converting the text to uppercase and removing all punctuations and special characters.\n",
    "\n",
    "<!-- --- begin hint in exercise --- -->\n",
    "\n",
    "**Hints:**\n",
    "To convert the text to the desired format, it is possible to use the following function:"
   ]
  },
  {
   "cell_type": "code",
   "execution_count": 5,
   "metadata": {},
   "outputs": [
    {
     "data": {
      "text/plain": [
       "'CESTUNEMATIEREGRAVEATRAITERDANSLESANNALESDUNPAYSCOMMELAFRANCEQUELHISTOIREDESSALONSDEPARISDEPUISUNECERTAINEEPOQUECETTEHISTOIRESETROUVEETROITEMENTLIEEACELLEDUPAYSETSURTOUTAUXINTRIGUESTOUJOURSATTACHEESAUXPLANSPOLITIQUESQUISILONGTEMPSBOULEVERSERENTLEROYAUMELEPOQUEDELANAISSANCEDELASOCIETEENFRANCEDANSLACCEPTIONPOSITIVEDECEMOTREMONTEAUREGNEDUCARDINALDERICHELIEUENRAPPELANTLANOBLESSEAUTOURDUTRONEENLUIASSIGNANTDESFONCTIONSCREANTPOURELLEDESCHARGESETDESPLACESDONTSONORGUEILDEVAITJOUIRRICHELIEUDONNADELASECURITEALACOURONNESANSCESSEEXPOSEEPARLESCAPRICESDUNGRANDSEIGNEURCOMMELEDUCDEBOUILLONLEDUCDELONGUEVILLELEDUCDEMONTBAZONETUNEFOULEDAUTRESQUIPLUSLIBRESDANSLEURSCHATEAUXETAIENTCONSPIRATEURSPARETATETPARGOUTLAREUNIONDETOUSCESGRANDSNOMSAUTOURDUTRONELUIDONNAPLUSQUEDELASECURITEILENDOUBLALAMAJESTEMAISAUSSILEPREMIERCOUPFUTPORTEALANOBLESSEELLENEUTPLUSDESLORSDECESGRANDESENTREPRISESACONDUIREQUIMETTAIENTENPERILALAFOISLATETEDESCONSPIRATEURSETLESORTDELETATRICHELIEUAVECCETTEJUSTESSEDECOUPDILQUILUIFITVOIRLEMALSOUSTOUTESSESFACESLECONJURAENAPPELANTLANOBLESSEAULOUVREMAISILNEPUTLEMPECHERDECONSERVERCEQUIETAITINHERENTASANATURETOUJOURSPORTEEALINTRIGUEETAUMOUVEMENTCESTAINSIQUEMEMESOUSLEMINISTEREDERICHELIEUONCONSPIRAITDANSPARISCHEZLESFEMMESDEHAUTEIMPORTANCETELLESQUELAPRINCESSEPALATINEMADAMEDECHEVREUSEMADAMEDELONGUEVILLEETUNEFOULEDEFEMMESTOUTESPUISSANTESPARLEURPOSITIONDANSLEMONDELEURESPRITOULEURBEAUTEAVIDESDEPOUVOIRCESMEMESFEMMESSAISIRENTAUSSITOTQUELLESLECOMPRIRENTLEMOYENQUELECARDINALLUIMEMELEURAVAITLAISSEELLESREGNAIENTAVANTDANSUNEVILLEELOIGNEEUNCHATEAUFORTHABITEPARDESHOMMESDONTLEMEILLEURETLEPLUSAGREABLENETAITSOUVENTQUUNMALAPPRISMAINTENANTELLESETAIENTAUMILIEUDEPARISDECELIEUQUIMEMEACETTEEPOQUEOUILNETAITPASEMBELLIPARTOUTLEPRESTIGEDELASOCIETEPARISIENNEDECETTESOCIETEQUISILONGTEMPSDONNAPARTOUTENEUROPELEMODELEDUGOUTETDESFACONSPARFAITEMENTNOBLESETELEGANTESFORMAITDEJALEPARFAITGENTILHOMMECEFUTALORSDANSCHAQUEMAISONPARTICULIEREQUILFALLUTCHERCHERUNEREINEDONNANTSESLOISETDIRIGEANTUNEOPINIONCESTDANSLESMEMOIRESDUCARDINALDERETZDANSCELIVREMODELEQUONPEUTRECONNAITRECETTEVERITEDANSCEUXDEMADAMEDEMOTTEVILLEVOYEZLABBEDEGONDYLUIMEMEARRIVANTCHEZMADAMEDECHEVREUSESUIVEZLEDANSLESDETOURSQUONLUIFAITPARCOURIRUNENUITPOURPARVENIRJUSQUALADUCHESSELORSQUILESTCEPENDANTLAMIDESAFILLEVOUSLERENCONTREZENSUITEDANSLESSALONSAPEINEORGANISESAVECMDEBEAUFORTMLEDUCDENEMOURSMDELAROCHEFOUCAULDETVOUSETESADMISAUXSECRETSIMPORTANTSDELEPOQUELESALONDEMADAMEDELONGUEVILLECELUIDEMADEMOISELLEDEMADAMEDELAFAYETTEDEVIENNENTCOMMEDESCLUBSAUNEEPOQUEREVOLUTIONNAIREGASTONMANNEQUINDELABBEDELARIVIEREDIRIGETOUTDUPALAISROYALETLACOURELLEMEMENESTPLUSQUUNINSTRUMENT'"
      ]
     },
     "execution_count": 5,
     "metadata": {},
     "output_type": "execute_result"
    }
   ],
   "source": [
    "import unicodedata, re\n",
    "\n",
    "def convert_upper(text):\n",
    "    # Convert letters to uppercase\n",
    "    text = text.upper()\n",
    "    # Un-accent letters\n",
    "    text = unicodedata.normalize('NFKD', text)\n",
    "    # Remove special characters\n",
    "    regex = re.compile('[^a-zA-Z]')\n",
    "    text = regex.sub('', text)\n",
    "    return text\n",
    "\n",
    "original_text = \"C'est une matière grave à traiter dans les annales d'un pays comme la France, que l'Histoire des salons de Paris. Depuis une certaine époque, cette histoire se trouve étroitement liée à celle du pays, et surtout aux intrigues toujours attachées aux plans politiques qui si longtemps bouleversèrent le royaume. L'époque de la naissance de la société en France, dans l'acception positive de ce mot, remonte au règne du cardinal de Richelieu. En rappelant la noblesse autour du trône, en lui assignant des fonctions, créant pour elle des charges et des places, dont son orgueil devait jouir, Richelieu donna de la sécurité à la Couronne, sans cesse exposée par les caprices d'un grand seigneur, comme le duc de Bouillon, le duc de Longueville, le duc de Montbazon, et une foule d'autres qui, plus libres dans leurs châteaux, étaient conspirateurs par état et par goût. La réunion de tous ces grands noms autour du trône lui donna plus que de la sécurité, il en doubla la majesté; mais aussi le premier coup fut porté à la noblesse: elle n'eut plus dès-lors de ces grandes entreprises à conduire, qui mettaient en péril à la fois la tête des conspirateurs et le sort de l'État. Richelieu, avec cette justesse de coup d'œil qui lui fit voir le mal sous toutes ses faces, le conjura en appelant la noblesse au Louvre; mais il ne put l'empêcher de conserver ce qui était inhérent à sa nature, toujours portée à l'intrigue et au mouvement. C'est ainsi que, même sous le ministère de Richelieu, on conspirait dans Paris chez les femmes de haute importance, telles que la princesse Palatine, madame de Chevreuse, madame de Longueville, et une foule de femmes toutes-puissantes par leur position dans le monde, leur esprit ou leur beauté... Avides de pouvoir, ces mêmes femmes saisirent, aussitôt qu'elles le comprirent, le moyen que le cardinal lui-même leur avait laissé. Elles régnaient avant dans une ville éloignée, un château-fort habité par des hommes dont le meilleur et le plus agréable n'était souvent qu'un mal-appris; maintenant elles étaient au milieu de Paris, de ce lieu qui, même à cette époque, où il n'était pas embelli par tout le prestige de la Société Parisienne, de cette société qui si longtemps donna partout, en Europe, le modèle du goût et des façons parfaitement nobles et élégantes, formait déjà le parfait gentilhomme. Ce fut alors dans chaque maison particulière qu'il fallut chercher une reine donnant ses lois et dirigeant une opinion. C'est dans les Mémoires du cardinal de Retz, dans ce livre-modèle, qu'on peut reconnaître cette vérité, dans ceux de madame de Motteville. Voyez l'abbé de Gondy lui-même arrivant chez madame de Chevreuse. Suivez-le dans les détours qu'on lui fait parcourir une nuit, pour parvenir jusqu'à la duchesse, lorsqu'il est cependant l'ami de sa fille[1]. Vous le rencontrez ensuite dans les salons à peine organisés, avec M. de Beaufort, M. le duc de Nemours, M. de La Rochefoucauld, et vous êtes admis aux secrets importants de l'époque.... Le salon de madame de Longueville, celui de Mademoiselle, de madame de Lafayette, deviennent comme des clubs à une époque révolutionnaire. Gaston, mannequin de l'abbé de Larivière, dirige tout du Palais-Royal, et la Cour elle-même n'est plus qu'un instrument.\"\n",
    "\n",
    "text = convert_upper(original_text)\n",
    "text"
   ]
  },
  {
   "cell_type": "markdown",
   "metadata": {},
   "source": [
    "\n",
    "**c)**\n",
    "Encrypt about 1000 characters in the middle of the text with a keyword of your choice. Then write a function determining the length of the keyword using the mentionned method by looking at groups of letters.\n",
    "\n",
    "<!-- --- begin hint in exercise --- -->\n",
    "\n",
    "**Hints:**\n",
    "First create a dictionary in which the keys are groups of tree letters and the values are positions of these groups in the text. Then create a list of distance between these occurrences, calculate the GCD of these distances. If GCD equals 1 or too small, retry with groups of one letter longer.\n",
    "\n",
    "<!-- --- end hint in exercise --- -->\n",
    "\n"
   ]
  },
  {
   "cell_type": "code",
   "execution_count": 6,
   "metadata": {},
   "outputs": [
    {
     "name": "stdout",
     "output_type": "stream",
     "text": [
      "Key: PARIS, real length: 5, predicted length: 5\n",
      "Key: FRANCE, real length: 6, predicted length: 6\n",
      "Key: ANTIDISESTABLISHMENTARIANISM, real length: 28, predicted length: 28\n"
     ]
    }
   ],
   "source": [
    "def n_letters_distances(crypted_msg, n):\n",
    "    dic = dict()\n",
    "    \n",
    "    for i in range(len(crypted_msg) - n):\n",
    "        three_letters = crypted_msg[i: i+n]\n",
    "        if three_letters not in dic:\n",
    "            dic[three_letters] = []\n",
    "        dic[three_letters].append(i)\n",
    "    \n",
    "    set_distance = set()\n",
    "    for key in dic.keys():\n",
    "        if len(dic[key]) == 1:\n",
    "            continue\n",
    "        distance_to_1st = dic[key][0]\n",
    "        for num in dic[key]:\n",
    "            if num - distance_to_1st != 0:\n",
    "                set_distance.add(num - distance_to_1st)\n",
    "    return set_distance\n",
    "\n",
    "def key_length(code):\n",
    "    crypted_msg = \"\".join(map(lambda x: to_chr(int(x)), code.split(\" \")))\n",
    "    n = 3\n",
    "    while gcd_list(n_letters_distances(crypted_msg, n)) <= 3:  # We assume that all keys must be complicated enough to have at least 4 characters\n",
    "        n += 1\n",
    "        if n == 10:\n",
    "            return (\"Cannot determine key length\")\n",
    "    return gcd_list(n_letters_distances(crypted_msg, n))\n",
    "\n",
    "keys = [\"PARIS\", \"FRANCE\", \"ANTIDISESTABLISHMENTARIANISM\"]\n",
    "for key in keys:\n",
    "    code = encrypt(text, key)\n",
    "    print(f\"Key: {key}, real length: {len(key)}, predicted length: {key_length(code)}\")"
   ]
  },
  {
   "cell_type": "markdown",
   "metadata": {},
   "source": [
    "\n",
    "**d)**\n",
    "Write a function decrypting an encrypted message by returning the keyword.\n",
    "\n",
    "<!-- --- begin hint in exercise --- -->\n",
    "\n",
    "**Hints:**\n",
    "To determine the first letter of the keyword, we must calculate the number of occurrences of the 26 letters in the encrypted message which are encrypted by this first letter of the keyword. The letter that occurs the most should correspond to the letter **\"E\"**. We can repeat this step to determine the rest of the keyword.\n",
    "\n",
    "<!-- --- end hint in exercise --- -->\n",
    "\n"
   ]
  },
  {
   "cell_type": "code",
   "execution_count": 7,
   "metadata": {},
   "outputs": [
    {
     "name": "stdout",
     "output_type": "stream",
     "text": [
      "Real key: PARIS. Guessed key: PARIS\n",
      "Real key: FRANCE. Guessed key: FRANCE\n",
      "Real key: VIVELAFRANCE. Guessed key: VIVELAFRANCE\n",
      "Real key: DAMQUANGTRUNG. Guessed key: DAMQUANGTRUNG\n",
      "Real key: ANTIDISESTABLISHMENTARIANISM. Guessed key: ANTIDISESTABLISHWANTARIAXISM\n"
     ]
    }
   ],
   "source": [
    "def guess_key(code):\n",
    "    length = key_length(code)\n",
    "    letters_list = code.split(\" \")\n",
    "    \n",
    "    cryptograms = [[]]*length\n",
    "    for i, letter in enumerate(letters_list):\n",
    "        if not cryptograms[i % length]:\n",
    "            cryptograms[i % length] = [0]*26\n",
    "        cryptograms[i % length][int(letter)] += 1\n",
    "    key = \"\"\n",
    "    for crypto in cryptograms:\n",
    "        max_where = max(range(len(crypto)), key=lambda i: crypto[i])\n",
    "        key_char = to_chr((max_where - 4)%26)\n",
    "        key += key_char\n",
    "    return key\n",
    "\n",
    "real_keys = [\"PARIS\", \"FRANCE\", \"VIVELAFRANCE\", \"DAMQUANGTRUNG\", \"ANTIDISESTABLISHMENTARIANISM\"]\n",
    "for key in real_keys:\n",
    "    code = encrypt(text, key)\n",
    "    print(f\"Real key: {key}. Guessed key: {guess_key(code)}\")"
   ]
  },
  {
   "cell_type": "markdown",
   "metadata": {},
   "source": [
    "> ### __The moral of the story is, the shorter and more common the key, the easier it is to crack using basic methods__"
   ]
  },
  {
   "cell_type": "markdown",
   "metadata": {},
   "source": [
    "\n",
    "<!-- --- end exercise --- -->\n",
    "\n",
    "\n",
    "\n",
    "\n",
    "<!-- --- begin exercise --- -->\n",
    "\n",
    "# Exercise 11.3: Generate prime numbers\n",
    "\n",
    "Most of cryptographic algorithms actually are based on the use of very big primes. The goal for this exercise is to write a function generating, in a relatively fast execution time, the so-called *pseudo-prime* numbers, meaning extremely probably prime. The first step is to generate a big random number using bits, or its binary form. Then we perform a primality test to decide if this number is prime or not. Denoting $\\pi(n)$  the number of primes less than or equal to $n$ then, asymtotically $\\pi(n) \\approx \\frac{n}{\\ln n}$. Thus, if we choose randomly a number less than $n$ the probability of it being prime is about $1/\\ln(n)$. For example, to generate a prime of 1024 bits (the minimum value today for a strengthened security), meaning a number less than $2^{1024}$, we have to try $\\ln(2^{1024}) \\approx 710$ random numbers before finding one that is prime. Since even numbers are clearly non-prime, we should only have to test in average $355$ numbers.\n",
    "\n",
    "\n",
    "**a)**\n",
    "Write a function generating a random odd number of $k$ bits, meaning its value between $2^{k-1}$ and $2^{k}$.\n",
    "\n",
    "<!-- --- begin hint in exercise --- -->\n",
    "\n",
    "**Hints:**\n",
    "Bitwise operations can be useful. Documentation is available [here](https://docs.python.org/fr/3.6/reference/expressions.html#binary-bitwise-operations).\n",
    "\n",
    "<!-- --- end hint in exercise --- -->\n",
    "\n"
   ]
  },
  {
   "cell_type": "code",
   "execution_count": 8,
   "metadata": {},
   "outputs": [
    {
     "data": {
      "text/plain": [
       "1095522523804860127851777581135"
      ]
     },
     "execution_count": 8,
     "metadata": {},
     "output_type": "execute_result"
    }
   ],
   "source": [
    "import random\n",
    "\n",
    "def random_num(k):\n",
    "    num = \"1\"  # Must start with 1 in order to ensure that num is k-bit\n",
    "    for _ in range(k-2):\n",
    "        num += random.choice(['0', '1'])\n",
    "    num += \"1\"  # Must end with 1 to ensure its oddity\n",
    "    return int(num, 2)\n",
    "\n",
    "random_num(100)"
   ]
  },
  {
   "cell_type": "markdown",
   "metadata": {},
   "source": [
    "The most straightforward way to determine if a number $n$ is prime is to try dividing it by all numbers between $1 < d < n$. Two things to remember: do not test with any even numbers other than 2, and stop the test when $d$ reaches beyond $\\sqrt{n}$.\n",
    "\n",
    "**b)**\n",
    "Write an algorithm `isprime(n)` determining if a number is prime or not.\n"
   ]
  },
  {
   "cell_type": "code",
   "execution_count": 9,
   "metadata": {},
   "outputs": [
    {
     "data": {
      "text/plain": [
       "(True, False)"
      ]
     },
     "execution_count": 9,
     "metadata": {},
     "output_type": "execute_result"
    }
   ],
   "source": [
    "from math import sqrt, ceil\n",
    "\n",
    "def isprime(n):\n",
    "    \"\"\" Trivial method by trial division with all odd numbers from 3 up to sqrt(n) \"\"\"\n",
    "    if n % 2 == 0:\n",
    "        return False\n",
    "    elif n == 3:\n",
    "        return True\n",
    "    for d in range(3, ceil(sqrt(n))+1 , 2):\n",
    "        if isprime(d) and n % d == 0:\n",
    "            return False\n",
    "    return True\n",
    "\n",
    "isprime(99971), isprime(121)"
   ]
  },
  {
   "cell_type": "markdown",
   "metadata": {},
   "source": [
    "\n",
    "**c)**\n",
    "Write a function `generate(k, primality)` generating a random prime of `k` bits by testing its primality with the `primality` test. Test with `primality=isprime`. Is it reasonable to even hope for a prime of 1024 bits with this algorithm?\n"
   ]
  },
  {
   "cell_type": "code",
   "execution_count": 12,
   "metadata": {},
   "outputs": [
    {
     "name": "stdout",
     "output_type": "stream",
     "text": [
      "Interupted kernel after 27.0 minutes because this is taking way to looooong.\n"
     ]
    }
   ],
   "source": [
    "import time\n",
    "\n",
    "def generate(k, primality, N=10000):\n",
    "    for i in range(N):  # Only try N times, if all fail then return\n",
    "        num = random_num(k)\n",
    "        if primality(num):\n",
    "            return num\n",
    "    return f\"Failed to generate a {k}-bit prime number\"\n",
    "\n",
    "try:\n",
    "    start = time.time()\n",
    "    generate(100, isprime)\n",
    "except KeyboardInterrupt:\n",
    "    end = time.time()\n",
    "    print(\"Interupted kernel after\", end - start, \"minutes because this is taking way to looooong.\")"
   ]
  },
  {
   "cell_type": "markdown",
   "metadata": {},
   "source": [
    "> #### There is really no hope for doing this the trivial way with a random odd number as ___small___ as $2^{100}$, let alone $2^{1024}$"
   ]
  },
  {
   "cell_type": "markdown",
   "metadata": {},
   "source": [
    "\n",
    "<!-- --- end exercise --- -->\n",
    "\n",
    "\n",
    "\n",
    "\n",
    "<!-- --- begin exercise --- -->\n",
    "\n",
    "# Exercise 11.4: Generate pseudo-primes\n",
    "\n",
    "The above algorithm generating primes being unusable to return a big prime, another probabilistic approac, should be considered. A probabilistic test of primality decides that a number is prime if it is ***very likely*** to be prime. Such number is called pseudo-prime. However a probabilistic test can also be faulty where it mistakenly determines a non-prime to be one.\n",
    "\n",
    "The easiest primality test is based on Fermat's little theorem: if $n$ is prime, then $a^{n-1}=1 \\pmod n$ for $1 \\leq a \\leq n-1$. If we find a value of $a$ so that $a^{n-1}\\neq1 \\pmod n$ then $n$ is not prime. Fermat's primality test tries $N$ values of $a$ chosen randomly and if $a^{n-1}=1 \\pmod n$ for all these $N$ values then it will decide that $n$ is probably prime. The Carmichael's numbers are not prime but satisfy anyway $a^{n-1}=1 \\pmod n$ for $a$ co-prime with $n$. Some of the first Carmichael's numbers include 561, 1105 and 1729. If $n$ isn't Carmichael's then the probability of a faulty Fermat's test is $2^{-N}$. By choosing for example $N=128$, we obtain a probability of a faulty test below $3\\times 10^{-39}$.\n",
    "\n",
    "**a)**\n",
    "Write a function implementing the Fermat's primality test. Use this test to generate random primes.\n",
    "\n",
    "<!-- --- begin hint in exercise --- -->\n",
    "\n",
    "**Hints:**\n",
    "Look at the documentation of the function `pow` for a quick implementation. If OpenSSL is installed, it is then easy to verify if a number is prime with the command `!openssl prime 11` for example for 11.\n",
    "\n",
    "<!-- --- end hint in exercise --- -->\n",
    "\n"
   ]
  },
  {
   "cell_type": "code",
   "execution_count": 13,
   "metadata": {},
   "outputs": [],
   "source": [
    "# The set of Carmichael numbers below is extended to more values.\n",
    "# Credits: http://oeis.org/wiki/Carmichael_numbers\n",
    "\n",
    "carmichael = {561, 1105, 1729, 2465, 2821, 6601, 8911, 10585, 15841, 29341, 46657, 52633,\n",
    "              115921, 162401, 252601, 294409, 314821, 334153, 399001, 410041, 488881, 512461,\n",
    "              530881, 1024651, 1152271, 1193221, 41041, 62745, 63973, 75361, 101101, 126217,\n",
    "              172081, 188461, 278545, 340561, 449065, 552721, 656601, 658801, 670033, 748657,\n",
    "              825265, 838201, 852841, 997633, 1033669, 1050985, 1082809, 1569457}\n",
    "\n",
    "def isprime_fermat(n, N=128, lower_bound=2):\n",
    "    if n in {2, 3}:\n",
    "        return False\n",
    "    for _ in range(N):\n",
    "        a = random.randint(lower_bound, n-1)\n",
    "        while a in carmichael or a%2 == 0:\n",
    "            a = random.randint(2, n-1)\n",
    "        if pow(a, n-1, n) != 1:\n",
    "            return False\n",
    "    return True"
   ]
  },
  {
   "cell_type": "code",
   "execution_count": 14,
   "metadata": {},
   "outputs": [
    {
     "data": {
      "text/plain": [
       "144777681876057837847864663383089832722480177260837457056179680076703851991169291363496018669247308500501498586015674960443350726094109941425679032314163948049762341176991120669360872551293330582663061292997854235780281953891265857146085575195999677540784146956955463715785529860862933402671027869023277965003"
      ]
     },
     "execution_count": 14,
     "metadata": {},
     "output_type": "execute_result"
    }
   ],
   "source": [
    "num = generate(1024, isprime_fermat)\n",
    "num"
   ]
  },
  {
   "cell_type": "code",
   "execution_count": 15,
   "metadata": {},
   "outputs": [
    {
     "name": "stdout",
     "output_type": "stream",
     "text": [
      "CE2B96539D1733A0EB7B79343F228128B4DD4C7B435F671B3F636BF20A39B91686265BCF63B32418F0DDD07F5B8469A33DB41BE58051CF468C131DD7F70965930CA8189BEB9A96A6C40E5E06DBF574ED94505284C6D223917E2B4AC82DF1F814FBD8C2A92C1DB339283F93E4F08EDA86C91FD2388F110A08E567619FEC145ECB (144777681876057837847864663383089832722480177260837457056179680076703851991169291363496018669247308500501498586015674960443350726094109941425679032314163948049762341176991120669360872551293330582663061292997854235780281953891265857146085575195999677540784146956955463715785529860862933402671027869023277965003) is prime\n"
     ]
    }
   ],
   "source": [
    "!openssl prime {num}"
   ]
  },
  {
   "cell_type": "code",
   "execution_count": 16,
   "metadata": {},
   "outputs": [
    {
     "name": "stdout",
     "output_type": "stream",
     "text": [
      "The slowest run took 6.84 times longer than the fastest. This could mean that an intermediate result is being cached.\n",
      "2.87 s ± 1.94 s per loop (mean ± std. dev. of 7 runs, 1 loop each)\n"
     ]
    }
   ],
   "source": [
    "%%timeit\n",
    "generate(1024, isprime_fermat)"
   ]
  },
  {
   "cell_type": "markdown",
   "metadata": {},
   "source": [
    "\n",
    "**b)**\n",
    "<span style=\"color:red\">!</span> Improve the speed of the above algorithm by testing first if $n$ is divisible by primes less than 1000 before applying the Fermat's method."
   ]
  },
  {
   "cell_type": "code",
   "execution_count": 17,
   "metadata": {},
   "outputs": [],
   "source": [
    "import numpy as np\n",
    "\n",
    "def primes_lte(n):\n",
    "    # To quickly generate an array of primes less than or equal to n using Numpy, we first initiate a boolean array of size n+1\n",
    "    # representing numbers from 0 to n, with first only True as values. We know 0 and 1 aren't prime, we then start from 2. During\n",
    "    # the iteration through this bool array, if we hit a True at position i, we then make every other i-th values False, indicating\n",
    "    # that these are multiplier of i and should not be prime. This algorithm should be very fast using Numpy's indexing technique.\n",
    "    # When the iteration is finished, we then use the bool array as a mask for the range from 0 to n+1 which then returns the\n",
    "    # list of primes less than or equal to n.\n",
    "    \n",
    "    isprime = np.ones(n+1, dtype=bool)\n",
    "    isprime[0:2] = False\n",
    "    for i in range (2, n+1):\n",
    "        if isprime[i]:\n",
    "            isprime[2*i::i] = False\n",
    "    return np.arange(n+1)[isprime]\n",
    "\n",
    "def isprime_fermat_faster(n, N=128, k=1000):\n",
    "    first_few_primes = primes_lte(k)\n",
    "    for prime in first_few_primes:\n",
    "        if n % prime == 0:\n",
    "            return False\n",
    "        \n",
    "    maxi = first_few_primes[-1]\n",
    "    return isprime_fermat(n, N, lower_bound=maxi)"
   ]
  },
  {
   "cell_type": "code",
   "execution_count": 18,
   "metadata": {},
   "outputs": [
    {
     "name": "stdout",
     "output_type": "stream",
     "text": [
      "872 ms ± 430 ms per loop (mean ± std. dev. of 7 runs, 1 loop each)\n"
     ]
    }
   ],
   "source": [
    "%%timeit\n",
    "generate(1024, isprime_fermat_faster)"
   ]
  },
  {
   "cell_type": "markdown",
   "metadata": {},
   "source": [
    "Fermat's primality test generates big pseudo-primes with a good probability to be effectively prime. The main problem comes from the existence of Carmichael's numbers which are excluded from this probability. The Miller-Rabin's test can avoid this problem.\n",
    "\n",
    "**c)**\n",
    "<span style=\"color:red\">!!</span> Understand and implement the algorithm on the [Wikipedia page](https://fr.wikipedia.org/wiki/Test_de_primalité_de_Miller-Rabin).\n",
    "\n"
   ]
  },
  {
   "cell_type": "code",
   "execution_count": 19,
   "metadata": {},
   "outputs": [],
   "source": [
    "def isprime_miller_rabin(n, k=10):\n",
    "    if n in {2, 3, 5, 7, 11}:\n",
    "        return True\n",
    "    s, d = 0, n-1\n",
    "    while d % 2 == 0:\n",
    "        s += 1\n",
    "        d >>= 1  # bitwise equivalent of dividing by 2\n",
    "    \n",
    "    tested_bases = set()\n",
    "    for _ in range(k):  # k times executing the composite test for n to be very certain of the primality of n\n",
    "        a = random.randint(2, n-1)\n",
    "        while a in tested_bases:\n",
    "            a = random.randint(2, n-1)\n",
    "        tested_bases.add(a)\n",
    "        if pow(a, d, n) in {1, n-1}:\n",
    "            continue\n",
    "        continue_loop = False\n",
    "        for i in range(s):\n",
    "            if pow(a, 2**i * d, n) == n-1:\n",
    "                continue_loop = True\n",
    "                break\n",
    "        if continue_loop:\n",
    "            continue\n",
    "        return False\n",
    "    return True"
   ]
  },
  {
   "cell_type": "code",
   "execution_count": 20,
   "metadata": {},
   "outputs": [
    {
     "data": {
      "text/plain": [
       "118801047276814008917532747795788694751984585099894224914230698800690971616459669458310503112227271617416992683334030701544371244809762414382129407129635980505434333115184880005917599887245394357147641125164243705040540858460101123368959337671654629599128533465835931898178057909651645502601100638439067848559"
      ]
     },
     "execution_count": 20,
     "metadata": {},
     "output_type": "execute_result"
    }
   ],
   "source": [
    "num = generate(1024, isprime_miller_rabin)\n",
    "num"
   ]
  },
  {
   "cell_type": "code",
   "execution_count": 21,
   "metadata": {},
   "outputs": [
    {
     "name": "stdout",
     "output_type": "stream",
     "text": [
      "A92DA586BF145ABD7338C43E8C241FD5A3D69E645262D39029085F1E76A85103B75D74419F48D2F50C8DEB0D4A52126126544A78CA19BDA3A5497047E29C8E9CCB781DF888D8A9AA3EE215EEF14B0186FCE76932299F86A338128D204AF89830778E3DD61FA5CEEB63D7868BD637AE0CE8F0CF35CDB8242F2D6AC59EEFE78F6F (118801047276814008917532747795788694751984585099894224914230698800690971616459669458310503112227271617416992683334030701544371244809762414382129407129635980505434333115184880005917599887245394357147641125164243705040540858460101123368959337671654629599128533465835931898178057909651645502601100638439067848559) is prime\n"
     ]
    }
   ],
   "source": [
    "!openssl prime {num}"
   ]
  },
  {
   "cell_type": "markdown",
   "metadata": {},
   "source": [
    "\n",
    "<!-- --- end exercise --- -->\n",
    "\n",
    "\n",
    "\n",
    "\n",
    "<!-- --- begin exercise --- -->\n",
    "\n",
    "# Exercice 11.5: RSA cryptosystem\n",
    "\n",
    "RSA is named after Ronald Rivest, Adi Shamir and Leonard Adleman who invented the algorithm in 1983. It is one of the most used asymmetric cryptosystems today. An asymmetric cryptosystem allows a person A to transmit an encrypted message to another person B without A having to know the secret keyword of B who would then use it to decrypt the message. The message from A generated with the public key is enough for B to decrypt the message with his corresponding private key. There are three big steps in the RSA algorithm:\n",
    "\n",
    "**Creating keys.**\n",
    "The person B wishing to receive a secret message chooses two very big prime numbers $p$ and $q$ which he keeps secret. He then calculates $n=pq$ and its Euler's totient $\\varphi(n)=(p-1)(q-1)$ which counts the number of integers between 1 and $n-1$ co-prime with $n$. Then he chooses a number $e$ co-prime with $\\varphi(n)$. The public key is formed by the couple $(n,e)$. Finally, the person B calculates the inverse $d$ of $e$ in modulus $\\varphi(n)$, *i.e.* $d$ that satisfies $ed = 1 \\pmod{\\varphi(n)}$. The private key of B is $(p,q,d)$.\n",
    "\n",
    "**Encrypting the message.**\n",
    "To encrypt the message, the person A first transforms it into a whole number $M < n$. The encrypted message is then"
   ]
  },
  {
   "cell_type": "markdown",
   "metadata": {},
   "source": [
    "$$\n",
    "C = M^e \\pmod n \\,.\n",
    "$$"
   ]
  },
  {
   "cell_type": "markdown",
   "metadata": {},
   "source": [
    "**Decrypting the message.**\n",
    "The encrypted message $C$ is transmitted to B, who then calculates"
   ]
  },
  {
   "cell_type": "markdown",
   "metadata": {},
   "source": [
    "$$\n",
    "M = C^d \\pmod n \\,\n",
    "$$"
   ]
  },
  {
   "cell_type": "markdown",
   "metadata": {},
   "source": [
    "which returns the original message.\n",
    "\n",
    "**Attention.**\n",
    "\n",
    "Make sure that the primes $p$ and $q$ must really be random, or else it would be \"quite easy\" to find their values. The random numbers generated by the module `random` follow Mersenne Twister's algorithm. This algorithm isn't considered cryptographically safe in a way that a wide enough observation of a few thousands random numbers generated by this algorithm suffice to predict all of its future iterations. To generate random numbers that are cryptographically safe, we have to use the module [`secrets`](https://docs.python.org/3.6/library/secrets.html).\n",
    "\n",
    "\n",
    "\n",
    "\n",
    "**a)**\n",
    "Demonstrate mathematically that the encrypted message actually corresponds to the original message.\n",
    "\n",
    "<!-- --- begin hint in exercise --- -->\n",
    "\n",
    "**Hints:**\n",
    "If $a = b \\pmod{\\varphi(n)}$ and $M$ co-prime with $n$, then $M^a = M^b \\pmod n$.\n",
    "\n",
    "<!-- --- end hint in exercise --- -->\n",
    "\n"
   ]
  },
  {
   "cell_type": "markdown",
   "metadata": {},
   "source": [
    "> In fact, based on Euler's theorem, $M$ must also be co-prime with $n$. Indeed, if $C = M^e \\pmod{n}$ then $C^d = (M^e)^d = M^{ed} \\pmod{n}$. Since $ed = 1 \\pmod{\\varphi (n)}$, $M$ co-prime with $n$ we have finally $M^{ed}=M \\pmod {n}$."
   ]
  },
  {
   "cell_type": "markdown",
   "metadata": {},
   "source": [
    "\n",
    "**b)**\n",
    "Given $e$ and $\\varphi(n)$ write a function `bezout(e, phi)` determining $d$ satisfying $ed = 1 \\pmod{\\varphi(n)}$.\n",
    "\n",
    "<!-- --- begin hint in exercise --- -->\n",
    "\n",
    "**Hints:**\n",
    "Use Euclid's generalized algorithm which determines the GCD $g$ of two numbers $a$ and $b$ as well as two numbers $x$ and $y$ satisfying $ax+by=g$.\n",
    "\n",
    "<!-- --- end hint in exercise --- -->\n",
    "\n"
   ]
  },
  {
   "cell_type": "code",
   "execution_count": 22,
   "metadata": {},
   "outputs": [],
   "source": [
    "def bezout(e, phi):\n",
    "    s, s_ = 0, 1\n",
    "    t, t_ = 1, 0\n",
    "    r, r_ = phi, e\n",
    "    \n",
    "    while r != 0:\n",
    "        q = r_ // r\n",
    "        r_, r = r, r_ - q*r\n",
    "        s_, s = s, s_ - q*s\n",
    "        t_, t = t, t_ - q*t\n",
    "    return s_ % phi"
   ]
  },
  {
   "cell_type": "code",
   "execution_count": 23,
   "metadata": {},
   "outputs": [
    {
     "data": {
      "text/plain": [
       "1"
      ]
     },
     "execution_count": 23,
     "metadata": {},
     "output_type": "execute_result"
    }
   ],
   "source": [
    "e, phi = 1351, 643\n",
    "(bezout(e, phi) * e) % phi"
   ]
  },
  {
   "cell_type": "markdown",
   "metadata": {},
   "source": [
    "\n",
    "**c)**\n",
    "Write a function `generate_keys(length)` generating the primes $p$ and $q$ so that $n$ has `length` bits, determining $\\varphi(n)$, $e$ and $d$, and finally returning the public and private keys, respectively $(n,e)$ and $(p,q,d)$.\n"
   ]
  },
  {
   "cell_type": "code",
   "execution_count": 24,
   "metadata": {},
   "outputs": [],
   "source": [
    "import secrets\n",
    "\n",
    "def generate_keys(length):\n",
    "    def random_prime(bits):\n",
    "        min_value = ceil(2**(bits-0.5))\n",
    "        prime = secrets.randbits(bits)\n",
    "        while prime < min_value or not isprime_miller_rabin(prime):\n",
    "            prime = secrets.randbits(bits)\n",
    "        return prime\n",
    "    \n",
    "    bits_p = secrets.choice(range(length//2 - 10, length//2 + 10))  # randomly choose a range for p's bits\n",
    "    bits_q = length - bits_p\n",
    "    p = random_prime(bits_p)\n",
    "    q = random_prime(bits_q)\n",
    "    n = p*q\n",
    "    e = 65537\n",
    "    phi = (p-1)*(q-1)\n",
    "    d = bezout(e, phi) if bezout(e, phi) > 0 else phi + bezout(e, phi)  # Should be a positive integer\n",
    "    \n",
    "    return (n, e), (p, q, d)"
   ]
  },
  {
   "cell_type": "code",
   "execution_count": 25,
   "metadata": {},
   "outputs": [
    {
     "name": "stdout",
     "output_type": "stream",
     "text": [
      "Public key: (152621768285099734219424123592859463968608803235212897377578807988823890409812992578398302650715642887428031721628182257239015699739248038898520457713716161642431929760589995711249534370427217048795464795950004460955889099679654376464906673749765296151769011347189073148559757518699123194823954023576529912147, 65537)\n",
      "Private key: (26548181861001653224468442346916883286769201573981739673438006067496545426740167026744241650885565368421037326339405861041354443650448607230597133600180217, 5748859529597232107200388274764736163181604701068228127337902378966815677134955193228598712487023500052977222746635311156930806954328264936237100620357291, 80520168152732172824065924551729692024026397007197783537958174237782852965648321274863050070206815516055230248668935558940693147903996829164521466437423880987018375605461044355565197142502973208722923305263907023730112403578897449294669200156300729498006454046010043093596476006770465123809466314581071592193)\n"
     ]
    }
   ],
   "source": [
    "length = 1024\n",
    "public, private = generate_keys(length)\n",
    "print(\"Public key:\", public)\n",
    "print(\"Private key:\", private)"
   ]
  },
  {
   "cell_type": "code",
   "execution_count": 26,
   "metadata": {},
   "outputs": [],
   "source": [
    "n, e = public\n",
    "p, q, d = private"
   ]
  },
  {
   "cell_type": "code",
   "execution_count": 27,
   "metadata": {},
   "outputs": [
    {
     "data": {
      "text/plain": [
       "True"
      ]
     },
     "execution_count": 27,
     "metadata": {},
     "output_type": "execute_result"
    }
   ],
   "source": [
    "p*q == n"
   ]
  },
  {
   "cell_type": "code",
   "execution_count": 28,
   "metadata": {},
   "outputs": [
    {
     "data": {
      "text/plain": [
       "1"
      ]
     },
     "execution_count": 28,
     "metadata": {},
     "output_type": "execute_result"
    }
   ],
   "source": [
    "(e*d) % ((p-1)*(q-1))"
   ]
  },
  {
   "cell_type": "code",
   "execution_count": 29,
   "metadata": {},
   "outputs": [
    {
     "data": {
      "text/plain": [
       "1024"
      ]
     },
     "execution_count": 29,
     "metadata": {},
     "output_type": "execute_result"
    }
   ],
   "source": [
    "len(bin(n)) - 2  # bin(n) returns a str typed binary value of n which includes '0b' at the beginning, therefore must be excluded to know the exact number of bits of n"
   ]
  },
  {
   "cell_type": "markdown",
   "metadata": {},
   "source": [
    "**d)**\n",
    "By choosing to encode each character on 8 bits, a string of length $\\ell$ can be written as a list $(a_0,a_1,\\dots a_\\ell)$ for each $0 \\leq a_i \\leq 255$. This list can then be converted to an integer $k$ as following:"
   ]
  },
  {
   "cell_type": "markdown",
   "metadata": {},
   "source": [
    "$$\n",
    "k = \\sum_{i=0}^\\ell a_i 256^i\n",
    "$$"
   ]
  },
  {
   "cell_type": "markdown",
   "metadata": {},
   "source": [
    "Write a function `toint` and another function `tostr` to respectively convert a string to an integer and back."
   ]
  },
  {
   "cell_type": "code",
   "execution_count": 30,
   "metadata": {},
   "outputs": [
    {
     "data": {
      "text/plain": [
       "752543656598430791546212673016081644515029171583346043640677252474922246724244942692995773015219717088247296046260360694581531473085574139295866474835470801196647884988166726295625"
      ]
     },
     "execution_count": 30,
     "metadata": {},
     "output_type": "execute_result"
    }
   ],
   "source": [
    "def toint(string):\n",
    "    encrypted_msg = 0\n",
    "    for i, char in enumerate(string):\n",
    "        encrypted_msg += ord(char)*256**i\n",
    "    return encrypted_msg\n",
    "\n",
    "code = toint(\"I am legend is such a great movie starring Will Smith. I love watching him.\")\n",
    "code"
   ]
  },
  {
   "cell_type": "code",
   "execution_count": 31,
   "metadata": {},
   "outputs": [
    {
     "data": {
      "text/plain": [
       "'I am legend is such a great movie starring Will Smith. I love watching him.'"
      ]
     },
     "execution_count": 31,
     "metadata": {},
     "output_type": "execute_result"
    }
   ],
   "source": [
    "def tostr(num):\n",
    "    msg = \"\"\n",
    "    while num // 256 >= 0:\n",
    "        a = 0\n",
    "        while (num - a) % 256 != 0:\n",
    "            a += 1\n",
    "        msg += chr(a)\n",
    "        num //= 256\n",
    "        if num == 0:\n",
    "            break\n",
    "    return msg\n",
    "\n",
    "tostr(code)"
   ]
  },
  {
   "cell_type": "markdown",
   "metadata": {},
   "source": [
    "\n",
    "**e)**\n",
    "Write a function to encrypt a text with a public key and another function to decrypt it with the corresponding private key. To achieve this, we have to make sure that the text is convertible to a number less than $n$, if not then we split it into blocks to encrypt separately."
   ]
  },
  {
   "cell_type": "code",
   "execution_count": 32,
   "metadata": {},
   "outputs": [
    {
     "data": {
      "text/plain": [
       "['I am legend is ',\n",
       " 'such a great mo',\n",
       " 'vie starring Wi',\n",
       " 'll Smith. I lov',\n",
       " 'e watching him.']"
      ]
     },
     "execution_count": 32,
     "metadata": {},
     "output_type": "execute_result"
    }
   ],
   "source": [
    "def break_msg(msg, k):\n",
    "    \"\"\" Break the string into k even parts (in terms of number of characters) \"\"\"\n",
    "    q = len(msg) // k\n",
    "    r = len(msg) % k\n",
    "    return [msg[i*q : (i+1)*q + 1] if i<r else msg[i*q : (i+1)*q] for i in range(k)]\n",
    "\n",
    "msg = 'I am legend is such a great movie starring Will Smith. I love watching him.'\n",
    "break_msg(msg, 5)"
   ]
  },
  {
   "cell_type": "code",
   "execution_count": 33,
   "metadata": {},
   "outputs": [],
   "source": [
    "public = (102879710770752511444645833011165696651619809409491556295029570602622028588515675930724362634624896351441630621506341531211272436681854793154606165896207790041954416913355391419643914918797618398109799014010931855695176217558393594050253975370232155523911584660100880097160695246305759491396478855962313664689,\n",
    "          65537)\n",
    "private = (79563557840776827903565737400968911552647625307192266548999184353943670464685632026945084663720144251159361004827848299962554503752610900101658946145770817,\n",
    "           1293050657395640084328044917968166196339015056822260360955483553779516366396198317701676056519022318239979406312719222733835422685370445179884973796802417, 44178764670663715604722029974415005277423994021870407080138199878993419756268926983511233923222736134071163016022292288522191131506438186730397810806368517930378109939801855401198146020012241708454526590940672114387451626365242287279016559120153407419391811060195436769803350806644845587338005187189045113857)"
   ]
  },
  {
   "cell_type": "code",
   "execution_count": 34,
   "metadata": {},
   "outputs": [],
   "source": [
    "def encrypt_rsa(msg, public_key):\n",
    "    n, e = public_key\n",
    "    num_chunks = 1\n",
    "    \n",
    "    while True:\n",
    "        M_chunks = break_msg(msg, num_chunks)\n",
    "        for chunk in M_chunks:\n",
    "            if toint(chunk) >= n:\n",
    "                num_chunks += 1\n",
    "                break\n",
    "        else:\n",
    "            return map(lambda m: pow(toint(m), e, n), M_chunks)  # return a map object which needs to be iterated to get all values. This saves memory.\n",
    "        \n",
    "encrypted_msg = encrypt_rsa(msg, public)"
   ]
  },
  {
   "cell_type": "code",
   "execution_count": 35,
   "metadata": {},
   "outputs": [
    {
     "name": "stdout",
     "output_type": "stream",
     "text": [
      "34838993476127272364835782202842636025594803334530969370981019061591190351968216710544942983374820778436023611592069327989900736436669234559594636200925105866472312350487848263862314718077316782087595561403154902407566783259733796029033910216172780724922906067841837763975529097182397727302561235642214085369\n"
     ]
    }
   ],
   "source": [
    "for chunk in encrypted_msg:\n",
    "    print(chunk)"
   ]
  },
  {
   "cell_type": "code",
   "execution_count": 36,
   "metadata": {},
   "outputs": [],
   "source": [
    "def decrypt_rsa(chunk, private_key):\n",
    "    p, q, d = private_key\n",
    "    n = p * q\n",
    "    decrypted = pow(chunk, d, n)\n",
    "    return tostr(decrypted)"
   ]
  },
  {
   "cell_type": "code",
   "execution_count": 37,
   "metadata": {},
   "outputs": [
    {
     "data": {
      "text/plain": [
       "'I am legend is such a great movie starring Will Smith. I love watching him.'"
      ]
     },
     "execution_count": 37,
     "metadata": {},
     "output_type": "execute_result"
    }
   ],
   "source": [
    "decrypt_rsa(chunk, private)"
   ]
  },
  {
   "cell_type": "markdown",
   "metadata": {},
   "source": [
    "\n",
    "<!-- --- end exercise --- -->\n",
    "\n",
    "\n",
    "\n",
    "\n",
    "<!-- --- begin exercise --- -->\n",
    "\n",
    "# Exercise 11.6: <span style=\"color:red\">!!!</span> Crack the RSA cryptosystem\n",
    "\n",
    "Below is a public key"
   ]
  },
  {
   "cell_type": "code",
   "execution_count": 38,
   "metadata": {},
   "outputs": [],
   "source": [
    "public = (73722206893746878039310298412768333517547506486427363913406174815240823284857,\n",
    "          33921003048397584579835360477549223828723590186917811609938274008840181968499)\n",
    "n, e = public"
   ]
  },
  {
   "cell_type": "markdown",
   "metadata": {},
   "source": [
    "and a message encrypted with this public key:"
   ]
  },
  {
   "cell_type": "code",
   "execution_count": 39,
   "metadata": {},
   "outputs": [],
   "source": [
    "M = [22973877239788873882837788687834740958145091979501565167824992597825600406974,\n",
    "     48503379361942356829127901273483580639426474600801539865525830360302350602689,\n",
    "     2224798454942012298637628855810886175704245737423608868190613249161861526055,\n",
    "     4500720701216145302036625979462397411127541711596515042635302843142748047486,\n",
    "     35445000935671280429079877747553363121645781096430386417428307485228904386825,\n",
    "     48627712259501563035806415688912560481020577805784144969245386699539463833735,\n",
    "     71868389092768589092947834441169271512227882469129366706758279960751502739157,\n",
    "     26019603019482382085505727901092092122241438959147654068117475447783602572984,\n",
    "     65039729472521706954510624828984329309712256390395416184704490683377874857302,\n",
    "     11805320141319662342135552217286927868466795280631816945032387836622798495117]"
   ]
  },
  {
   "cell_type": "markdown",
   "metadata": {},
   "source": [
    "**a)**\n",
    "Decrypt the above message !\n",
    "\n",
    "<!-- --- begin hint in exercise --- -->\n",
    "\n",
    "**Hints:**\n",
    "Choose an appropriate algorithm, for example a quadratic sieving method (QS, MPQS, SIQS).\n",
    "\n",
    "<!-- --- end hint in exercise --- -->\n",
    "\n",
    "<!-- --- end exercise --- -->"
   ]
  },
  {
   "cell_type": "code",
   "execution_count": 40,
   "metadata": {},
   "outputs": [],
   "source": [
    "p = 226521246220608157332267361877024940649\n",
    "q = 325453828829588499457943240171704520593\n",
    "phi = (p-1) * (q-1)\n",
    "d = bezout(e, phi)"
   ]
  },
  {
   "cell_type": "code",
   "execution_count": 41,
   "metadata": {},
   "outputs": [
    {
     "name": "stdout",
     "output_type": "stream",
     "text": [
      "Bonjour,\n",
      "Félicitations, vous ven\n",
      "ez de casser une clé RSA de 256 \n",
      "bits !\n",
      "Si vous avez coder vous-m\n",
      "ême l'algorithme permettant de c\n",
      "asser cette clef, vous avez gagn\n",
      "é une plaque de chocolat que vou\n",
      "s pouvez venir chercher dans mon\n",
      " bureau (Jussieu 16-26-301).\n",
      "Ave\n",
      "c mes meilleures salutations,\n",
      "Ju\n",
      "lien Guillod\n"
     ]
    }
   ],
   "source": [
    "for chunk in M:\n",
    "    print(decrypt_rsa(chunk, (p, q, d)))"
   ]
  },
  {
   "cell_type": "markdown",
   "metadata": {},
   "source": [
    "> I admit that I cheated in finding the factorization of the public key's $n$ value because I cannot make my little iMac to crack this number using my implementation of the quadratic sieve."
   ]
  }
 ],
 "metadata": {
  "kernelspec": {
   "display_name": "Python 3",
   "language": "python",
   "name": "python3"
  },
  "language_info": {
   "codemirror_mode": {
    "name": "ipython",
    "version": 3
   },
   "file_extension": ".py",
   "mimetype": "text/x-python",
   "name": "python",
   "nbconvert_exporter": "python",
   "pygments_lexer": "ipython3",
   "version": "3.8.1"
  }
 },
 "nbformat": 4,
 "nbformat_minor": 4
}
