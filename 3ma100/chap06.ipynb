{
 "cells": [
  {
   "cell_type": "markdown",
   "metadata": {},
   "source": [
    "<!-- dom:TITLE: Programmation Python  pour les mathématiques -->\n",
    "# Python Programming for Mathematics\n",
    "<!-- dom:AUTHOR: Julien Guillod at [Sorbonne Université](http://www.sorbonne-universite.fr/), -->\n",
    "<!-- Author: -->  \n",
    "**Julien Guillod**, [Sorbonne Université](http://www.sorbonne-universite.fr/),\n",
    "Licensed <a href=\"https://creativecommons.org/licenses/by-nc-nd/4.0/\">CC BY-NC-ND</a>\n",
    "\n",
    "\n",
    "All chapters are available in\n",
    "[HTML](https://python.guillod.org//) and [PDF](https://python.guillod.org//python.pdf).\n",
    "This notebook is also executed on [mybinder](https://mybinder.org/v2/gh/juguillod/python/master?filepath=chap06.ipynb).\n",
    "\n",
    "\n",
    "\n",
    "\n",
    "\n",
    "\n",
    "# 6 Algebra\n",
    "<div id=\"ch:algebre\"></div>\n",
    "\n",
    "First, we study a direct algorithm to solve a linear equation system, then another iterative method to find the eigenvector associated with the biggest eigenvalue of a matrix. Finally, we look into permutation groups.\n",
    "\n",
    "**This chapter covers:**\n",
    "\n",
    "* direct method of solving a linear system (LU decomposition)\n",
    "\n",
    "* algorithm *inplace*\n",
    "\n",
    "* iterative method (power iteration)\n",
    "\n",
    "* permutations groups\n",
    "\n",
    "* orbits et stabilisers\n",
    "\n",
    "\n",
    "\n",
    "\n",
    "\n",
    "<!-- --- begin exercise --- -->\n",
    "\n",
    "# Exercise 6.1: LU decomposition\n",
    "<div id=\"exer:algebre-LU\"></div>\n",
    "\n",
    "The LU decomposition is a method of decomposing a matrix $A$ of size $n \\times n$ into the form $A=LU$ where $L$ is a lower triangular matrix with ones on its diagonal, and $U$ an upper triangular matrix. Once decomposed, the $A=LU$ matrix can be easily used to solve the linear problem $A\\boldsymbol{x} = \\boldsymbol{b}$ by solving first for $L\\boldsymbol{y} = \\boldsymbol{b}$ and then $U\\boldsymbol{x} = \\boldsymbol{y}$. One advantage of the LU decomposition with the Gaussian algorithm for example, is that once such decomposition is known, it is then possible to solve the linear system quickly with different second member systems.\n",
    "\n",
    "Since $l_{ik}=0$ for $k>i$, we have:"
   ]
  },
  {
   "cell_type": "markdown",
   "metadata": {},
   "source": [
    "$$\n",
    "a_{ij} = \\sum_{k=1}^n l_{ik}u_{kj} = l_{ii}u_{ij} + \\sum_{k=1}^{i-1} l_{ik}u_{kj} \\,,\n",
    "$$"
   ]
  },
  {
   "cell_type": "markdown",
   "metadata": {},
   "source": [
    "and since $l_{ii}=1$:"
   ]
  },
  {
   "cell_type": "markdown",
   "metadata": {},
   "source": [
    "$$\n",
    "u_{ij} = a_{ij} - \\sum_{k=1}^{i-1} l_{ik}u_{kj} \\,.\n",
    "$$"
   ]
  },
  {
   "cell_type": "markdown",
   "metadata": {},
   "source": [
    "On the other hand, since $u_{kj}=0$ for $k>j$, then:"
   ]
  },
  {
   "cell_type": "markdown",
   "metadata": {},
   "source": [
    "$$\n",
    "a_{ij} = \\sum_{k=1}^n l_{ik}u_{kj} = l_{ij}u_{jj} + \\sum_{k=1}^{j-1} l_{ik}u_{kj} \\,,\n",
    "$$"
   ]
  },
  {
   "cell_type": "markdown",
   "metadata": {},
   "source": [
    "and so"
   ]
  },
  {
   "cell_type": "markdown",
   "metadata": {},
   "source": [
    "$$\n",
    "l_{ij} = \\frac{1}{u_{jj}} \\left( a_{ij} - \\sum_{k=1}^{j-1} l_{ik}u_{kj} \\right) \\,.\n",
    "$$"
   ]
  },
  {
   "cell_type": "markdown",
   "metadata": {},
   "source": [
    "Hence, if the $(i-1)$ first lines of $U$ and $(i-1)$ first columns of $L$ are known, it is then possible to determine the $i$-th line of $U$:"
   ]
  },
  {
   "cell_type": "markdown",
   "metadata": {},
   "source": [
    "$$\n",
    "u_{ij} = a_{ij} - \\sum_{k=1}^{i-1} l_{ik}u_{kj} \\,,\n",
    "$$"
   ]
  },
  {
   "cell_type": "markdown",
   "metadata": {},
   "source": [
    "then the $i$-th column of $L$:"
   ]
  },
  {
   "cell_type": "markdown",
   "metadata": {},
   "source": [
    "$$\n",
    "l_{ji} = \\frac{1}{u_{ii}} \\left( a_{ji} - \\sum_{k=1}^{i-1} l_{jk}u_{ki} \\right) \\,.\n",
    "$$"
   ]
  },
  {
   "cell_type": "markdown",
   "metadata": {},
   "source": [
    "**a)**\n",
    "Write a function `LU(A)` returning the results of the LU decomposition of a matrix."
   ]
  },
  {
   "cell_type": "code",
   "execution_count": 1,
   "metadata": {},
   "outputs": [],
   "source": [
    "import numpy as np"
   ]
  },
  {
   "cell_type": "code",
   "execution_count": 2,
   "metadata": {},
   "outputs": [
    {
     "name": "stdout",
     "output_type": "stream",
     "text": [
      "[[ 1.  0.  0.]\n",
      " [ 4.  1. -0.]\n",
      " [ 3. -2.  1.]]\n",
      "[[  1.   1.   1.]\n",
      " [  0.  -1.  -5.]\n",
      " [  0.   0. -10.]]\n"
     ]
    }
   ],
   "source": [
    "def LU(A):\n",
    "    n = len(A)\n",
    "    L = np.zeros((n,n))\n",
    "    U = np.zeros((n,n))\n",
    "    \n",
    "    L[:,0] = A[:,0]/A[0,0]\n",
    "    U[0,:] = A[0,:]\n",
    "    for i in range(1,n):\n",
    "        for j in range(1,n):\n",
    "            sumU = 0\n",
    "            sumL = 0\n",
    "            for k in range(i):\n",
    "                sumU += L[i,k]*U[k,j]\n",
    "                sumL += L[j,k]*U[k,i]\n",
    "            if j == 1:\n",
    "                U[i,i] = A[i,i] - sumU\n",
    "            U[i,j] = A[i,j] - sumU\n",
    "            L[j,i] = 1/U[i,i] * (A[j,i] - sumL)\n",
    "    return L, U\n",
    "\n",
    "A = np.array([\n",
    "    [1,1,1],\n",
    "    [4,3,-1],\n",
    "    [3,5,3]\n",
    "], dtype='float')\n",
    "\n",
    "L, U = LU(A)\n",
    "\n",
    "print(L)\n",
    "print(U)"
   ]
  },
  {
   "cell_type": "markdown",
   "metadata": {},
   "source": [
    "\n",
    "**b)**\n",
    "Write a function `LU_inplace(A)` which does not create two new matrices for $L$ and $U$ but instead modify $A$ so that its lower triangular part (without the diagonal) corresponds to $L$, and its upper part (with the diagonal) corresponds to $U$."
   ]
  },
  {
   "cell_type": "code",
   "execution_count": 3,
   "metadata": {},
   "outputs": [
    {
     "data": {
      "text/plain": [
       "array([[  1.,   1.,   1.],\n",
       "       [  4.,  -1.,  -5.],\n",
       "       [  3.,  -2., -10.]])"
      ]
     },
     "execution_count": 3,
     "metadata": {},
     "output_type": "execute_result"
    }
   ],
   "source": [
    "def LU_inplace(A):\n",
    "    L, U = LU(A)\n",
    "    n = A.shape[0]\n",
    "    for i in range(n):\n",
    "        L[i,i:] = U[i,i:]\n",
    "    A[:,:] = L\n",
    "\n",
    "LU_inplace(A)\n",
    "A"
   ]
  },
  {
   "cell_type": "markdown",
   "metadata": {},
   "source": [
    "\n",
    "**c)**\n",
    "Given the LU decomposition of a matrix $A$, write a function `solve(L,U,b)` solving the linear equation system $A\\boldsymbol{x} =  \\boldsymbol{b}$."
   ]
  },
  {
   "cell_type": "code",
   "execution_count": 4,
   "metadata": {},
   "outputs": [
    {
     "data": {
      "text/plain": [
       "array([ 1. ,  0.5, -0.5])"
      ]
     },
     "execution_count": 4,
     "metadata": {},
     "output_type": "execute_result"
    }
   ],
   "source": [
    "def solve(L, U, b):\n",
    "    # Ly = b and Ux = y\n",
    "    n = len(L)\n",
    "    x = np.zeros(n)\n",
    "    y = np.zeros(n)\n",
    "    \n",
    "    y[0] = b[0]\n",
    "    for i in range(1,n):\n",
    "        s = 0\n",
    "        for j in range(i):\n",
    "            s += L[i,j]*y[j]\n",
    "        y[i] = b[i] - s\n",
    "    \n",
    "    x[n-1] = y[n-1]/U[n-1,n-1]\n",
    "    \n",
    "    for i in range(1,n):\n",
    "        s = 0\n",
    "        for j in range(i+1):\n",
    "            s += U[n-1-i,n-1-j]*x[n-1-j]\n",
    "        x[n-1-i] = (y[n-1-i] - s) / U[n-1-i,n-1-i]\n",
    "    return x\n",
    "\n",
    "A = np.array([\n",
    "    [1,1,1],\n",
    "    [4,3,-1],\n",
    "    [3,5,3]\n",
    "], dtype='float')\n",
    "\n",
    "L, U = LU(A)\n",
    "\n",
    "b = np.array([1,6,4])\n",
    "\n",
    "solve(L, U, b)"
   ]
  },
  {
   "cell_type": "markdown",
   "metadata": {},
   "source": [
    "\n",
    "**d)**\n",
    "Using the LU decomposition of the matrix $A$, write a function `det(A)` returning its determinant."
   ]
  },
  {
   "cell_type": "code",
   "execution_count": 5,
   "metadata": {},
   "outputs": [
    {
     "data": {
      "text/plain": [
       "10.0"
      ]
     },
     "execution_count": 5,
     "metadata": {},
     "output_type": "execute_result"
    }
   ],
   "source": [
    "def det(A):\n",
    "    # det(A) = det(L.U) = det(L) * det(U) = det(U) since det(L) = 1\n",
    "    L, U = LU(A)\n",
    "    return np.product(np.diagonal(U))\n",
    "\n",
    "det(A)"
   ]
  },
  {
   "cell_type": "code",
   "execution_count": 6,
   "metadata": {},
   "outputs": [
    {
     "data": {
      "text/plain": [
       "10.000000000000002"
      ]
     },
     "execution_count": 6,
     "metadata": {},
     "output_type": "execute_result"
    }
   ],
   "source": [
    "# Numpy's built-in function to find the determinant of the matrix A\n",
    "np.linalg.det(A)"
   ]
  },
  {
   "cell_type": "markdown",
   "metadata": {},
   "source": [
    "\n",
    "\n",
    "<!-- --- end exercise --- -->\n",
    "\n",
    "\n",
    "\n",
    "\n",
    "<!-- --- begin exercise --- -->\n",
    "\n",
    "# Exercise 6.2: Power iteration method\n",
    "<div id=\"exer:algebre-power\"></div>\n",
    "\n",
    "The goal of this exercise is to determine the eigenvector of a matrix associated with the biggest eigenvalue. Provided a matrix $A$ of size $n\\times n$ and a vector $\\boldsymbol{x}_0\\in\\mathbb{R}^n$, the sequence of vectors $(\\boldsymbol{x}_k)_ {k\\in\\mathbb{N}}$ is defined by:"
   ]
  },
  {
   "cell_type": "markdown",
   "metadata": {},
   "source": [
    "$$\n",
    "\\boldsymbol{x}_{k+1} = \\frac{A\\boldsymbol{x}_k}{\\Vert A\\boldsymbol{x}_k\\Vert} \\,.\n",
    "$$"
   ]
  },
  {
   "cell_type": "markdown",
   "metadata": {},
   "source": [
    "By supposing that the matrix $A$ is diagonalisable with distinct eigenvalues, it is relatively easy to show that the sequence $(\\boldsymbol{x}_k)_ {k\\in\\mathbb{N}}$ converges to the eigenvector associated with the biggest eigenvalue of $A$.\n",
    "\n",
    "<!-- --- begin hint in exercise --- -->\n",
    "\n",
    "**Indication:**\n",
    "The first step is to realise that"
   ]
  },
  {
   "cell_type": "markdown",
   "metadata": {},
   "source": [
    "$$\n",
    "\\boldsymbol{x}_k = \\frac{A^2 \\boldsymbol{x}_{k-2}}{\\Vert A^2 \\boldsymbol{x}_{k-2}\\Vert} = \\dots = \\frac{A^k \\boldsymbol{x}_0}{\\Vert A^k \\boldsymbol{x}_0\\Vert} \\,.\n",
    "$$"
   ]
  },
  {
   "cell_type": "markdown",
   "metadata": {},
   "source": [
    "Since $A$ is diagonalisable, let ($\\boldsymbol{v}_1, \\boldsymbol{v}_2, \\dots, \\boldsymbol{v}_n)$ be a base of eigenvalues of $A$ associated with the eigenvalues $\\lambda_1, \\lambda_2, \\dots, \\lambda_n$. Without losing generality, we suppose that $\\lambda_1$ is the biggest eigenvalue. The vector $\\boldsymbol{x}_0$ is decomposed within the base:"
   ]
  },
  {
   "cell_type": "markdown",
   "metadata": {},
   "source": [
    "$$\n",
    "\\boldsymbol{x}_0 = \\sum_{i=1}^n c_i \\boldsymbol{v}_i \\,,\n",
    "$$"
   ]
  },
  {
   "cell_type": "markdown",
   "metadata": {},
   "source": [
    "then supposing that $c_1\\neq0$:"
   ]
  },
  {
   "cell_type": "markdown",
   "metadata": {},
   "source": [
    "$$\n",
    "A^k \\boldsymbol{x}_0 = \\sum_{i=1}^n c_i \\lambda_i^k \\boldsymbol{v}_i\n",
    "= c_1 \\lambda_1^k \\left(\\boldsymbol{v}_1 + \\sum_{i=2}^n \\frac{c_i}{c_1} \\left(\\frac{\\lambda_i}{\\lambda_1}\\right)^k \\boldsymbol{v}_i \\right) .\n",
    "$$"
   ]
  },
  {
   "cell_type": "markdown",
   "metadata": {},
   "source": [
    "Since $\\lambda_1 > \\lambda_i$ for $i\\leq2$, then:"
   ]
  },
  {
   "cell_type": "markdown",
   "metadata": {},
   "source": [
    "$$\n",
    "\\lim_{k\\to\\infty}\\left(\\boldsymbol{v}_1 + \\sum_{i=2}^n \\frac{c_i}{c_1} \\left(\\frac{\\lambda_i}{\\lambda_1}\\right)^k \\boldsymbol{v}_i \\right) = \\boldsymbol{v}_1 \\,,\n",
    "$$"
   ]
  },
  {
   "cell_type": "markdown",
   "metadata": {},
   "source": [
    "and thus"
   ]
  },
  {
   "cell_type": "markdown",
   "metadata": {},
   "source": [
    "$$\n",
    "\\lim_{k\\to\\infty}\\boldsymbol{x}_k = \\lim_{k\\to\\infty}\\frac{A^k \\boldsymbol{x}_0}{\\Vert A^k \\boldsymbol{x}_0\\Vert} = \\frac{\\boldsymbol{v}_1}{\\Vert\\boldsymbol{v}_1\\Vert} \\,.\n",
    "$$"
   ]
  },
  {
   "cell_type": "markdown",
   "metadata": {},
   "source": [
    "When $c_1\\neq0$, the sequence $(\\boldsymbol{x}_k)_ {k\\in\\mathbb{N}}$ converges to the normalised eigenvector associated with the biggest eigenvalue.\n",
    "\n",
    "<!-- --- end hint in exercise --- -->\n",
    "\n",
    "\n",
    "**a)**\n",
    "Define a function `power(A,x0,k)` returning $\\boldsymbol{x}_k$. With this function, determine the biggest eigenvalue of the matrix"
   ]
  },
  {
   "cell_type": "markdown",
   "metadata": {},
   "source": [
    "$$\n",
    "A = \\begin{pmatrix}0.5 & 0.5\\\\ \n",
    "0.2 & 0.8\n",
    "\\end{pmatrix} \\,.\n",
    "$$"
   ]
  },
  {
   "cell_type": "markdown",
   "metadata": {},
   "source": [
    "<!-- --- begin answer of exercise --- -->\n",
    "**Answer:**\n",
    "The eigenvector associated with the biggest eigenvalue is $\\pm(0.70710678, 0.70710678)$\n",
    "\n",
    "<!-- --- end answer of exercise --- -->\n",
    "\n"
   ]
  },
  {
   "cell_type": "code",
   "execution_count": 7,
   "metadata": {},
   "outputs": [
    {
     "data": {
      "text/plain": [
       "array([[0.70710272],\n",
       "       [0.70711084]])"
      ]
     },
     "execution_count": 7,
     "metadata": {},
     "output_type": "execute_result"
    }
   ],
   "source": [
    "from numpy import linalg as LA\n",
    "\n",
    "def power(A, x0, k):\n",
    "    for i in range(1,k):\n",
    "        dot_product = np.dot(A, x0)\n",
    "        xi = dot_product / np.linalg.norm(dot_product)\n",
    "        x0 = xi\n",
    "    return xi\n",
    "        \n",
    "\n",
    "A = np.array([[0.5,0.5],[0.2,0.8]])\n",
    "x0 = np.array([[1,2]]).T\n",
    "k = 10\n",
    "\n",
    "power(A, x0, k)"
   ]
  },
  {
   "cell_type": "markdown",
   "metadata": {},
   "source": [
    "\n",
    "**b)**\n",
    "Determine the eigenvalue associated with the above vector."
   ]
  },
  {
   "cell_type": "code",
   "execution_count": 9,
   "metadata": {},
   "outputs": [
    {
     "data": {
      "text/plain": [
       "1.0000057409220828"
      ]
     },
     "execution_count": 9,
     "metadata": {},
     "output_type": "execute_result"
    }
   ],
   "source": [
    "v = power(A, x0, k)\n",
    "\n",
    "# Since the dot product of A and v equals lambda (the associated eigenvalue) times v, we just have to devide\n",
    "# the first cell of A*v by the first cell of v to find lambda\n",
    "\n",
    "Av = np.dot(A, v)\n",
    "Av[0,0]/v[0,0]"
   ]
  },
  {
   "cell_type": "markdown",
   "metadata": {},
   "source": [
    "\n",
    "**c)**\n",
    "Write a function calculating automatically the biggest eigenvalue and the associated eigenvector of a square matrix."
   ]
  },
  {
   "cell_type": "code",
   "execution_count": 10,
   "metadata": {},
   "outputs": [
    {
     "data": {
      "text/plain": [
       "(15.0,\n",
       " array([[-0.6092077 ],\n",
       "        [-0.50767308],\n",
       "        [-0.6092077 ]]))"
      ]
     },
     "execution_count": 10,
     "metadata": {},
     "output_type": "execute_result"
    }
   ],
   "source": [
    "def biggest_eigen(A):\n",
    "    x0 = np.random.randint(-10, 10, size=(len(A),1))\n",
    "    v = power(A, x0, 30)\n",
    "    Av = np.dot(A[0:], v)\n",
    "    val = Av[0,0]/v[0,0]\n",
    "    return val, v\n",
    "    \n",
    "B = np.array([[3,6,7],\n",
    "              [3,3,7],\n",
    "              [5,6,5]])\n",
    "biggest_eigen(B)"
   ]
  },
  {
   "cell_type": "markdown",
   "metadata": {},
   "source": [
    "**d)**\n",
    "Look into the documentation of Numpy and find a function that calculates the eigenvectors and eigenvalues of a matrix"
   ]
  },
  {
   "cell_type": "code",
   "execution_count": 11,
   "metadata": {},
   "outputs": [
    {
     "name": "stdout",
     "output_type": "stream",
     "text": [
      "[15.         -2.00000003 -1.99999997]\n",
      "[[ 0.6092077   0.40824827 -0.40824831]\n",
      " [ 0.50767308 -0.81649658  0.81649658]\n",
      " [ 0.6092077   0.4082483  -0.40824828]]\n"
     ]
    }
   ],
   "source": [
    "# numpy.linalg.eig()\n",
    "\n",
    "val, v = np.linalg.eig(B)\n",
    "print(val)\n",
    "print(v)"
   ]
  },
  {
   "cell_type": "markdown",
   "metadata": {},
   "source": [
    "\n",
    "**e)**\n",
    "Compare the speed of the above code and the Numpy's version with different values of $n=10,100,1000$."
   ]
  },
  {
   "cell_type": "code",
   "execution_count": 12,
   "metadata": {},
   "outputs": [
    {
     "name": "stdout",
     "output_type": "stream",
     "text": [
      "n = 10\n",
      "My func took: 0.0008299350738525391\n",
      "NP func took: 0.0002391338348388672\n",
      "\n",
      "n = 100\n",
      "My func took: 0.0021638870239257812\n",
      "NP func took: 0.006815910339355469\n",
      "\n",
      "n = 1000\n",
      "My func took: 0.007632732391357422\n",
      "NP func took: 0.9560551643371582\n",
      "\n"
     ]
    }
   ],
   "source": [
    "import time\n",
    "\n",
    "for n in [10,100,1000]:\n",
    "    print(\"n =\",n)\n",
    "    A = np.random.random((n,n))\n",
    "    # Home-made function\n",
    "    start = time.time()\n",
    "    exe = biggest_eigen(A)\n",
    "    print(\"My func took:\", time.time() - start)\n",
    "    \n",
    "    # Numpy function\n",
    "    start = time.time()\n",
    "    exe = LA.eig(A)\n",
    "    print(\"NP func took:\", time.time() - start)\n",
    "    \n",
    "    print()"
   ]
  },
  {
   "cell_type": "markdown",
   "metadata": {},
   "source": [
    "\n",
    "<!-- --- end exercise --- -->\n",
    "\n",
    "\n",
    "\n",
    "\n",
    "<!-- --- begin exercise --- -->\n",
    "\n",
    "# Exercise 6.3: Permutation groups\n",
    "<div id=\"exer:algebre-permutations\"></div>\n",
    "\n",
    "Le goal is to study permutation groups by developping some algorithms to characterise them. A permutation group $G$ is generated by a certain number of permutations: $G = \\langle g_1, g_2,\\dots,g_k \\rangle$. A permutation"
   ]
  },
  {
   "cell_type": "markdown",
   "metadata": {},
   "source": [
    "$$\n",
    "g = \\begin{pmatrix}1 & 2 & 3 & 4\\\\ \n",
    "4 & 1 & 2 & 3\n",
    "\\end{pmatrix} \\,,\n",
    "$$"
   ]
  },
  {
   "cell_type": "markdown",
   "metadata": {},
   "source": [
    "can be represented in Python by a tuple `g = (0, 4, 1, 2, 3)`. The zero is added to assure correct indexing in Python and simplify further implementations. It means simply that the number `0` goes to `0`. \n",
    "\n",
    "\n",
    "**a)**\n",
    "Write a function `product(g1,g2)` calculating the product of two permutations."
   ]
  },
  {
   "cell_type": "code",
   "execution_count": 5,
   "metadata": {},
   "outputs": [
    {
     "data": {
      "text/plain": [
       "(0, 6, 1, 4, 3, 2, 5)"
      ]
     },
     "execution_count": 5,
     "metadata": {},
     "output_type": "execute_result"
    }
   ],
   "source": [
    "def product(g1,g2):\n",
    "    diff_len = abs(len(g1) - len(g2))\n",
    "    n = len(g2)\n",
    "    if diff_len != 0:\n",
    "        mini = min([g1,g2], key=len)\n",
    "        maxi = max([g1,g2], key=len)\n",
    "        g1 = tuple(list(mini) + [i + len(mini) for i in range(diff_len)])\n",
    "        g2 = maxi\n",
    "        n = len(g2)\n",
    "    produit = [0]\n",
    "    for i in range(1,n):\n",
    "        produit.append(g1[g2[i]])\n",
    "    return tuple(produit)\n",
    "\n",
    "g1 = (0, 3, 1, 5, 4, 2)\n",
    "g2 = (0, 6, 2, 4, 1, 5, 3)\n",
    "product(g1,g2)"
   ]
  },
  {
   "cell_type": "markdown",
   "metadata": {},
   "source": [
    "\n",
    "**b)**\n",
    "Write a function `inverse(g)` calculating the inversion of a permutation."
   ]
  },
  {
   "cell_type": "code",
   "execution_count": 14,
   "metadata": {},
   "outputs": [
    {
     "data": {
      "text/plain": [
       "(0, 2, 4, 1, 3, 5)"
      ]
     },
     "execution_count": 14,
     "metadata": {},
     "output_type": "execute_result"
    }
   ],
   "source": [
    "def inverse(g):\n",
    "    n = len(g)\n",
    "    inv = [0]\n",
    "    for i in range(1,n):\n",
    "        inv.append(g.index(i))\n",
    "    return tuple(inv)\n",
    "\n",
    "g = (0, 3, 1, 4, 2, 5)\n",
    "inverse(g)"
   ]
  },
  {
   "cell_type": "markdown",
   "metadata": {},
   "source": [
    "\n",
    "**c)**\n",
    "Write a function returning the decomposition of a permutation under the cyclic notation, represented by a list of tuples."
   ]
  },
  {
   "cell_type": "code",
   "execution_count": 15,
   "metadata": {},
   "outputs": [
    {
     "data": {
      "text/plain": [
       "[(1, 4, 7, 8), (5, 2)]"
      ]
     },
     "execution_count": 15,
     "metadata": {},
     "output_type": "execute_result"
    }
   ],
   "source": [
    "def cyclic_notation(g):\n",
    "    group = list(g)\n",
    "    results = list()\n",
    "    cycle = list()\n",
    "    i = 1\n",
    "    while len(group) > 1:\n",
    "        cycle.append(i)\n",
    "        group.remove(g[i])\n",
    "        if g[i] == cycle[0]:\n",
    "            if len(cycle) != 1:\n",
    "                results.append(tuple(cycle))\n",
    "            cycle = list()\n",
    "            if len(group) == 1:\n",
    "                break\n",
    "            i = group[1]\n",
    "        else:\n",
    "            i = g[i]    \n",
    "    return results\n",
    "\n",
    "g = (0, 4, 5, 3, 7, 2, 6, 8, 1)\n",
    "cyclic_notation(g)"
   ]
  },
  {
   "cell_type": "markdown",
   "metadata": {},
   "source": [
    "\n",
    "**d)**\n",
    "Write a function returning the permutation corresponding to a cyclic notation, meaning the inversion of the above function."
   ]
  },
  {
   "cell_type": "code",
   "execution_count": 16,
   "metadata": {},
   "outputs": [
    {
     "data": {
      "text/plain": [
       "(0, 4, 5, 3, 7, 2, 6, 8, 1)"
      ]
     },
     "execution_count": 16,
     "metadata": {},
     "output_type": "execute_result"
    }
   ],
   "source": [
    "def to_permu(cycles):\n",
    "    length = max(max(cycles, key=max))\n",
    "    results = [i for i in range(length+1)]\n",
    "    for cycle in cycles:\n",
    "        for i, x in enumerate(cycle):\n",
    "            if i < len(cycle)-1:\n",
    "                results[x] = cycle[i+1]\n",
    "            else:\n",
    "                results[x] = cycle[0]\n",
    "    return tuple(results)\n",
    "\n",
    "cyc = [(1, 4, 7, 8), (5, 2)]\n",
    "to_permu(cyc)"
   ]
  },
  {
   "cell_type": "markdown",
   "metadata": {},
   "source": [
    "\n",
    "**e)**\n",
    "<span style=\"color:red\">!</span> In Python a group $G = \\langle g_1,g_2,\\dots,g_k \\rangle$ generated by permutations, can be represented by a list of permutations `G = [g1,g2,...,gk]`. Write a fonction `orbit(G,x)` returning the orbit of the element $x \\in G$:"
   ]
  },
  {
   "cell_type": "markdown",
   "metadata": {},
   "source": [
    "$$\n",
    "O_x = Gx = \\{gx, g \\in G\\} \\,.\n",
    "$$"
   ]
  },
  {
   "cell_type": "markdown",
   "metadata": {},
   "source": [
    "<!-- --- begin hint in exercise --- -->\n",
    "\n",
    "**Indication:**\n",
    "Do not calculate the set of elements of the groups, doing so would make a very large group. Instead, construct a list $(X^0,X^1,\\dots,X^N)$ of disjoint sets defined recursively by $X^0 = \\{x\\}$ and $X^n$ as a set of new elements under the form $g_i y$ with $1 \\leq i \\leq k$ and $y\\in X^{n-1}$:"
   ]
  },
  {
   "cell_type": "markdown",
   "metadata": {},
   "source": [
    "$$\n",
    "X^{n}=\\left(\\bigcup_{i=1}^{k}g_{i}X^{n-1}\\right)\\setminus\\left(\\bigcup_{i=1}^{n-1}X^{i}\\right) \\,.\n",
    "$$\n",
    "\n",
    "<!-- --- end hint in exercise --- -->"
   ]
  },
  {
   "cell_type": "code",
   "execution_count": 26,
   "metadata": {},
   "outputs": [
    {
     "data": {
      "text/plain": [
       "True"
      ]
     },
     "execution_count": 26,
     "metadata": {},
     "output_type": "execute_result"
    }
   ],
   "source": [
    "from itertools import permutations\n",
    "from math import factorial\n",
    "\n",
    "k = 10\n",
    "\n",
    "# To simplify initialisation, we make G a symmetrical group of size k=10, which is already quite large, with has 10! = 3,628,800 elements\n",
    "G = [tuple([0] + list(p)) for p in permutations([i for i in range(1, k+1)])]\n",
    "\n",
    "len(G) == factorial(k)  # Check whether our group is well defined"
   ]
  },
  {
   "cell_type": "code",
   "execution_count": 21,
   "metadata": {},
   "outputs": [
    {
     "name": "stdout",
     "output_type": "stream",
     "text": [
      "Calculation time: 8.258555889129639\n"
     ]
    }
   ],
   "source": [
    "import time\n",
    "import random\n",
    "\n",
    "def orbit(G, x):\n",
    "    Ox = set()\n",
    "    for g in G:\n",
    "        Ox.add(product(g, x))\n",
    "    return Ox\n",
    "\n",
    "x = random.choice(G)  # Choose randomly a permutation among our group G\n",
    "# G = [(0, 1, 2, 3), (0, 1, 3, 2)]\n",
    "\n",
    "start = time.time()\n",
    "result = orbit(G, x)\n",
    "print(\"Calculation time:\", time.time() - start)"
   ]
  },
  {
   "cell_type": "markdown",
   "metadata": {},
   "source": [
    "\n",
    "**f)**\n",
    "<span style=\"color:red\">!!</span>Define a function `stabilizer(G,x)` returning the stabiliser of $x \\in G$:"
   ]
  },
  {
   "cell_type": "markdown",
   "metadata": {},
   "source": [
    "$$\n",
    "G_x = \\{g \\in G : g x = x \\} \\,,\n",
    "$$"
   ]
  },
  {
   "cell_type": "code",
   "execution_count": 29,
   "metadata": {},
   "outputs": [
    {
     "data": {
      "text/plain": [
       "{(0, 1, 2, 3, 4, 5, 6, 7, 8, 9, 10)}"
      ]
     },
     "execution_count": 29,
     "metadata": {},
     "output_type": "execute_result"
    }
   ],
   "source": [
    "def stabilizer(G, x):\n",
    "    Gx = {g for g in G if product(g,x) == x}\n",
    "    return Gx\n",
    "\n",
    "stabilizer(G, x)"
   ]
  },
  {
   "cell_type": "code",
   "execution_count": 30,
   "metadata": {},
   "outputs": [],
   "source": [
    "# As expected, the identity permutation !"
   ]
  },
  {
   "cell_type": "markdown",
   "metadata": {},
   "source": [
    "under the form of a set of generators.\n",
    "\n",
    "<!-- --- begin hint in exercise --- -->\n",
    "\n",
    "**Indication:**\n",
    "Use the theory of Schreier.\n",
    "\n",
    "<!-- --- end hint in exercise --- -->\n",
    "\n"
   ]
  },
  {
   "cell_type": "markdown",
   "metadata": {},
   "source": [
    "\n",
    "<!-- --- end exercise --- -->"
   ]
  }
 ],
 "metadata": {
  "kernelspec": {
   "display_name": "Python 3",
   "language": "python",
   "name": "python3"
  },
  "language_info": {
   "codemirror_mode": {
    "name": "ipython",
    "version": 3
   },
   "file_extension": ".py",
   "mimetype": "text/x-python",
   "name": "python",
   "nbconvert_exporter": "python",
   "pygments_lexer": "ipython3",
   "version": "3.8.1"
  }
 },
 "nbformat": 4,
 "nbformat_minor": 4
}
