{
 "cells": [
  {
   "cell_type": "markdown",
   "metadata": {},
   "source": [
    "<!-- dom:TITLE: Programmation Python  pour les mathématiques -->\n",
    "# Python Programming for Mathematics\n",
    "<!-- dom:AUTHOR: Julien Guillod at [Sorbonne Université](http://www.sorbonne-universite.fr/), -->\n",
    "<!-- Author: -->  \n",
    "**Julien Guillod**, [Sorbonne Université](http://www.sorbonne-universite.fr/),\n",
    "Licensed <a href=\"https://creativecommons.org/licenses/by-nc-nd/4.0/\">CC BY-NC-ND</a>\n",
    "\n",
    "\n",
    "All chapters are available in\n",
    "[HTML](https://python.guillod.org//) and [PDF](https://python.guillod.org//python.pdf).\n",
    "This notebook is also executed on [mybinder](https://mybinder.org/v2/gh/juguillod/python/master?filepath=chap07.ipynb).\n",
    "\n",
    "\n",
    "\n",
    "\n",
    "\n",
    "\n",
    "# 7 Solving equations\n",
    "<div id=\"ch:newton\"></div>\n",
    "\n",
    "The goal of this exercise is to approach zeros of a function by using Newton's method. This allows in particular finding the approached solutions of non-linear equations. This method is as fundamental in terms of numerical approaches as analitical.\n",
    "\n",
    "**This chapter covers:**\n",
    "\n",
    "* Newton's method in one and multiple dimensions\n",
    "\n",
    "* Jacobian's matrix\n",
    "\n",
    "* Attractors from Newton's method\n",
    "\n",
    "* Fractal set\n",
    "\n",
    "* Optimisation by parallelisation\n",
    "\n",
    "* Non-linear differential equation\n",
    "\n",
    "* Finite differences\n",
    "\n",
    "\n",
    "\n",
    "\n",
    "\n",
    "<!-- --- begin exercise --- -->\n",
    "\n",
    "# Exercise 7.1: Newton's method in one dimension\n",
    "\n",
    "In one dimension, the Newton's method looks to find one solution of one single equation. This equation can be expressed under the general form $F(x)=0$ in which $F:\\mathbb{R}\\to\\mathbb{R}$ is a common function, so the goal is to find a zero to this function $F$. The equation $F(x)=0$ is equivalent, if $F' \\neq 0$, to another equation $G(x)=x$ in which $G$ is defined by:"
   ]
  },
  {
   "cell_type": "markdown",
   "metadata": {},
   "source": [
    "$$\n",
    "G(x) = x - \\frac{F(x)}{F^\\prime(x)} \\,.\n",
    "$$"
   ]
  },
  {
   "cell_type": "markdown",
   "metadata": {},
   "source": [
    "The Newton's method looks to find a fixed point of $G$, *i.e.* solving for $G(x)=x$ by consecutive iterations:"
   ]
  },
  {
   "cell_type": "markdown",
   "metadata": {},
   "source": [
    "$$\n",
    "x_{i+1} = G(x_i) = x_i - \\frac{F(x_i)}{F^\\prime(x_i)}\n",
    "$$"
   ]
  },
  {
   "cell_type": "markdown",
   "metadata": {},
   "source": [
    "starting from an initial value $x_0\\in\\mathbb{R}$.\n",
    "\n",
    "When the sequence $(x_i)_ {i\\in\\mathbb{N}}$ converges, its limit $x$ is a solution to $G(x)=x$ and to $F(x)=0$.\n",
    "\n",
    "**a)**\n",
    "Write a function `newton1d(F, DF, x0, eps=1e-10, N=1000)` which, given a function $F$, its derivative $F'$ and an initial value $x_0$, calculates Newton's iterations until $|F(x_{i})| < \\varepsilon$ and returns $x_i$. If a solution cannot be found after $N$ iterations, returns an error.\n",
    "\n"
   ]
  },
  {
   "cell_type": "code",
   "execution_count": 1,
   "metadata": {},
   "outputs": [
    {
     "data": {
      "text/plain": [
       "0.0"
      ]
     },
     "execution_count": 1,
     "metadata": {},
     "output_type": "execute_result"
    }
   ],
   "source": [
    "import numpy as np\n",
    "\n",
    "def newton1d(F, DF, x0, eps=1e-10, N=1000):\n",
    "    for i in range(1,N+1):\n",
    "        xi = x0 - F(x0)/DF(x0)\n",
    "        if np.abs(F(xi)) < eps:\n",
    "            return xi\n",
    "        x0 = xi\n",
    "    return 'Error!'\n",
    "\n",
    "F = lambda x: x**3 - 2*(x**2) + x + 5\n",
    "DF = lambda x: 3*(x**2) - 4*x + 1\n",
    "\n",
    "x_star = newton1d(F, DF, 10)\n",
    "F(x_star)"
   ]
  },
  {
   "cell_type": "markdown",
   "metadata": {},
   "source": [
    "\n",
    "**b)**\n",
    "Using the function defined above, find an approached root of the equation $e^{-x}=x$.\n",
    "\n",
    "\n",
    "<!-- --- begin answer of exercise --- -->\n",
    "**Answer:**\n",
    "The answer is approximately $x=0.56714$.\n",
    "\n",
    "<!-- --- end answer of exercise --- -->\n",
    "\n"
   ]
  },
  {
   "cell_type": "code",
   "execution_count": 2,
   "metadata": {},
   "outputs": [
    {
     "data": {
      "text/plain": [
       "0.5671432904097838"
      ]
     },
     "execution_count": 2,
     "metadata": {},
     "output_type": "execute_result"
    }
   ],
   "source": [
    "F = lambda x: np.exp(-x) - x\n",
    "DF = lambda x: -np.exp(-x) - 1\n",
    "\n",
    "newton1d(F, DF, 1)"
   ]
  },
  {
   "cell_type": "markdown",
   "metadata": {},
   "source": [
    "\n",
    "**c)**\n",
    "Without using the function `sqrt` or any fractionnal power methods, define a function `find_root(x,n)` calculating $\\sqrt[n]{x}$."
   ]
  },
  {
   "cell_type": "code",
   "execution_count": 3,
   "metadata": {},
   "outputs": [
    {
     "name": "stdout",
     "output_type": "stream",
     "text": [
      "3.0000000000000977\n",
      "2.0\n",
      "-5.000000000000005\n",
      "81.00000000000001\n"
     ]
    }
   ],
   "source": [
    "def find_root(x, n, eps=1e-10, N=1000):\n",
    "    x0 = 1\n",
    "    \n",
    "    F = lambda t: t**n - x\n",
    "    DF = lambda t: n*(t**(n-1))\n",
    "    \n",
    "    for i in range(1,N+1):\n",
    "        xi = x0 - F(x0)/DF(x0)\n",
    "        if abs(F(xi)) < eps:\n",
    "            return xi\n",
    "        x0 = xi\n",
    "    return 'Error'\n",
    "    \n",
    "print(find_root(27, 3))\n",
    "print(find_root(8, 3))\n",
    "print(find_root(-5**5, 5))\n",
    "print(find_root(9, 0.5))"
   ]
  },
  {
   "cell_type": "markdown",
   "metadata": {},
   "source": [
    "Sometimes, the derivative of $F$ is not known analytically, it is then necessary to approach it numerically:"
   ]
  },
  {
   "cell_type": "markdown",
   "metadata": {},
   "source": [
    "$$\n",
    "F^\\prime(x_i) \\approx \\frac{F(x_i) - F(x_{i-1})}{x_i-x_{i-1}}\n",
    "$$"
   ]
  },
  {
   "cell_type": "markdown",
   "metadata": {},
   "source": [
    "which arrives at the ___secant method___:"
   ]
  },
  {
   "cell_type": "markdown",
   "metadata": {},
   "source": [
    "$$\n",
    "x_{i+1} =  x_i - F(x_i) \\frac{x_i-x_{i-1}}{F(x_i) - F(x_{i-1})} = \\frac{x_{i-1}F(x_{i})-x_{i}F(x_{i-1})}{F(x_{i})-F(x_{i-1})}\n",
    "$$"
   ]
  },
  {
   "cell_type": "markdown",
   "metadata": {},
   "source": [
    "where $x_0$ and $x_1$ must be chosen.\n",
    "\n",
    "**d)**\n",
    "Write a function `secant1d(F, x0, x1, eps=1e-10, N=1000)` which implements the secant method then test it using the previous example."
   ]
  },
  {
   "cell_type": "code",
   "execution_count": 4,
   "metadata": {},
   "outputs": [
    {
     "name": "stdout",
     "output_type": "stream",
     "text": [
      "0.5671432904419066\n",
      "-1.1163432986242117\n"
     ]
    }
   ],
   "source": [
    "def secant1d(F, x0, x1, eps=1e-10, N=1000):\n",
    "    xi_m1 = x0\n",
    "    xi = x1\n",
    "    \n",
    "    for i in range(1,N+1):\n",
    "        xi_p1 = (xi_m1*F(xi) - xi*F(xi_m1)) / (F(xi) - F(xi_m1))\n",
    "        if abs(F(xi_p1)) < eps:\n",
    "            return xi_p1\n",
    "        xi_m1, xi = xi, xi_p1\n",
    "    return 'Error'\n",
    "\n",
    "F = lambda x: np.exp(-x) - x\n",
    "print(secant1d(F, 1, 2))\n",
    "\n",
    "F = lambda x: x**3 - 2*(x**2) + x + 5\n",
    "print(secant1d(F, 1, 2))"
   ]
  },
  {
   "cell_type": "markdown",
   "metadata": {},
   "source": [
    "\n",
    "<!-- --- end exercise --- -->\n",
    "\n",
    "\n",
    "\n",
    "\n",
    "<!-- --- begin exercise --- -->\n",
    "\n",
    "# Exercise 7.2: Newton's method in multiple dimensions\n",
    "<div id=\"exer:newton-Rn\"></div>\n",
    "The Newton's method in one dimension is easily generalisable to multiple dimensions to solve equations under the form $F(x)=0$ where $F:\\mathbb{R}^n \\to \\mathbb{R}^n$ is a common function. Conceptually, this method is the same as before: the equation $F(x)=0$ is equivalent to $G(x)=x$ in which:"
   ]
  },
  {
   "cell_type": "markdown",
   "metadata": {},
   "source": [
    "$$\n",
    "G(\\boldsymbol{x}) = \\boldsymbol{x} - \\big(F^\\prime(\\boldsymbol{x})\\big)^{-1} F(\\boldsymbol{x})\n",
    "$$"
   ]
  },
  {
   "cell_type": "markdown",
   "metadata": {},
   "source": [
    "where $F'(x)$ represents the Jacobian matrix $n \\times n$ of $F$ at $x$.\n",
    "\n",
    "Then Newton's iterations can be written as:"
   ]
  },
  {
   "cell_type": "markdown",
   "metadata": {},
   "source": [
    "$$\n",
    "\\boldsymbol{x}_{i+1} = \\boldsymbol{x}_{i} - \\big(F^\\prime(\\boldsymbol{x}_i)\\big)^{-1} F(\\boldsymbol{x}_i)\n",
    "$$"
   ]
  },
  {
   "cell_type": "markdown",
   "metadata": {},
   "source": [
    "**a)**\n",
    "Write a function `newton(F, DF, x0, eps=1e-12, N=10000)` which implements the Newton's method in more than one dimension."
   ]
  },
  {
   "cell_type": "code",
   "execution_count": 5,
   "metadata": {},
   "outputs": [],
   "source": [
    "def newton(F, DF, x0, eps=1e-12, N=10000):\n",
    "    for i in range(1,N):\n",
    "        xi = x0 - np.dot(np.linalg.inv(DF(x0)), F(x0))\n",
    "        if np.linalg.norm(F(xi)) < eps:\n",
    "            return xi\n",
    "        x0 = xi\n",
    "    return 'Error'"
   ]
  },
  {
   "cell_type": "markdown",
   "metadata": {},
   "source": [
    "**b)**\n",
    "Use the above function to solve for the system below:"
   ]
  },
  {
   "cell_type": "markdown",
   "metadata": {},
   "source": [
    "$$\n",
    "\\begin{align*}\n",
    "\\cos(x) & =\\sin(y)\\,, & e^{-x} & =\\cos(y)\\,.\n",
    "\\end{align*}\n",
    "$$"
   ]
  },
  {
   "cell_type": "markdown",
   "metadata": {},
   "source": [
    "<!-- --- begin answer of exercise --- -->\n",
    "**Answer:**\n",
    "The solution is approximately $x=0.58853$ and $y=0.98226$.\n",
    "\n",
    "<!-- --- end answer of exercise --- -->\n",
    "\n"
   ]
  },
  {
   "cell_type": "code",
   "execution_count": 6,
   "metadata": {},
   "outputs": [
    {
     "data": {
      "text/plain": [
       "array([0.58853274, 0.98226358])"
      ]
     },
     "execution_count": 6,
     "metadata": {},
     "output_type": "execute_result"
    }
   ],
   "source": [
    "F = lambda X:  np.array([np.cos(X[0]) - np.sin(X[1]), np.exp(-X[0]) - np.cos(X[1])])\n",
    "DF = lambda X: np.array([\n",
    "    [-np.sin(X[0]), -np.cos(X[1])],\n",
    "    [-np.exp(-X[0]), np.sin(X[1])]\n",
    "])\n",
    "\n",
    "x0 = np.array([1,1])\n",
    "newton(F, DF, x0)"
   ]
  },
  {
   "cell_type": "markdown",
   "metadata": {},
   "source": [
    "\n",
    "\n",
    "<!-- --- end exercise --- -->\n",
    "\n",
    "\n",
    "\n",
    "\n",
    "<!-- --- begin exercise --- -->\n",
    "\n",
    "# Exercise 7.3: Attractor of the Newton's method\n",
    "\n",
    "The goal of this exercise is to solve for the equation $z^3 = 1$ in the complex plane using Newton's method and to analyse the convergence of the method towards one of the three roots according to the choice of the initial point $z_0$.\n",
    "\n",
    "\n",
    "**a)**\n",
    "If necessary, rewrite the function `newton1d` so that it also computes complex numbers then test it with different values of $z_0$ to solve for $z^3 = 1$."
   ]
  },
  {
   "cell_type": "code",
   "execution_count": 7,
   "metadata": {},
   "outputs": [
    {
     "name": "stdout",
     "output_type": "stream",
     "text": [
      "(1-7.894656351241113e-17j)\n",
      "(-0.5-0.8660254037844387j)\n",
      "(-0.4999999999999309+0.8660254037842952j)\n"
     ]
    }
   ],
   "source": [
    "def newton1d_new(F, DF, x0, eps=1e-10, N=1000):\n",
    "    for i in range(1,N+1):\n",
    "        xi = x0 - F(x0)/DF(x0)\n",
    "        if np.linalg.norm(F(xi)) < eps:\n",
    "            return xi\n",
    "        x0 = xi\n",
    "    return 'Error!'\n",
    "\n",
    "F =  lambda z: z**3-1\n",
    "DF = lambda z: 3*z**2\n",
    "\n",
    "z = [0.99 + 0.001j, -1j, -1+2j]\n",
    "for z0 in z:\n",
    "    print(newton1d_new(F, DF, z0))"
   ]
  },
  {
   "cell_type": "markdown",
   "metadata": {},
   "source": [
    "\n",
    "**b)**\n",
    "For each $z_0 \\in \\big\\{x_0+iy_0: x_0\\in[-3,3] \\; \\text{and} \\; y_0\\in[-3,3]\\big\\}$, determine to which unity root the Newton's method converges. Represent this set of roots graphically.\n",
    "\n",
    "<!-- --- begin hint in exercise --- -->\n",
    "\n",
    "**Hints:**\n",
    "The function `numpy.meshgrid` can be useful to construct the matrix corresponding to the set of $z_0$.\n",
    "\n",
    "<!-- --- end hint in exercise --- -->\n",
    "\n",
    "\n",
    "<!-- --- begin answer of exercise --- -->\n",
    "**Answer:**\n",
    "The graph shows a fractal of the convergence of $z_0$ towards one of the roots, as following:\n",
    "<!-- dom:FIGURE: [https://python.guillod.org/fig/newton-z3.png, width=600 frac=0.7] -->\n",
    "<!-- begin figure -->\n",
    "\n",
    "<p></p>\n",
    "<img src=\"https://python.guillod.org/fig/newton-z3.png\" width=600>\n",
    "\n",
    "<!-- end figure -->\n",
    "\n",
    "<!-- --- end answer of exercise --- -->\n",
    "\n"
   ]
  },
  {
   "cell_type": "markdown",
   "metadata": {},
   "source": [
    "> By solving by hand the function $f(z)=z^3-1$, we find that it has 1 real and 2 imaginary roots: $1$ and $-1/2 \\pm i \\sqrt{3}/2$. Newton's method, however close it is to these exact roots, always has a tolerated error, which is `epsilon` that we take into argument. Therefore, in order to \"color\" the graph as shown above, we must calculate the distance of the Newton's approximation method for each value of $z_0$ to each of the roots, then color-code that coordinate according to each root's color."
   ]
  },
  {
   "cell_type": "code",
   "execution_count": 8,
   "metadata": {},
   "outputs": [],
   "source": [
    "# We define a function which maps a table of estimated roots to its exact root, color coded\n",
    "\n",
    "def map_est_to_color(estimation, exact_roots):\n",
    "    root_table = np.ones_like(estimation)\n",
    "    colors = np.linspace(-0.5, 1, len(exact_roots))\n",
    "    \n",
    "    # By iterating through each root, we create a mask where True is returned in those that have the smaller\n",
    "    # estimation error. All cells that satisfy this condition (masked) are then taken the value of this root.\n",
    "    # Finally by the end of the loop we have correctly mapped the estimation to its exact solution.\n",
    "    for root in exact_roots:\n",
    "        mask = np.abs(estimation - root) < root_table\n",
    "        root_table[mask] = root\n",
    "        \n",
    "    # It's then pretty easy to map each root to its corresponding value in the list of colors\n",
    "    color_table = np.zeros_like(root_table, dtype=float)\n",
    "    for i, root in enumerate(exact_roots):\n",
    "        mask = root_table == root\n",
    "        color_table[mask] = colors[i]\n",
    "    return color_table"
   ]
  },
  {
   "cell_type": "code",
   "execution_count": 9,
   "metadata": {},
   "outputs": [
    {
     "data": {
      "image/png": "[encoded data removed]",
      "text/plain": [
       "<Figure size 720x720 with 1 Axes>"
      ]
     },
     "metadata": {
      "needs_background": "light"
     },
     "output_type": "display_data"
    }
   ],
   "source": [
    "import matplotlib.pyplot as plt\n",
    "\n",
    "exact_roots = np.array([1, -0.5 + np.sqrt(3)/2*1j, -0.5 - np.sqrt(3)/2*1j])\n",
    "\n",
    "Re = np.linspace(-3,3,1000)\n",
    "Im = np.linspace(-3,3,1000)\n",
    "X, Y = np.meshgrid(Re, Im)\n",
    "Z = X + Y*1j\n",
    "\n",
    "estimation = newton1d_new(F, DF, Z)\n",
    "\n",
    "fig, ax = plt.subplots(figsize=(10,10))\n",
    "ax.set_title(r\"Newton's fractal for $f(z)=z^3-1$\")\n",
    "ax.set_xlabel(\"$\\Re(z_0)$\")\n",
    "ax.set_ylabel(\"$\\Im(z_0)$\")\n",
    "ax.imshow(map_est_to_color(estimation, exact_roots), extent=[-3, 3, -3, 3], origin='lower')\n",
    "plt.show()"
   ]
  },
  {
   "cell_type": "markdown",
   "metadata": {},
   "source": [
    "\n",
    "**c)**\n",
    "<span style=\"color:red\">!</span> La méthode précédente a le désavantage de procéder séquentiellement au calcul pour chaque valeur de $z_0$, ce qui rend cette évaluation assez lente. Proposer une nouvelle implémentation permettant de calculer parallèlement toutes les valeurs de $z_0$ en utilisant les indexages Numpy.\n",
    "\n",
    "<!-- --- begin hint in exercise --- -->\n",
    "\n",
    "**Indication:**\n",
    "Pour encore plus de rapidité, les itérations de Newton de $F(z)=z^3-1$ peuvent être calculées à la main:"
   ]
  },
  {
   "cell_type": "markdown",
   "metadata": {},
   "source": [
    "$$\n",
    "z_{n+1} = \\frac{1}{3z_n^2} + \\frac{2z_n}{3} \\,.\n",
    "$$"
   ]
  },
  {
   "cell_type": "code",
   "execution_count": 131,
   "metadata": {},
   "outputs": [
    {
     "name": "stdout",
     "output_type": "stream",
     "text": [
      "1.65 s ± 6.29 ms per loop (mean ± std. dev. of 7 runs, 1 loop each)\n"
     ]
    }
   ],
   "source": [
    "%%timeit\n",
    "estimation = newton1d_new(F, DF, Z)  # The previous function"
   ]
  },
  {
   "cell_type": "markdown",
   "metadata": {},
   "source": [
    "> __My functions above is pretty optimised in my opinion, as they utilise mostly Numpy's vectorised and universal functions (ufunc). For computation of 1 million values of $z_0$ (I used `np.linspace(-3,3,1000)` for each axis), of which each value is iterated some number of times until the approximation is below the tolerated error, the computation time is only 1.65 second on an iMac with a core i5 @3.1 Ghz. This is impressive, Numpy, not me."
   ]
  },
  {
   "cell_type": "markdown",
   "metadata": {},
   "source": [
    "\n",
    "\n",
    "<!-- --- end exercise --- -->\n",
    "\n",
    "\n",
    "\n",
    "\n",
    "<!-- --- begin exercise --- -->\n",
    "\n",
    "# Exercice 7.4: <span style=\"color:red\">!!</span> Équation différentielle non-linéaire\n",
    "<div id=\"exer:newton-nonlinear\"></div>\n",
    "\n",
    "Le but est de résoudre l'équation différentielle suivante avec conditions de valeurs limites:"
   ]
  },
  {
   "cell_type": "markdown",
   "metadata": {},
   "source": [
    "$$\n",
    "\\begin{align*}\n",
    "u^{\\prime\\prime}(x)+u^{3}(x) & = \\sin(x) \\,, & u(0) & = u(2\\pi) = 0 \\,,\n",
    "\\end{align*}\n",
    "$$"
   ]
  },
  {
   "cell_type": "markdown",
   "metadata": {},
   "source": [
    "sur l'intervalle $[0,2\\pi]$. Cette équation est un modèle simplifié pour une équation de Schrödinger non-linéaire.\n",
    "\n",
    "La méthode employée est les différences finies qui consistent à chercher les valeurs de $u$ aux points $x_n = \\frac{2\\pi n}{N}$ pour $n=0,1,\\dots,N$. Les inconnues sont alors les nombres $u_n = u(x_n)$ et forment un vecteur de dimension $N+1$. La méthode des différences finies consiste à approximer la dérivée seconde par"
   ]
  },
  {
   "cell_type": "markdown",
   "metadata": {},
   "source": [
    "$$\n",
    "u^{\\prime\\prime}(x) \\approx \\frac{u(x+h)-2u(x)+u(x-h)}{h^{2}} \\,,\n",
    "$$"
   ]
  },
  {
   "cell_type": "markdown",
   "metadata": {},
   "source": [
    "lorsque $h$ est petit.\n",
    "En prenant $h=\\frac{2\\pi}{N}$, alors:"
   ]
  },
  {
   "cell_type": "markdown",
   "metadata": {},
   "source": [
    "$$\n",
    "u^{\\prime\\prime}(x_n) \\approx \\frac{u_{n+1}-2u_n+u_{n-1}}{h^{2}} \\,,\n",
    "$$"
   ]
  },
  {
   "cell_type": "markdown",
   "metadata": {},
   "source": [
    "et donc l'équation initiale s'approxime par:"
   ]
  },
  {
   "cell_type": "markdown",
   "metadata": {},
   "source": [
    "$$\n",
    "\\begin{align*}\n",
    "\\frac{u_{n+1}-2u_{n}+u_{n-1}}{h^{2}}+u_{n}^{3} & = \\sin(x_{n}) \\,, & u_{0} & = u_{N} = 0 \\,,\n",
    "\\end{align*}\n",
    "$$"
   ]
  },
  {
   "cell_type": "markdown",
   "metadata": {},
   "source": [
    "pour $n=1,2,\\dots,N-1$.\n",
    "Cette équation peut être vue comme une équation du type $F(\\boldsymbol{u})=\\boldsymbol{0}$ pour $\\boldsymbol{u} = (u_n)_ {n=0}^{N}$ et donc être résolue par la méthode de Newton.\n",
    "\n",
    "\n",
    "**a)**\n",
    "Montrer l'approximation suivante:"
   ]
  },
  {
   "cell_type": "markdown",
   "metadata": {},
   "source": [
    "$$\n",
    "u^{\\prime\\prime}(x) = \\frac{u(x+h)-2u(x)+u(x-h)}{h^{2}} + O(h^2) \\quad \\text{lorsque} \\quad h \\to 0 \\,.\n",
    "$$"
   ]
  },
  {
   "cell_type": "markdown",
   "metadata": {},
   "source": [
    "<!-- --- begin hint in exercise --- -->\n",
    "\n",
    "**Indication:**\n",
    "Utiliser le théorème de Taylor.\n",
    "\n",
    "<!-- --- end hint in exercise --- -->\n",
    "\n"
   ]
  },
  {
   "cell_type": "markdown",
   "metadata": {},
   "source": [
    "> $$\n",
    "\\begin{align}\n",
    "{}&   \\lim_{h \\rightarrow 0} \\frac{u(x+h)-2u(x)+u(x-h)}{h^2}+O(h^2) \\\\\n",
    "= {}& \\lim_{h \\rightarrow 0} {\\dfrac{1}{h}\\left[\\dfrac{u\\left(x+h\\right)-u(x)}{h}-\\dfrac{u(x)-u\\left(x-h\\right)}{h}\\right]}+O(h^2) \\\\\n",
    "= {}& \\lim_{h \\rightarrow 0} \\frac{u'(x+h)-u'(x)}{h} + O(h^2) \\\\\n",
    "= {}& u''(x)\n",
    "\\end{align}\n",
    "$$"
   ]
  },
  {
   "cell_type": "markdown",
   "metadata": {},
   "source": [
    "\n",
    "\n",
    "**b)**\n",
    "Définir un vecteur `x` représentant les $N+1$ points équidistribués dans $[0,1]$ et `h` la distance entre les points, avec par exemple $N=200$.\n",
    "\n"
   ]
  },
  {
   "cell_type": "code",
   "execution_count": 3,
   "metadata": {},
   "outputs": [],
   "source": [
    "import numpy as np\n",
    "\n",
    "N = 200\n",
    "x = np.linspace(0, 1, N+1)\n",
    "h = 1/N"
   ]
  },
  {
   "cell_type": "markdown",
   "metadata": {},
   "source": [
    "\n",
    "**c)**\n",
    "Définir une fonction `F(u)` représentant la fonction $F:\\mathbb{R}^{N+1} \\to \\mathbb{R}^{N+1}$ permettant de mettre l'équation approchée sous la forme $F(\\boldsymbol{u})=\\boldsymbol{0}$.\n",
    "\n",
    "<!-- --- begin hint in exercise --- -->\n",
    "\n",
    "**Indication:**\n",
    "Pour avoir une implémentation rapide, il est impératif de ne pas utiliser une boucle pour construire $F$ mais d'utiliser le slicing Numpy.\n",
    "\n",
    "<!-- --- end hint in exercise --- -->\n",
    "\n"
   ]
  },
  {
   "cell_type": "code",
   "execution_count": null,
   "metadata": {},
   "outputs": [],
   "source": [
    "def F(u):\n",
    "    "
   ]
  },
  {
   "cell_type": "markdown",
   "metadata": {},
   "source": [
    "\n",
    "**d)**\n",
    "Définir une fonction `DF(u)` représentant la jacobienne de la fonction précédente.\n",
    "\n",
    "<!-- --- begin hint in exercise --- -->\n",
    "\n",
    "**Indication:**\n",
    "La jacobienne est la dérivée de $F(\\boldsymbol{u})=F(u_0,u_1,\\dots,u_{N})$ par rapport à $\\boldsymbol{u} = (u_0,u_1,\\dots,u_{N})$, c'est à dire:"
   ]
  },
  {
   "cell_type": "markdown",
   "metadata": {},
   "source": [
    "$$\n",
    "F^{\\prime}(\\boldsymbol{u})=\\begin{pmatrix}\\partial_{0}F(\\boldsymbol{u}) & \\partial_{1}F(\\boldsymbol{u}) & \\partial_{2}F(\\boldsymbol{u}) & \\cdots & \\partial_{N-1}F(\\boldsymbol{u}) & \\partial_{N}F(\\boldsymbol{u})\\end{pmatrix}\\,,\n",
    "$$"
   ]
  },
  {
   "cell_type": "markdown",
   "metadata": {},
   "source": [
    "et peut se calculer explicitement à la main.\n",
    "\n",
    "<!-- --- end hint in exercise --- -->\n",
    "\n"
   ]
  },
  {
   "cell_type": "markdown",
   "metadata": {},
   "source": [
    "\n",
    "\n",
    "**e)**\n",
    "Utiliser la fonction `newton` définie précédemment pour calculer une solution approchée de l'équation. En changeant de valeurs initiales, est-il possible de trouver d'autres solutions ?\n",
    "\n",
    "<!-- --- begin hint in exercise --- -->\n",
    "\n",
    "**Indication:**\n",
    "Essayer avec la donnée initiale $u_0(x) = (1+k)\\sin(kx)$ pour $k=1,2,3,4$ comme point de départ de la méthode de Newton.\n",
    "\n",
    "<!-- --- end hint in exercise --- -->\n",
    "\n"
   ]
  },
  {
   "cell_type": "markdown",
   "metadata": {},
   "source": [
    "\n",
    "<!-- --- end exercise --- -->"
   ]
  }
 ],
 "metadata": {
  "kernelspec": {
   "display_name": "Python 3",
   "language": "python",
   "name": "python3"
  },
  "language_info": {
   "codemirror_mode": {
    "name": "ipython",
    "version": 3
   },
   "file_extension": ".py",
   "mimetype": "text/x-python",
   "name": "python",
   "nbconvert_exporter": "python",
   "pygments_lexer": "ipython3",
   "version": "3.8.1"
  }
 },
 "nbformat": 4,
 "nbformat_minor": 4
}
