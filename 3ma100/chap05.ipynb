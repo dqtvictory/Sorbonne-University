{
 "cells": [
  {
   "cell_type": "markdown",
   "metadata": {},
   "source": [
    "<!-- dom:TITLE: Programmation Python  pour les mathématiques -->\n",
    "# Python Programming for Mathematics\n",
    "<!-- dom:AUTHOR: Julien Guillod at [Sorbonne Université](http://www.sorbonne-universite.fr/), -->\n",
    "<!-- Author: -->  \n",
    "**Julien Guillod**, [Sorbonne Université](http://www.sorbonne-universite.fr/),\n",
    "Licensed <a href=\"https://creativecommons.org/licenses/by-nc-nd/4.0/\">CC BY-NC-ND</a>\n",
    "\n",
    "\n",
    "All chapters are available in\n",
    "[HTML](https://python.guillod.org//) and [PDF](https://python.guillod.org//python.pdf).\n",
    "This notebook is also executed on [mybinder](https://mybinder.org/v2/gh/juguillod/python/master?filepath=chap05.ipynb).\n",
    "\n",
    "\n",
    "\n",
    "\n",
    "\n",
    "\n",
    "# 5 Graph theory\n",
    "<div id=\"ch:graphes\"></div>\n",
    "\n",
    "A graph is a pair $G = (X, E)$ made of a non-empty and finite set $X$, and another set $E$ of pairs of elements in $X$. The elements in $X$ represent the vertices of the graph $G$, and those in $E$ are edges of $G$.\n",
    "A graph is oriented when there are directions, meaning the pairs of elements in $E$ are ordered lists, meaning $(i,j) \\in E$ is not equivalent to $(j,i)\\in E$. The scope of this lesson considers only non-oriented graphs, meaning the order of any pair of elements of $X$ are not taken into account ($\\{i,j\\} \\in E$).\n",
    "\n",
    "For example, a complete graph of $n$ vertices $K_n$ is a graph with $X = {1,2,\\dots,n}$ having as edges all possible combinations of pair of elements in $X$. In particular, $K_4 = (X,E)$ where $X=\\{1,2,3,4\\}$ and $E = \\big\\{ \\{1,2\\}, \\{1,3\\}, \\{1,4\\}, \\{2, 3\\}, \\{2, 4\\}, \\{3, 4\\}  \\big\\}$.\n",
    "\n",
    "**This chapter covers:**\n",
    "\n",
    "* non-oriented graphs\n",
    "\n",
    "* dictionary-like representation\n",
    "\n",
    "* utilisation of frozensets\n",
    "\n",
    "* matrix of adjacency\n",
    "\n",
    "* finding path and triangles\n",
    "\n",
    "* recursive functions\n",
    "\n",
    "\n",
    "\n",
    "\n",
    "\n",
    "<!-- --- begin exercise --- -->\n",
    "\n",
    "# Exercise 5.1: Dictionary-like graph\n",
    "\n",
    "One way to represent $G$ is to create a Python dictionary where the keys represent the graph's vertices, and the associated values $x \\in X$ represents its neighbors.\n",
    "\n",
    "\n",
    "**a)**\n",
    "Construct the following graphs using dictionaries:\n",
    "<!-- dom:FIGURE: [https://python.guillod.org/fig/graphes.png, width=800 frac=0.9] -->\n",
    "<!-- begin figure -->\n",
    "\n",
    "<p></p>\n",
    "<img src=\"https://python.guillod.org/fig/graphes.png\" width=800>\n",
    "\n",
    "<!-- end figure -->\n",
    "\n"
   ]
  },
  {
   "cell_type": "code",
   "execution_count": 1,
   "metadata": {},
   "outputs": [],
   "source": [
    "g1 = {1:{2,5}, 2:{1,3,5}, 3:{2,4}, 4:{3,5,6}, 5:{1,2,4}, 6:{4}}\n",
    "g2 = {1:{2,3,4,5}, 2:{1,3,4,5}, 3:{1,2,4,5}, 4:{1,2,3,5}, 5:{1,2,3,4}}\n",
    "g3 = {1:{3,4,6}, 2:{4,5,7}, 3:{1,5,8}, 4:{1,2,9}, 5:{2,3,10}, 6:{1,7,10}, 7:{2,6,8}, 8:{3,7,9}, 9:{4,8,10}, 10:{5,6,9}}"
   ]
  },
  {
   "cell_type": "markdown",
   "metadata": {},
   "source": [
    "\n",
    "**b)**\n",
    "Write a function `complete(n)` constructing a dictionary of a complete graph $K_n$.\n"
   ]
  },
  {
   "cell_type": "code",
   "execution_count": 2,
   "metadata": {},
   "outputs": [
    {
     "data": {
      "text/plain": [
       "{1: {2, 3, 4, 5, 6},\n",
       " 2: {1, 3, 4, 5, 6},\n",
       " 3: {1, 2, 4, 5, 6},\n",
       " 4: {1, 2, 3, 5, 6},\n",
       " 5: {1, 2, 3, 4, 6},\n",
       " 6: {1, 2, 3, 4, 5}}"
      ]
     },
     "execution_count": 2,
     "metadata": {},
     "output_type": "execute_result"
    }
   ],
   "source": [
    "def complete(n):\n",
    "    g = dict()\n",
    "    vertices = {s for s in range(1,n+1)}\n",
    "    for i in range(1, n+1):\n",
    "        g[i] = vertices - {i}\n",
    "    return g\n",
    "\n",
    "complete(6)"
   ]
  },
  {
   "cell_type": "markdown",
   "metadata": {},
   "source": [
    "\n",
    "**c)**\n",
    "A graph's dictionary contains one information multiple times. Write a function `correction(graph)` correcting any missing elements so that for any vertex `x`, if `y` is in `graph[x]` then `y` must also be a key and `x` must be in `graph[y]`. Test the function afterwards.\n"
   ]
  },
  {
   "cell_type": "code",
   "execution_count": 3,
   "metadata": {},
   "outputs": [
    {
     "data": {
      "text/plain": [
       "{1: {2, 3, 5}, 2: {1, 5}, 3: {1, 5}, 5: {1, 2, 3, 4}, 4: {5}}"
      ]
     },
     "execution_count": 3,
     "metadata": {},
     "output_type": "execute_result"
    }
   ],
   "source": [
    "def correction(g):\n",
    "    corrected = dict()\n",
    "    \n",
    "    # First we loop through each key-element pair in the g dictionary, if the key is not already in the final results, we add\n",
    "    # this key as a new key. Then we loop through its set of values, which contains all of its neighbors. If the neighbor does\n",
    "    # not yet exist as key in corrected, we add a new set as value with first element as the current neighbor's dictionary key.\n",
    "    # If existed, we add this key to the current set. Sounds complex but actually very easy to understand if you look at the code.\n",
    "    # In the end we must make sure that for any value in the set of each key, the same key must exist in the set that that\n",
    "    # value holds as key.\n",
    "    \n",
    "    for vertex in g:\n",
    "        if vertex not in corrected:\n",
    "            corrected[vertex] = set()\n",
    "        for neighbor in g[vertex]:\n",
    "            if neighbor not in corrected:\n",
    "                corrected[neighbor] = {vertex}\n",
    "            else:\n",
    "                corrected[neighbor].add(vertex)\n",
    "            corrected[vertex].add(neighbor)\n",
    "    return corrected\n",
    "\n",
    "g = {1:{2,3,5},5:{2,4},3:{1,5}}\n",
    "correction(g)"
   ]
  },
  {
   "cell_type": "markdown",
   "metadata": {},
   "source": [
    "\n",
    "**d)**\n",
    "Write a function returning the set (type `set`) of all edges of a graph from its dictionary."
   ]
  },
  {
   "cell_type": "code",
   "execution_count": 4,
   "metadata": {},
   "outputs": [
    {
     "data": {
      "text/plain": [
       "{(1, 2), (1, 3), (1, 5), (2, 5), (3, 5), (4, 5)}"
      ]
     },
     "execution_count": 4,
     "metadata": {},
     "output_type": "execute_result"
    }
   ],
   "source": [
    "# By convention, we should write the edges as a pair (i.e. tuple) of vertices with the smaller valued vertex first\n",
    "\n",
    "def edges(g):\n",
    "    all_edges = set()\n",
    "    for x in g:\n",
    "        for y in g[x]:\n",
    "            if (min(x,y),max(x,y)) not in all_edges:\n",
    "                all_edges.add((min(x,y),max(x,y)))\n",
    "    return all_edges\n",
    "\n",
    "g = correction(g)\n",
    "edges(g)"
   ]
  },
  {
   "cell_type": "markdown",
   "metadata": {},
   "source": [
    "\n",
    "**e)**\n",
    "<span style=\"color:red\">!</span> Write a function returning whether 2 vertices are connected or not, and if so return the path between these 2 vertices.\n",
    "\n",
    "<!-- --- begin hint in exercise --- -->\n",
    "\n",
    "**Indication:**\n",
    "Write a recursive function.\n",
    "\n",
    "<!-- --- end hint in exercise --- -->\n",
    "\n"
   ]
  },
  {
   "cell_type": "code",
   "execution_count": 5,
   "metadata": {},
   "outputs": [
    {
     "name": "stdout",
     "output_type": "stream",
     "text": [
      "[1, 2, 3, 4]\n",
      "None\n"
     ]
    }
   ],
   "source": [
    "def path_finder(g, a, b, passage = []):\n",
    "    # This recursive function uses the DFS (depth first search) algorithm looping through all neighbors of vertex a to\n",
    "    # look for b. A list of passage is memorised to keep track of visited vertices. If we cannot find b in the\n",
    "    # neighborhood of a, we continue to look into all neighbors of those of a, until we reach the end of its\n",
    "    # connectivity (all points that connected together). In case of not finding b in a's connectivity, return None\n",
    "    \n",
    "    passage.append(a)\n",
    "    if b in g[a]:\n",
    "        passage.append(b)\n",
    "        return passage\n",
    "    for neigh in g[a]:\n",
    "        if neigh not in passage:\n",
    "            return path_finder(g, neigh, b, passage)\n",
    "    return None    \n",
    "        \n",
    "g = {1:{2,5}, 2:{1,3,5}, 3:{2,4}, 4:{3,5,6}, 5:{1,2,4}, 6:{4}, 7:{8,9}, 8:{7,9}, 9:{7,8}}\n",
    "print(path_finder(g, 1, 4))\n",
    "print(path_finder(g, 2, 8))"
   ]
  },
  {
   "cell_type": "markdown",
   "metadata": {},
   "source": [
    "**f)**\n",
    "<span style=\"color:red\">!</span> Write a function returning all possible paths between 2 vertices (without cycle)."
   ]
  },
  {
   "cell_type": "code",
   "execution_count": null,
   "metadata": {},
   "outputs": [],
   "source": [
    "# Difficult..."
   ]
  },
  {
   "cell_type": "markdown",
   "metadata": {},
   "source": [
    "\n",
    "\n",
    "<!-- --- end exercise --- -->\n",
    "\n",
    "\n",
    "\n",
    "\n",
    "<!-- --- begin exercise --- -->\n",
    "\n",
    "# Exercise 5.2: Triangles in a graph\n",
    "\n",
    "A triangle in a graph is a set of 3 vertices inter-connected by 3 edges. Researching and analysing triangles in a graph is essential in understanding its structure.\n",
    "\n",
    "\n",
    "**a)**\n",
    "Determine the number of 3-element subsets of vertices in a graph."
   ]
  },
  {
   "cell_type": "code",
   "execution_count": 6,
   "metadata": {},
   "outputs": [
    {
     "data": {
      "text/plain": [
       "84"
      ]
     },
     "execution_count": 6,
     "metadata": {},
     "output_type": "execute_result"
    }
   ],
   "source": [
    "from math import comb\n",
    "\n",
    "def subset_3(g):\n",
    "    return comb(len(g), 3)\n",
    "        \n",
    "\n",
    "subset_3(g)"
   ]
  },
  {
   "cell_type": "markdown",
   "metadata": {},
   "source": [
    "**b)**\n",
    "Write a function returning the set of all triangles of a graph."
   ]
  },
  {
   "cell_type": "code",
   "execution_count": 7,
   "metadata": {},
   "outputs": [
    {
     "data": {
      "text/plain": [
       "{(1, 2, 5), (7, 8, 9)}"
      ]
     },
     "execution_count": 7,
     "metadata": {},
     "output_type": "execute_result"
    }
   ],
   "source": [
    "def triangle(g):\n",
    "    all_edges = edges(g)\n",
    "    triangles = set()\n",
    "    \n",
    "    # First we loop through all edges of the graph, which are pairs of 2 neighboring vertices. If these vertices share\n",
    "    # some common neighbors, then these 3 vertices form a triangle.\n",
    "    for v1, v2 in all_edges:\n",
    "        intersect = g[v1].intersection(g[v2])\n",
    "        for v3 in intersect:\n",
    "            triangles.add(tuple(sorted([v1, v2, v3])))\n",
    "    return triangles\n",
    "\n",
    "triangle(g)"
   ]
  },
  {
   "cell_type": "markdown",
   "metadata": {},
   "source": [
    "Each graph $G=(X,E)$ corresponds to a unique symmetrical matrix $A$ of size $n \\times n$ with $n=|X|$ defined by:"
   ]
  },
  {
   "cell_type": "markdown",
   "metadata": {},
   "source": [
    "$$\n",
    "A_{ij}=\\begin{cases}\n",
    "1\\,, & \\text{si}\\;\\{i,j\\}\\in E\\,,\\\\ \n",
    "0\\,, & \\text{si}\\;\\{i,j\\}\\notin E\\,.\n",
    "\\end{cases}\n",
    "$$"
   ]
  },
  {
   "cell_type": "markdown",
   "metadata": {},
   "source": [
    "This matrix is called the matrix of adjacency of the graph $G$.\n",
    "\n",
    "**c)**\n",
    "Define a function returning the matrix of adjacency of a graph."
   ]
  },
  {
   "cell_type": "code",
   "execution_count": 8,
   "metadata": {},
   "outputs": [
    {
     "data": {
      "text/plain": [
       "array([[0, 1, 0, 0, 1, 0, 0, 0, 0],\n",
       "       [1, 0, 1, 0, 1, 0, 0, 0, 0],\n",
       "       [0, 1, 0, 1, 0, 0, 0, 0, 0],\n",
       "       [0, 0, 1, 0, 1, 1, 0, 0, 0],\n",
       "       [1, 1, 0, 1, 0, 0, 0, 0, 0],\n",
       "       [0, 0, 0, 1, 0, 0, 0, 0, 0],\n",
       "       [0, 0, 0, 0, 0, 0, 0, 1, 1],\n",
       "       [0, 0, 0, 0, 0, 0, 1, 0, 1],\n",
       "       [0, 0, 0, 0, 0, 0, 1, 1, 0]], dtype=int8)"
      ]
     },
     "execution_count": 8,
     "metadata": {},
     "output_type": "execute_result"
    }
   ],
   "source": [
    "import numpy as np\n",
    "\n",
    "def adjacency_matrix(g):\n",
    "    # Assuming all vertices are numbered correctly starting from 1\n",
    "    # First, grab all edges of the graph, then create a square zero matrix of size len(g) (number of vertices)\n",
    "    all_edges = edges(g)\n",
    "    matrix = np.zeros((len(g),len(g)), dtype='int8')\n",
    "    \n",
    "    # Loop through all edges to grab their 2 vertices, then modify directly the corresponding matrix cells\n",
    "    # [i-1,j-1] and [j-1,i-1]\n",
    "    for (i, j) in all_edges:\n",
    "        matrix[i-1,j-1] = 1\n",
    "        matrix[j-1,i-1] = 1\n",
    "    return matrix\n",
    "\n",
    "adjacency_matrix(g)"
   ]
  },
  {
   "cell_type": "markdown",
   "metadata": {},
   "source": [
    "\n",
    "**d)**\n",
    "Define a function taking a matrix of adjacency as argument and returning a dictionary representation of the graph."
   ]
  },
  {
   "cell_type": "code",
   "execution_count": 9,
   "metadata": {},
   "outputs": [
    {
     "data": {
      "text/plain": [
       "{1: {2, 5},\n",
       " 2: {1, 3, 5},\n",
       " 3: {2, 4},\n",
       " 4: {3, 5, 6},\n",
       " 5: {1, 2, 4},\n",
       " 6: {4},\n",
       " 7: {8, 9},\n",
       " 8: {7, 9},\n",
       " 9: {7, 8}}"
      ]
     },
     "execution_count": 9,
     "metadata": {},
     "output_type": "execute_result"
    }
   ],
   "source": [
    "def matrix_to_dict(m):\n",
    "    graph = dict()\n",
    "    \n",
    "    # Create empty sets as values of keys representing vertices\n",
    "    for n in range(len(m)):\n",
    "        graph[n+1] = set()\n",
    "    \n",
    "    # Loop through the upper triangle of the matrix, since the lower contains the same information \n",
    "    for i in range(len(m)-1):\n",
    "        for j in range(i+1,len(m)):\n",
    "            if m[i][j]:\n",
    "                graph[i+1].add(j+1)\n",
    "                graph[j+1].add(i+1)\n",
    "    return graph\n",
    "\n",
    "m = adjacency_matrix(g)\n",
    "\n",
    "matrix_to_dict(m)"
   ]
  },
  {
   "cell_type": "markdown",
   "metadata": {},
   "source": [
    "\n",
    "**e)**\n",
    "Using the matrix of adjacency $A$ and the matrix $B=A^2$, write a function returning the set of all triangles of a graph."
   ]
  },
  {
   "cell_type": "code",
   "execution_count": 10,
   "metadata": {},
   "outputs": [
    {
     "data": {
      "text/plain": [
       "{(1, 2, 5), (7, 8, 9)}"
      ]
     },
     "execution_count": 10,
     "metadata": {},
     "output_type": "execute_result"
    }
   ],
   "source": [
    "def set_of_triangles(A):\n",
    "    # The algorithm of this function is to calculate the square of the adjacency matrix A where the value of cell\n",
    "    # [i, j] = n is the number of distinct paths between vertices i and j of length 2, meaning there is/are\n",
    "    # exactly n unique paths (i, X, j) in which X is a common neighbor of i and j.\n",
    "    \n",
    "    # Thus, if there is at least one path from i to j, the only thing left is to verify if i and j are connected\n",
    "    # themselves, by looking up their corresponding cell in the original adjacency matrix. If so, we can look for\n",
    "    # their set of common neighbors {k}, and conclude that {i, k, j} forms a triangle.\n",
    "    \n",
    "    B = np.linalg.matrix_power(A,2)\n",
    "    n = len(A)\n",
    "    triangles = set()\n",
    "    \n",
    "    for i in range(n-1):\n",
    "        for j in range(i+1,n):\n",
    "            if B[i,j] and A[i,j]:\n",
    "                for k in range(n):\n",
    "                    if A[i,k] == A[j,k] == 1:\n",
    "                        triangles.add(tuple(sorted([i+1, j+1, k+1])))\n",
    "    return triangles\n",
    "\n",
    "set_of_triangles(m)    "
   ]
  },
  {
   "cell_type": "markdown",
   "metadata": {},
   "source": [
    "\n",
    "**f)**\n",
    "Using the matrix of adjacency $A$, write a function calculating the number of triangles in a graph.\n",
    "\n",
    "<!-- --- begin hint in exercise --- -->\n",
    "\n",
    "**Indication:**\n",
    "Interpret the meaning of matrix $A^n$.\n",
    "\n",
    "<!-- --- end hint in exercise --- -->\n",
    "\n"
   ]
  },
  {
   "cell_type": "code",
   "execution_count": 11,
   "metadata": {},
   "outputs": [
    {
     "data": {
      "text/plain": [
       "2"
      ]
     },
     "execution_count": 11,
     "metadata": {},
     "output_type": "execute_result"
    }
   ],
   "source": [
    "def num_of_triangles(A):\n",
    "    # First, it is important to understand that for all positive integer non-null n, for each cell in the matrix A^n,\n",
    "    # its value represents the number of distinct paths of length n between the 2 vertices (row, col) in the graph\n",
    "    # whose matrix of adjancency is A.\n",
    "    \n",
    "    # This function uses the fact that the number of triangles of a graph is one sixth of the trace of the cubic\n",
    "    # of the adjacency matrix. Proof: if there exists a triangle (i, j, k) then there are 2 cycles of length 3\n",
    "    # associated with this triangle starting and ending with each vertex i, j and k. Indeed, with vertex i,\n",
    "    # there are 2 cycles [i, j, k, i] and [i, k, j, i]. So for one triangle there are 6 cycles. The diagonal of the\n",
    "    # cubic matrix of A represents the number of 3-cycles starting and ending in one vertex (a triangle), hence\n",
    "    # one sixth of the trace.\n",
    "\n",
    "    B = np.linalg.matrix_power(A,3)\n",
    "    return np.trace(B)//6  # Use floor division to return an integer value\n",
    "\n",
    "num_of_triangles(m)"
   ]
  }
 ],
 "metadata": {
  "kernelspec": {
   "display_name": "Python 3",
   "language": "python",
   "name": "python3"
  },
  "language_info": {
   "codemirror_mode": {
    "name": "ipython",
    "version": 3
   },
   "file_extension": ".py",
   "mimetype": "text/x-python",
   "name": "python",
   "nbconvert_exporter": "python",
   "pygments_lexer": "ipython3",
   "version": "3.8.1"
  }
 },
 "nbformat": 4,
 "nbformat_minor": 4
}
